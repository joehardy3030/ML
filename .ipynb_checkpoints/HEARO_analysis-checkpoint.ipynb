{
 "cells": [
  {
   "cell_type": "code",
   "execution_count": 1,
   "metadata": {},
   "outputs": [],
   "source": [
    "import numpy as np\n",
    "import pandas as pd\n",
    "import matplotlib.pyplot as plt\n",
    "import datetime as dt"
   ]
  },
  {
   "cell_type": "code",
   "execution_count": 3,
   "metadata": {},
   "outputs": [],
   "source": [
    "df = pd.read_csv('LJJ_v2_report_20170424.csv')"
   ]
  },
  {
   "cell_type": "code",
   "execution_count": 8,
   "metadata": {},
   "outputs": [],
   "source": [
    "datetime_object = dt.datetime.strptime(df['Created Date'][0], '%m/%d/%Y')"
   ]
  },
  {
   "cell_type": "code",
   "execution_count": 13,
   "metadata": {},
   "outputs": [],
   "source": [
    "df['created_date'] = pd.to_datetime(pd.Series(df['Created Date']))"
   ]
  },
  {
   "cell_type": "code",
   "execution_count": 20,
   "metadata": {},
   "outputs": [
    {
     "data": {
      "text/plain": [
       "Index(['Opportunity Name', 'Opportunity ID', 'Person Account: Mobile',\n",
       "       'Created Date', 'Stage', 'Reason for closed and lost', 'Lego Level',\n",
       "       'Partner provider', 'First appointment', 'Time to first Appointment',\n",
       "       'Final appointment', 'Cancellation Type', 'Cancellation Category',\n",
       "       'Cancellation Point Of Time', 'Date quote first time approved',\n",
       "       'Date delivery receipt', 'Return Date', 'Number of Appointments',\n",
       "       'Last Activity', 'Opportunity Owner', 'created_date'],\n",
       "      dtype='object')"
      ]
     },
     "execution_count": 20,
     "metadata": {},
     "output_type": "execute_result"
    }
   ],
   "source": [
    "df.columns"
   ]
  },
  {
   "cell_type": "code",
   "execution_count": 26,
   "metadata": {},
   "outputs": [],
   "source": [
    "cc_stage_ct = pd.crosstab(df['Opportunity Owner'],df['Stage'])"
   ]
  },
  {
   "cell_type": "code",
   "execution_count": 23,
   "metadata": {},
   "outputs": [],
   "source": [
    "df['date_delivery_receipt'] = pd.to_datetime(pd.Series(df['Date delivery receipt']))"
   ]
  },
  {
   "cell_type": "code",
   "execution_count": 27,
   "metadata": {},
   "outputs": [
    {
     "data": {
      "text/html": [
       "<div>\n",
       "<style scoped>\n",
       "    .dataframe tbody tr th:only-of-type {\n",
       "        vertical-align: middle;\n",
       "    }\n",
       "\n",
       "    .dataframe tbody tr th {\n",
       "        vertical-align: top;\n",
       "    }\n",
       "\n",
       "    .dataframe thead th {\n",
       "        text-align: right;\n",
       "    }\n",
       "</style>\n",
       "<table border=\"1\" class=\"dataframe\">\n",
       "  <thead>\n",
       "    <tr style=\"text-align: right;\">\n",
       "      <th>Stage</th>\n",
       "      <th>Appointment to be made</th>\n",
       "      <th>Closed and lost</th>\n",
       "      <th>Closed and won</th>\n",
       "      <th>In Process</th>\n",
       "      <th>On hold</th>\n",
       "    </tr>\n",
       "    <tr>\n",
       "      <th>Opportunity Owner</th>\n",
       "      <th></th>\n",
       "      <th></th>\n",
       "      <th></th>\n",
       "      <th></th>\n",
       "      <th></th>\n",
       "    </tr>\n",
       "  </thead>\n",
       "  <tbody>\n",
       "    <tr>\n",
       "      <th>James Hopper</th>\n",
       "      <td>14</td>\n",
       "      <td>194</td>\n",
       "      <td>124</td>\n",
       "      <td>74</td>\n",
       "      <td>2</td>\n",
       "    </tr>\n",
       "    <tr>\n",
       "      <th>Jonathan Bode</th>\n",
       "      <td>2</td>\n",
       "      <td>157</td>\n",
       "      <td>72</td>\n",
       "      <td>38</td>\n",
       "      <td>5</td>\n",
       "    </tr>\n",
       "    <tr>\n",
       "      <th>Lesly Pichardo</th>\n",
       "      <td>3</td>\n",
       "      <td>245</td>\n",
       "      <td>90</td>\n",
       "      <td>36</td>\n",
       "      <td>3</td>\n",
       "    </tr>\n",
       "  </tbody>\n",
       "</table>\n",
       "</div>"
      ],
      "text/plain": [
       "Stage              Appointment to be made  Closed and lost  Closed and won  \\\n",
       "Opportunity Owner                                                            \n",
       "James Hopper                           14              194             124   \n",
       "Jonathan Bode                           2              157              72   \n",
       "Lesly Pichardo                          3              245              90   \n",
       "\n",
       "Stage              In Process  On hold  \n",
       "Opportunity Owner                       \n",
       "James Hopper               74        2  \n",
       "Jonathan Bode              38        5  \n",
       "Lesly Pichardo             36        3  "
      ]
     },
     "execution_count": 27,
     "metadata": {},
     "output_type": "execute_result"
    }
   ],
   "source": [
    "cc_stage_ct"
   ]
  },
  {
   "cell_type": "code",
   "execution_count": 29,
   "metadata": {},
   "outputs": [
    {
     "data": {
      "text/plain": [
       "Index(['Appointment to be made', 'Closed and lost', 'Closed and won',\n",
       "       'In Process', 'On hold'],\n",
       "      dtype='object', name='Stage')"
      ]
     },
     "execution_count": 29,
     "metadata": {},
     "output_type": "execute_result"
    }
   ],
   "source": [
    "cc_stage_ct.columns"
   ]
  },
  {
   "cell_type": "code",
   "execution_count": 30,
   "metadata": {},
   "outputs": [],
   "source": [
    "cc_stage_ct['success_rate'] = cc_stage_ct['Closed and won']/(cc_stage_ct['Closed and won']+cc_stage_ct['Closed and lost'])"
   ]
  },
  {
   "cell_type": "code",
   "execution_count": 31,
   "metadata": {},
   "outputs": [
    {
     "data": {
      "text/html": [
       "<div>\n",
       "<style scoped>\n",
       "    .dataframe tbody tr th:only-of-type {\n",
       "        vertical-align: middle;\n",
       "    }\n",
       "\n",
       "    .dataframe tbody tr th {\n",
       "        vertical-align: top;\n",
       "    }\n",
       "\n",
       "    .dataframe thead th {\n",
       "        text-align: right;\n",
       "    }\n",
       "</style>\n",
       "<table border=\"1\" class=\"dataframe\">\n",
       "  <thead>\n",
       "    <tr style=\"text-align: right;\">\n",
       "      <th>Stage</th>\n",
       "      <th>Appointment to be made</th>\n",
       "      <th>Closed and lost</th>\n",
       "      <th>Closed and won</th>\n",
       "      <th>In Process</th>\n",
       "      <th>On hold</th>\n",
       "      <th>success_rate</th>\n",
       "    </tr>\n",
       "    <tr>\n",
       "      <th>Opportunity Owner</th>\n",
       "      <th></th>\n",
       "      <th></th>\n",
       "      <th></th>\n",
       "      <th></th>\n",
       "      <th></th>\n",
       "      <th></th>\n",
       "    </tr>\n",
       "  </thead>\n",
       "  <tbody>\n",
       "    <tr>\n",
       "      <th>James Hopper</th>\n",
       "      <td>14</td>\n",
       "      <td>194</td>\n",
       "      <td>124</td>\n",
       "      <td>74</td>\n",
       "      <td>2</td>\n",
       "      <td>0.389937</td>\n",
       "    </tr>\n",
       "    <tr>\n",
       "      <th>Jonathan Bode</th>\n",
       "      <td>2</td>\n",
       "      <td>157</td>\n",
       "      <td>72</td>\n",
       "      <td>38</td>\n",
       "      <td>5</td>\n",
       "      <td>0.314410</td>\n",
       "    </tr>\n",
       "    <tr>\n",
       "      <th>Lesly Pichardo</th>\n",
       "      <td>3</td>\n",
       "      <td>245</td>\n",
       "      <td>90</td>\n",
       "      <td>36</td>\n",
       "      <td>3</td>\n",
       "      <td>0.268657</td>\n",
       "    </tr>\n",
       "  </tbody>\n",
       "</table>\n",
       "</div>"
      ],
      "text/plain": [
       "Stage              Appointment to be made  Closed and lost  Closed and won  \\\n",
       "Opportunity Owner                                                            \n",
       "James Hopper                           14              194             124   \n",
       "Jonathan Bode                           2              157              72   \n",
       "Lesly Pichardo                          3              245              90   \n",
       "\n",
       "Stage              In Process  On hold  success_rate  \n",
       "Opportunity Owner                                     \n",
       "James Hopper               74        2      0.389937  \n",
       "Jonathan Bode              38        5      0.314410  \n",
       "Lesly Pichardo             36        3      0.268657  "
      ]
     },
     "execution_count": 31,
     "metadata": {},
     "output_type": "execute_result"
    }
   ],
   "source": [
    "cc_stage_ct"
   ]
  },
  {
   "cell_type": "code",
   "execution_count": null,
   "metadata": {},
   "outputs": [],
   "source": []
  }
 ],
 "metadata": {
  "kernelspec": {
   "display_name": "Python 3",
   "language": "python",
   "name": "python3"
  },
  "language_info": {
   "codemirror_mode": {
    "name": "ipython",
    "version": 3
   },
   "file_extension": ".py",
   "mimetype": "text/x-python",
   "name": "python",
   "nbconvert_exporter": "python",
   "pygments_lexer": "ipython3",
   "version": "3.6.4"
  }
 },
 "nbformat": 4,
 "nbformat_minor": 2
}
