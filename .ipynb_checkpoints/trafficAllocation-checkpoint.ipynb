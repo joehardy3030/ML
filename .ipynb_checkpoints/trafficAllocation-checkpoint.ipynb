{
 "cells": [
  {
   "cell_type": "code",
   "execution_count": 1,
   "metadata": {},
   "outputs": [],
   "source": [
    "import numpy as np\n",
    "import pandas as pd\n",
    "import matplotlib.pyplot as plt\n",
    "import datetime as dt\n",
    "import string as str\n",
    "import seaborn as sns\n",
    "import os"
   ]
  },
  {
   "cell_type": "code",
   "execution_count": 6,
   "metadata": {},
   "outputs": [
    {
     "name": "stderr",
     "output_type": "stream",
     "text": [
      "c:\\users\\joe.hardy\\appdata\\local\\programs\\python\\python36-32\\lib\\site-packages\\IPython\\core\\interactiveshell.py:2728: DtypeWarning: Columns (42,43) have mixed types. Specify dtype option on import or set low_memory=False.\n",
      "  interactivity=interactivity, compiler=compiler, result=result)\n"
     ]
    }
   ],
   "source": [
    "df = pd.read_csv('./data/CW33_leads.csv')"
   ]
  },
  {
   "cell_type": "code",
   "execution_count": 7,
   "metadata": {},
   "outputs": [],
   "source": [
    "def make_date_cols(df):\n",
    "    df['lead_creation_datetime'] = pd.to_datetime(pd.Series(df['Lead Creation Datetime']))\n",
    "    df['created_date'] = pd.to_datetime(pd.Series(df['Created Date']))\n",
    "    df['datetime_of_first_call'] = pd.to_datetime(pd.Series(df['DateTime Of First Call']))\n",
    "    df['converted_date'] = pd.to_datetime(pd.Series(df['Converted Date']))\n",
    "    return(df)"
   ]
  },
  {
   "cell_type": "code",
   "execution_count": 8,
   "metadata": {},
   "outputs": [],
   "source": [
    "df = make_date_cols(df)"
   ]
  },
  {
   "cell_type": "code",
   "execution_count": 9,
   "metadata": {},
   "outputs": [
    {
     "data": {
      "text/plain": [
       "0         8/19/2018 0:00\n",
       "1        8/20/2018 14:10\n",
       "2        8/21/2018 10:43\n",
       "3        8/21/2018 15:34\n",
       "4        8/22/2018 11:09\n",
       "5         8/19/2018 0:04\n",
       "6        8/20/2018 14:10\n",
       "7        8/21/2018 10:43\n",
       "8        8/21/2018 15:34\n",
       "9        8/22/2018 11:09\n",
       "10        8/19/2018 0:11\n",
       "11       8/20/2018 14:10\n",
       "12       8/21/2018 10:44\n",
       "13       8/21/2018 15:34\n",
       "14       8/22/2018 11:09\n",
       "15        8/19/2018 0:13\n",
       "16       8/20/2018 14:11\n",
       "17       8/21/2018 10:44\n",
       "18       8/21/2018 15:34\n",
       "19       8/22/2018 11:09\n",
       "20        8/19/2018 0:15\n",
       "21       8/20/2018 14:11\n",
       "22       8/21/2018 10:44\n",
       "23       8/21/2018 15:34\n",
       "24       8/22/2018 11:09\n",
       "25        8/19/2018 0:17\n",
       "26       8/20/2018 14:11\n",
       "27       8/21/2018 10:44\n",
       "28       8/21/2018 15:34\n",
       "29       8/22/2018 11:10\n",
       "              ...       \n",
       "17401    8/25/2018 22:39\n",
       "17402    8/25/2018 22:47\n",
       "17403    8/25/2018 22:47\n",
       "17404    8/25/2018 22:49\n",
       "17405    8/25/2018 22:53\n",
       "17406    8/25/2018 22:53\n",
       "17407    8/25/2018 22:59\n",
       "17408    8/25/2018 23:00\n",
       "17409    8/25/2018 23:00\n",
       "17410    8/25/2018 23:03\n",
       "17411    8/25/2018 23:06\n",
       "17412    8/25/2018 23:08\n",
       "17413    8/25/2018 23:09\n",
       "17414    8/25/2018 23:10\n",
       "17415    8/25/2018 23:10\n",
       "17416    8/25/2018 23:12\n",
       "17417    8/25/2018 23:15\n",
       "17418    8/25/2018 23:17\n",
       "17419    8/25/2018 23:32\n",
       "17420    8/25/2018 23:32\n",
       "17421    8/25/2018 23:33\n",
       "17422    8/25/2018 23:42\n",
       "17423    8/25/2018 23:43\n",
       "17424    8/25/2018 23:45\n",
       "17425    8/25/2018 23:47\n",
       "17426    8/25/2018 23:47\n",
       "17427    8/25/2018 23:49\n",
       "17428    8/25/2018 23:49\n",
       "17429    8/25/2018 23:54\n",
       "17430    8/25/2018 23:57\n",
       "Name: Lead Creation Datetime, Length: 17431, dtype: object"
      ]
     },
     "execution_count": 9,
     "metadata": {},
     "output_type": "execute_result"
    }
   ],
   "source": [
    "df['Lead Creation Datetime']"
   ]
  },
  {
   "cell_type": "code",
   "execution_count": null,
   "metadata": {},
   "outputs": [],
   "source": [
    "df[:10]"
   ]
  }
 ],
 "metadata": {
  "kernelspec": {
   "display_name": "Python 3",
   "language": "python",
   "name": "python3"
  },
  "language_info": {
   "codemirror_mode": {
    "name": "ipython",
    "version": 3
   },
   "file_extension": ".py",
   "mimetype": "text/x-python",
   "name": "python",
   "nbconvert_exporter": "python",
   "pygments_lexer": "ipython3",
   "version": "3.6.4"
  }
 },
 "nbformat": 4,
 "nbformat_minor": 2
}
