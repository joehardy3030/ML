{
 "cells": [
  {
   "cell_type": "code",
   "execution_count": 1,
   "metadata": {
    "collapsed": true
   },
   "outputs": [],
   "source": [
    "import numpy as np"
   ]
  },
  {
   "cell_type": "code",
   "execution_count": 2,
   "metadata": {
    "collapsed": true
   },
   "outputs": [],
   "source": [
    "np.random.seed(0)"
   ]
  },
  {
   "cell_type": "code",
   "execution_count": 3,
   "metadata": {
    "collapsed": true
   },
   "outputs": [],
   "source": [
    "x1 = np.random.randint(10, size=6)\n",
    "x2 = np.random.randint(10, size=(3, 4))\n",
    "x3 = np.random.randint(10, size=(3, 4, 5))"
   ]
  },
  {
   "cell_type": "code",
   "execution_count": 4,
   "metadata": {
    "collapsed": false
   },
   "outputs": [
    {
     "data": {
      "text/plain": [
       "3"
      ]
     },
     "execution_count": 4,
     "metadata": {},
     "output_type": "execute_result"
    }
   ],
   "source": [
    "x3.ndim"
   ]
  },
  {
   "cell_type": "code",
   "execution_count": 5,
   "metadata": {
    "collapsed": false
   },
   "outputs": [
    {
     "data": {
      "text/plain": [
       "60"
      ]
     },
     "execution_count": 5,
     "metadata": {},
     "output_type": "execute_result"
    }
   ],
   "source": [
    "x3.size"
   ]
  },
  {
   "cell_type": "code",
   "execution_count": 6,
   "metadata": {
    "collapsed": false
   },
   "outputs": [
    {
     "data": {
      "text/plain": [
       "(3, 4, 5)"
      ]
     },
     "execution_count": 6,
     "metadata": {},
     "output_type": "execute_result"
    }
   ],
   "source": [
    "x3.shape"
   ]
  },
  {
   "cell_type": "code",
   "execution_count": 7,
   "metadata": {
    "collapsed": false
   },
   "outputs": [
    {
     "data": {
      "text/plain": [
       "dtype('int64')"
      ]
     },
     "execution_count": 7,
     "metadata": {},
     "output_type": "execute_result"
    }
   ],
   "source": [
    "x3.dtype"
   ]
  },
  {
   "cell_type": "code",
   "execution_count": 8,
   "metadata": {
    "collapsed": false
   },
   "outputs": [
    {
     "data": {
      "text/plain": [
       "8"
      ]
     },
     "execution_count": 8,
     "metadata": {},
     "output_type": "execute_result"
    }
   ],
   "source": [
    "x3.itemsize"
   ]
  },
  {
   "cell_type": "code",
   "execution_count": 9,
   "metadata": {
    "collapsed": true
   },
   "outputs": [],
   "source": [
    "x=np.arange(10)"
   ]
  },
  {
   "cell_type": "code",
   "execution_count": 10,
   "metadata": {
    "collapsed": false
   },
   "outputs": [
    {
     "data": {
      "text/plain": [
       "array([0, 1, 2, 3, 4, 5, 6, 7, 8, 9])"
      ]
     },
     "execution_count": 10,
     "metadata": {},
     "output_type": "execute_result"
    }
   ],
   "source": [
    "x"
   ]
  },
  {
   "cell_type": "code",
   "execution_count": 11,
   "metadata": {
    "collapsed": false
   },
   "outputs": [
    {
     "data": {
      "text/plain": [
       "array([2, 3, 4, 5, 6, 7, 8, 9])"
      ]
     },
     "execution_count": 11,
     "metadata": {},
     "output_type": "execute_result"
    }
   ],
   "source": [
    "x[2:]"
   ]
  },
  {
   "cell_type": "code",
   "execution_count": 12,
   "metadata": {
    "collapsed": false
   },
   "outputs": [
    {
     "data": {
      "text/plain": [
       "array([9])"
      ]
     },
     "execution_count": 12,
     "metadata": {},
     "output_type": "execute_result"
    }
   ],
   "source": [
    "x[-1:]"
   ]
  },
  {
   "cell_type": "code",
   "execution_count": 14,
   "metadata": {
    "collapsed": false
   },
   "outputs": [
    {
     "data": {
      "text/plain": [
       "array([9, 8, 7, 6, 5, 4, 3, 2, 1])"
      ]
     },
     "execution_count": 14,
     "metadata": {},
     "output_type": "execute_result"
    }
   ],
   "source": [
    "x[-1:0:-1]"
   ]
  },
  {
   "cell_type": "code",
   "execution_count": 15,
   "metadata": {
    "collapsed": true
   },
   "outputs": [],
   "source": [
    "x4 = x3"
   ]
  },
  {
   "cell_type": "code",
   "execution_count": 16,
   "metadata": {
    "collapsed": false
   },
   "outputs": [
    {
     "data": {
      "text/plain": [
       "array([[[8, 1, 5, 9, 8],\n",
       "        [9, 4, 3, 0, 3],\n",
       "        [5, 0, 2, 3, 8],\n",
       "        [1, 3, 3, 3, 7]],\n",
       "\n",
       "       [[0, 1, 9, 9, 0],\n",
       "        [4, 7, 3, 2, 7],\n",
       "        [2, 0, 0, 4, 5],\n",
       "        [5, 6, 8, 4, 1]],\n",
       "\n",
       "       [[4, 9, 8, 1, 1],\n",
       "        [7, 9, 9, 3, 6],\n",
       "        [7, 2, 0, 3, 5],\n",
       "        [9, 4, 4, 6, 4]]])"
      ]
     },
     "execution_count": 16,
     "metadata": {},
     "output_type": "execute_result"
    }
   ],
   "source": [
    "x4"
   ]
  },
  {
   "cell_type": "code",
   "execution_count": 17,
   "metadata": {
    "collapsed": true
   },
   "outputs": [],
   "source": [
    "x4[0,0,0] = 0"
   ]
  },
  {
   "cell_type": "code",
   "execution_count": 18,
   "metadata": {
    "collapsed": false
   },
   "outputs": [
    {
     "data": {
      "text/plain": [
       "array([[[0, 1, 5, 9, 8],\n",
       "        [9, 4, 3, 0, 3],\n",
       "        [5, 0, 2, 3, 8],\n",
       "        [1, 3, 3, 3, 7]],\n",
       "\n",
       "       [[0, 1, 9, 9, 0],\n",
       "        [4, 7, 3, 2, 7],\n",
       "        [2, 0, 0, 4, 5],\n",
       "        [5, 6, 8, 4, 1]],\n",
       "\n",
       "       [[4, 9, 8, 1, 1],\n",
       "        [7, 9, 9, 3, 6],\n",
       "        [7, 2, 0, 3, 5],\n",
       "        [9, 4, 4, 6, 4]]])"
      ]
     },
     "execution_count": 18,
     "metadata": {},
     "output_type": "execute_result"
    }
   ],
   "source": [
    "x4"
   ]
  },
  {
   "cell_type": "code",
   "execution_count": 19,
   "metadata": {
    "collapsed": false
   },
   "outputs": [
    {
     "data": {
      "text/plain": [
       "array([[[0, 1, 5, 9, 8],\n",
       "        [9, 4, 3, 0, 3],\n",
       "        [5, 0, 2, 3, 8],\n",
       "        [1, 3, 3, 3, 7]],\n",
       "\n",
       "       [[0, 1, 9, 9, 0],\n",
       "        [4, 7, 3, 2, 7],\n",
       "        [2, 0, 0, 4, 5],\n",
       "        [5, 6, 8, 4, 1]],\n",
       "\n",
       "       [[4, 9, 8, 1, 1],\n",
       "        [7, 9, 9, 3, 6],\n",
       "        [7, 2, 0, 3, 5],\n",
       "        [9, 4, 4, 6, 4]]])"
      ]
     },
     "execution_count": 19,
     "metadata": {},
     "output_type": "execute_result"
    }
   ],
   "source": [
    "x3"
   ]
  },
  {
   "cell_type": "code",
   "execution_count": 20,
   "metadata": {
    "collapsed": true
   },
   "outputs": [],
   "source": [
    "x5=[]"
   ]
  },
  {
   "cell_type": "code",
   "execution_count": 21,
   "metadata": {
    "collapsed": true
   },
   "outputs": [],
   "source": [
    "x5=x3.copy()"
   ]
  },
  {
   "cell_type": "code",
   "execution_count": 22,
   "metadata": {
    "collapsed": true
   },
   "outputs": [],
   "source": [
    "x5[0,0,0] = 2"
   ]
  },
  {
   "cell_type": "code",
   "execution_count": 23,
   "metadata": {
    "collapsed": false
   },
   "outputs": [
    {
     "data": {
      "text/plain": [
       "(array([[[2, 1, 5, 9, 8],\n",
       "         [9, 4, 3, 0, 3],\n",
       "         [5, 0, 2, 3, 8],\n",
       "         [1, 3, 3, 3, 7]],\n",
       " \n",
       "        [[0, 1, 9, 9, 0],\n",
       "         [4, 7, 3, 2, 7],\n",
       "         [2, 0, 0, 4, 5],\n",
       "         [5, 6, 8, 4, 1]],\n",
       " \n",
       "        [[4, 9, 8, 1, 1],\n",
       "         [7, 9, 9, 3, 6],\n",
       "         [7, 2, 0, 3, 5],\n",
       "         [9, 4, 4, 6, 4]]]), array([[[0, 1, 5, 9, 8],\n",
       "         [9, 4, 3, 0, 3],\n",
       "         [5, 0, 2, 3, 8],\n",
       "         [1, 3, 3, 3, 7]],\n",
       " \n",
       "        [[0, 1, 9, 9, 0],\n",
       "         [4, 7, 3, 2, 7],\n",
       "         [2, 0, 0, 4, 5],\n",
       "         [5, 6, 8, 4, 1]],\n",
       " \n",
       "        [[4, 9, 8, 1, 1],\n",
       "         [7, 9, 9, 3, 6],\n",
       "         [7, 2, 0, 3, 5],\n",
       "         [9, 4, 4, 6, 4]]]))"
      ]
     },
     "execution_count": 23,
     "metadata": {},
     "output_type": "execute_result"
    }
   ],
   "source": [
    "x5, x3"
   ]
  },
  {
   "cell_type": "code",
   "execution_count": 24,
   "metadata": {
    "collapsed": false
   },
   "outputs": [
    {
     "data": {
      "text/plain": [
       "{'In': ['',\n",
       "  u'import numpy as np',\n",
       "  u'np.random.seed(0)',\n",
       "  u'x1 = np.random.randint(10, size=6)\\nx2 = np.random.randint(10, size=(3, 4))\\nx3 = np.random.randint(10, size=(3, 4, 5))',\n",
       "  u'x3.ndim',\n",
       "  u'x3.size',\n",
       "  u'x3.shape',\n",
       "  u'x3.dtype',\n",
       "  u'x3.itemsize',\n",
       "  u'x=np.arange(10)',\n",
       "  u'x',\n",
       "  u'x[2:]',\n",
       "  u'x[-1:]',\n",
       "  u'x[-1:0]',\n",
       "  u'x[-1:0:-1]',\n",
       "  u'x4 = x3',\n",
       "  u'x4',\n",
       "  u'x4[0,0,0] = 0',\n",
       "  u'x4',\n",
       "  u'x3',\n",
       "  u'x5=[]',\n",
       "  u'x5=x3.copy()',\n",
       "  u'x5[0,0,0] = 2',\n",
       "  u'x5, x3',\n",
       "  u'locals()'],\n",
       " 'Out': {4: 3,\n",
       "  5: 60,\n",
       "  6: (3, 4, 5),\n",
       "  7: dtype('int64'),\n",
       "  8: 8,\n",
       "  10: array([0, 1, 2, 3, 4, 5, 6, 7, 8, 9]),\n",
       "  11: array([2, 3, 4, 5, 6, 7, 8, 9]),\n",
       "  12: array([9]),\n",
       "  13: array([], dtype=int64),\n",
       "  14: array([9, 8, 7, 6, 5, 4, 3, 2, 1]),\n",
       "  16: array([[[0, 1, 5, 9, 8],\n",
       "          [9, 4, 3, 0, 3],\n",
       "          [5, 0, 2, 3, 8],\n",
       "          [1, 3, 3, 3, 7]],\n",
       "  \n",
       "         [[0, 1, 9, 9, 0],\n",
       "          [4, 7, 3, 2, 7],\n",
       "          [2, 0, 0, 4, 5],\n",
       "          [5, 6, 8, 4, 1]],\n",
       "  \n",
       "         [[4, 9, 8, 1, 1],\n",
       "          [7, 9, 9, 3, 6],\n",
       "          [7, 2, 0, 3, 5],\n",
       "          [9, 4, 4, 6, 4]]]),\n",
       "  18: array([[[0, 1, 5, 9, 8],\n",
       "          [9, 4, 3, 0, 3],\n",
       "          [5, 0, 2, 3, 8],\n",
       "          [1, 3, 3, 3, 7]],\n",
       "  \n",
       "         [[0, 1, 9, 9, 0],\n",
       "          [4, 7, 3, 2, 7],\n",
       "          [2, 0, 0, 4, 5],\n",
       "          [5, 6, 8, 4, 1]],\n",
       "  \n",
       "         [[4, 9, 8, 1, 1],\n",
       "          [7, 9, 9, 3, 6],\n",
       "          [7, 2, 0, 3, 5],\n",
       "          [9, 4, 4, 6, 4]]]),\n",
       "  19: array([[[0, 1, 5, 9, 8],\n",
       "          [9, 4, 3, 0, 3],\n",
       "          [5, 0, 2, 3, 8],\n",
       "          [1, 3, 3, 3, 7]],\n",
       "  \n",
       "         [[0, 1, 9, 9, 0],\n",
       "          [4, 7, 3, 2, 7],\n",
       "          [2, 0, 0, 4, 5],\n",
       "          [5, 6, 8, 4, 1]],\n",
       "  \n",
       "         [[4, 9, 8, 1, 1],\n",
       "          [7, 9, 9, 3, 6],\n",
       "          [7, 2, 0, 3, 5],\n",
       "          [9, 4, 4, 6, 4]]]),\n",
       "  23: (array([[[2, 1, 5, 9, 8],\n",
       "           [9, 4, 3, 0, 3],\n",
       "           [5, 0, 2, 3, 8],\n",
       "           [1, 3, 3, 3, 7]],\n",
       "   \n",
       "          [[0, 1, 9, 9, 0],\n",
       "           [4, 7, 3, 2, 7],\n",
       "           [2, 0, 0, 4, 5],\n",
       "           [5, 6, 8, 4, 1]],\n",
       "   \n",
       "          [[4, 9, 8, 1, 1],\n",
       "           [7, 9, 9, 3, 6],\n",
       "           [7, 2, 0, 3, 5],\n",
       "           [9, 4, 4, 6, 4]]]), array([[[0, 1, 5, 9, 8],\n",
       "           [9, 4, 3, 0, 3],\n",
       "           [5, 0, 2, 3, 8],\n",
       "           [1, 3, 3, 3, 7]],\n",
       "   \n",
       "          [[0, 1, 9, 9, 0],\n",
       "           [4, 7, 3, 2, 7],\n",
       "           [2, 0, 0, 4, 5],\n",
       "           [5, 6, 8, 4, 1]],\n",
       "   \n",
       "          [[4, 9, 8, 1, 1],\n",
       "           [7, 9, 9, 3, 6],\n",
       "           [7, 2, 0, 3, 5],\n",
       "           [9, 4, 4, 6, 4]]]))},\n",
       " '_': (array([[[2, 1, 5, 9, 8],\n",
       "          [9, 4, 3, 0, 3],\n",
       "          [5, 0, 2, 3, 8],\n",
       "          [1, 3, 3, 3, 7]],\n",
       "  \n",
       "         [[0, 1, 9, 9, 0],\n",
       "          [4, 7, 3, 2, 7],\n",
       "          [2, 0, 0, 4, 5],\n",
       "          [5, 6, 8, 4, 1]],\n",
       "  \n",
       "         [[4, 9, 8, 1, 1],\n",
       "          [7, 9, 9, 3, 6],\n",
       "          [7, 2, 0, 3, 5],\n",
       "          [9, 4, 4, 6, 4]]]), array([[[0, 1, 5, 9, 8],\n",
       "          [9, 4, 3, 0, 3],\n",
       "          [5, 0, 2, 3, 8],\n",
       "          [1, 3, 3, 3, 7]],\n",
       "  \n",
       "         [[0, 1, 9, 9, 0],\n",
       "          [4, 7, 3, 2, 7],\n",
       "          [2, 0, 0, 4, 5],\n",
       "          [5, 6, 8, 4, 1]],\n",
       "  \n",
       "         [[4, 9, 8, 1, 1],\n",
       "          [7, 9, 9, 3, 6],\n",
       "          [7, 2, 0, 3, 5],\n",
       "          [9, 4, 4, 6, 4]]])),\n",
       " '_10': array([0, 1, 2, 3, 4, 5, 6, 7, 8, 9]),\n",
       " '_11': array([2, 3, 4, 5, 6, 7, 8, 9]),\n",
       " '_12': array([9]),\n",
       " '_13': array([], dtype=int64),\n",
       " '_14': array([9, 8, 7, 6, 5, 4, 3, 2, 1]),\n",
       " '_16': array([[[0, 1, 5, 9, 8],\n",
       "         [9, 4, 3, 0, 3],\n",
       "         [5, 0, 2, 3, 8],\n",
       "         [1, 3, 3, 3, 7]],\n",
       " \n",
       "        [[0, 1, 9, 9, 0],\n",
       "         [4, 7, 3, 2, 7],\n",
       "         [2, 0, 0, 4, 5],\n",
       "         [5, 6, 8, 4, 1]],\n",
       " \n",
       "        [[4, 9, 8, 1, 1],\n",
       "         [7, 9, 9, 3, 6],\n",
       "         [7, 2, 0, 3, 5],\n",
       "         [9, 4, 4, 6, 4]]]),\n",
       " '_18': array([[[0, 1, 5, 9, 8],\n",
       "         [9, 4, 3, 0, 3],\n",
       "         [5, 0, 2, 3, 8],\n",
       "         [1, 3, 3, 3, 7]],\n",
       " \n",
       "        [[0, 1, 9, 9, 0],\n",
       "         [4, 7, 3, 2, 7],\n",
       "         [2, 0, 0, 4, 5],\n",
       "         [5, 6, 8, 4, 1]],\n",
       " \n",
       "        [[4, 9, 8, 1, 1],\n",
       "         [7, 9, 9, 3, 6],\n",
       "         [7, 2, 0, 3, 5],\n",
       "         [9, 4, 4, 6, 4]]]),\n",
       " '_19': array([[[0, 1, 5, 9, 8],\n",
       "         [9, 4, 3, 0, 3],\n",
       "         [5, 0, 2, 3, 8],\n",
       "         [1, 3, 3, 3, 7]],\n",
       " \n",
       "        [[0, 1, 9, 9, 0],\n",
       "         [4, 7, 3, 2, 7],\n",
       "         [2, 0, 0, 4, 5],\n",
       "         [5, 6, 8, 4, 1]],\n",
       " \n",
       "        [[4, 9, 8, 1, 1],\n",
       "         [7, 9, 9, 3, 6],\n",
       "         [7, 2, 0, 3, 5],\n",
       "         [9, 4, 4, 6, 4]]]),\n",
       " '_23': (array([[[2, 1, 5, 9, 8],\n",
       "          [9, 4, 3, 0, 3],\n",
       "          [5, 0, 2, 3, 8],\n",
       "          [1, 3, 3, 3, 7]],\n",
       "  \n",
       "         [[0, 1, 9, 9, 0],\n",
       "          [4, 7, 3, 2, 7],\n",
       "          [2, 0, 0, 4, 5],\n",
       "          [5, 6, 8, 4, 1]],\n",
       "  \n",
       "         [[4, 9, 8, 1, 1],\n",
       "          [7, 9, 9, 3, 6],\n",
       "          [7, 2, 0, 3, 5],\n",
       "          [9, 4, 4, 6, 4]]]), array([[[0, 1, 5, 9, 8],\n",
       "          [9, 4, 3, 0, 3],\n",
       "          [5, 0, 2, 3, 8],\n",
       "          [1, 3, 3, 3, 7]],\n",
       "  \n",
       "         [[0, 1, 9, 9, 0],\n",
       "          [4, 7, 3, 2, 7],\n",
       "          [2, 0, 0, 4, 5],\n",
       "          [5, 6, 8, 4, 1]],\n",
       "  \n",
       "         [[4, 9, 8, 1, 1],\n",
       "          [7, 9, 9, 3, 6],\n",
       "          [7, 2, 0, 3, 5],\n",
       "          [9, 4, 4, 6, 4]]])),\n",
       " '_4': 3,\n",
       " '_5': 60,\n",
       " '_6': (3, 4, 5),\n",
       " '_7': dtype('int64'),\n",
       " '_8': 8,\n",
       " '__': array([[[0, 1, 5, 9, 8],\n",
       "         [9, 4, 3, 0, 3],\n",
       "         [5, 0, 2, 3, 8],\n",
       "         [1, 3, 3, 3, 7]],\n",
       " \n",
       "        [[0, 1, 9, 9, 0],\n",
       "         [4, 7, 3, 2, 7],\n",
       "         [2, 0, 0, 4, 5],\n",
       "         [5, 6, 8, 4, 1]],\n",
       " \n",
       "        [[4, 9, 8, 1, 1],\n",
       "         [7, 9, 9, 3, 6],\n",
       "         [7, 2, 0, 3, 5],\n",
       "         [9, 4, 4, 6, 4]]]),\n",
       " '___': array([[[0, 1, 5, 9, 8],\n",
       "         [9, 4, 3, 0, 3],\n",
       "         [5, 0, 2, 3, 8],\n",
       "         [1, 3, 3, 3, 7]],\n",
       " \n",
       "        [[0, 1, 9, 9, 0],\n",
       "         [4, 7, 3, 2, 7],\n",
       "         [2, 0, 0, 4, 5],\n",
       "         [5, 6, 8, 4, 1]],\n",
       " \n",
       "        [[4, 9, 8, 1, 1],\n",
       "         [7, 9, 9, 3, 6],\n",
       "         [7, 2, 0, 3, 5],\n",
       "         [9, 4, 4, 6, 4]]]),\n",
       " '__builtin__': <module '__builtin__' (built-in)>,\n",
       " '__builtins__': <module '__builtin__' (built-in)>,\n",
       " '__doc__': 'Automatically created module for IPython interactive environment',\n",
       " '__name__': '__main__',\n",
       " '__package__': None,\n",
       " '_dh': [u'/Users/joe/Dev/ML'],\n",
       " '_i': u'x5, x3',\n",
       " '_i1': u'import numpy as np',\n",
       " '_i10': u'x',\n",
       " '_i11': u'x[2:]',\n",
       " '_i12': u'x[-1:]',\n",
       " '_i13': u'x[-1:0]',\n",
       " '_i14': u'x[-1:0:-1]',\n",
       " '_i15': u'x4 = x3',\n",
       " '_i16': u'x4',\n",
       " '_i17': u'x4[0,0,0] = 0',\n",
       " '_i18': u'x4',\n",
       " '_i19': u'x3',\n",
       " '_i2': u'np.random.seed(0)',\n",
       " '_i20': u'x5=[]',\n",
       " '_i21': u'x5=x3.copy()',\n",
       " '_i22': u'x5[0,0,0] = 2',\n",
       " '_i23': u'x5, x3',\n",
       " '_i24': u'locals()',\n",
       " '_i3': u'x1 = np.random.randint(10, size=6)\\nx2 = np.random.randint(10, size=(3, 4))\\nx3 = np.random.randint(10, size=(3, 4, 5))',\n",
       " '_i4': u'x3.ndim',\n",
       " '_i5': u'x3.size',\n",
       " '_i6': u'x3.shape',\n",
       " '_i7': u'x3.dtype',\n",
       " '_i8': u'x3.itemsize',\n",
       " '_i9': u'x=np.arange(10)',\n",
       " '_ih': ['',\n",
       "  u'import numpy as np',\n",
       "  u'np.random.seed(0)',\n",
       "  u'x1 = np.random.randint(10, size=6)\\nx2 = np.random.randint(10, size=(3, 4))\\nx3 = np.random.randint(10, size=(3, 4, 5))',\n",
       "  u'x3.ndim',\n",
       "  u'x3.size',\n",
       "  u'x3.shape',\n",
       "  u'x3.dtype',\n",
       "  u'x3.itemsize',\n",
       "  u'x=np.arange(10)',\n",
       "  u'x',\n",
       "  u'x[2:]',\n",
       "  u'x[-1:]',\n",
       "  u'x[-1:0]',\n",
       "  u'x[-1:0:-1]',\n",
       "  u'x4 = x3',\n",
       "  u'x4',\n",
       "  u'x4[0,0,0] = 0',\n",
       "  u'x4',\n",
       "  u'x3',\n",
       "  u'x5=[]',\n",
       "  u'x5=x3.copy()',\n",
       "  u'x5[0,0,0] = 2',\n",
       "  u'x5, x3',\n",
       "  u'locals()'],\n",
       " '_ii': u'x5[0,0,0] = 2',\n",
       " '_iii': u'x5=x3.copy()',\n",
       " '_oh': {4: 3,\n",
       "  5: 60,\n",
       "  6: (3, 4, 5),\n",
       "  7: dtype('int64'),\n",
       "  8: 8,\n",
       "  10: array([0, 1, 2, 3, 4, 5, 6, 7, 8, 9]),\n",
       "  11: array([2, 3, 4, 5, 6, 7, 8, 9]),\n",
       "  12: array([9]),\n",
       "  13: array([], dtype=int64),\n",
       "  14: array([9, 8, 7, 6, 5, 4, 3, 2, 1]),\n",
       "  16: array([[[0, 1, 5, 9, 8],\n",
       "          [9, 4, 3, 0, 3],\n",
       "          [5, 0, 2, 3, 8],\n",
       "          [1, 3, 3, 3, 7]],\n",
       "  \n",
       "         [[0, 1, 9, 9, 0],\n",
       "          [4, 7, 3, 2, 7],\n",
       "          [2, 0, 0, 4, 5],\n",
       "          [5, 6, 8, 4, 1]],\n",
       "  \n",
       "         [[4, 9, 8, 1, 1],\n",
       "          [7, 9, 9, 3, 6],\n",
       "          [7, 2, 0, 3, 5],\n",
       "          [9, 4, 4, 6, 4]]]),\n",
       "  18: array([[[0, 1, 5, 9, 8],\n",
       "          [9, 4, 3, 0, 3],\n",
       "          [5, 0, 2, 3, 8],\n",
       "          [1, 3, 3, 3, 7]],\n",
       "  \n",
       "         [[0, 1, 9, 9, 0],\n",
       "          [4, 7, 3, 2, 7],\n",
       "          [2, 0, 0, 4, 5],\n",
       "          [5, 6, 8, 4, 1]],\n",
       "  \n",
       "         [[4, 9, 8, 1, 1],\n",
       "          [7, 9, 9, 3, 6],\n",
       "          [7, 2, 0, 3, 5],\n",
       "          [9, 4, 4, 6, 4]]]),\n",
       "  19: array([[[0, 1, 5, 9, 8],\n",
       "          [9, 4, 3, 0, 3],\n",
       "          [5, 0, 2, 3, 8],\n",
       "          [1, 3, 3, 3, 7]],\n",
       "  \n",
       "         [[0, 1, 9, 9, 0],\n",
       "          [4, 7, 3, 2, 7],\n",
       "          [2, 0, 0, 4, 5],\n",
       "          [5, 6, 8, 4, 1]],\n",
       "  \n",
       "         [[4, 9, 8, 1, 1],\n",
       "          [7, 9, 9, 3, 6],\n",
       "          [7, 2, 0, 3, 5],\n",
       "          [9, 4, 4, 6, 4]]]),\n",
       "  23: (array([[[2, 1, 5, 9, 8],\n",
       "           [9, 4, 3, 0, 3],\n",
       "           [5, 0, 2, 3, 8],\n",
       "           [1, 3, 3, 3, 7]],\n",
       "   \n",
       "          [[0, 1, 9, 9, 0],\n",
       "           [4, 7, 3, 2, 7],\n",
       "           [2, 0, 0, 4, 5],\n",
       "           [5, 6, 8, 4, 1]],\n",
       "   \n",
       "          [[4, 9, 8, 1, 1],\n",
       "           [7, 9, 9, 3, 6],\n",
       "           [7, 2, 0, 3, 5],\n",
       "           [9, 4, 4, 6, 4]]]), array([[[0, 1, 5, 9, 8],\n",
       "           [9, 4, 3, 0, 3],\n",
       "           [5, 0, 2, 3, 8],\n",
       "           [1, 3, 3, 3, 7]],\n",
       "   \n",
       "          [[0, 1, 9, 9, 0],\n",
       "           [4, 7, 3, 2, 7],\n",
       "           [2, 0, 0, 4, 5],\n",
       "           [5, 6, 8, 4, 1]],\n",
       "   \n",
       "          [[4, 9, 8, 1, 1],\n",
       "           [7, 9, 9, 3, 6],\n",
       "           [7, 2, 0, 3, 5],\n",
       "           [9, 4, 4, 6, 4]]]))},\n",
       " '_sh': <module 'IPython.core.shadowns' from '/Users/joe/Dev/ML/ML/lib/python2.7/site-packages/IPython/core/shadowns.pyc'>,\n",
       " 'exit': <IPython.core.autocall.ZMQExitAutocall at 0x10a798790>,\n",
       " 'get_ipython': <bound method ZMQInteractiveShell.get_ipython of <ipykernel.zmqshell.ZMQInteractiveShell object at 0x10a64c190>>,\n",
       " 'np': <module 'numpy' from '/Users/joe/Dev/ML/ML/lib/python2.7/site-packages/numpy/__init__.pyc'>,\n",
       " 'quit': <IPython.core.autocall.ZMQExitAutocall at 0x10a798790>,\n",
       " 'x': array([0, 1, 2, 3, 4, 5, 6, 7, 8, 9]),\n",
       " 'x1': array([5, 0, 3, 3, 7, 9]),\n",
       " 'x2': array([[3, 5, 2, 4],\n",
       "        [7, 6, 8, 8],\n",
       "        [1, 6, 7, 7]]),\n",
       " 'x3': array([[[0, 1, 5, 9, 8],\n",
       "         [9, 4, 3, 0, 3],\n",
       "         [5, 0, 2, 3, 8],\n",
       "         [1, 3, 3, 3, 7]],\n",
       " \n",
       "        [[0, 1, 9, 9, 0],\n",
       "         [4, 7, 3, 2, 7],\n",
       "         [2, 0, 0, 4, 5],\n",
       "         [5, 6, 8, 4, 1]],\n",
       " \n",
       "        [[4, 9, 8, 1, 1],\n",
       "         [7, 9, 9, 3, 6],\n",
       "         [7, 2, 0, 3, 5],\n",
       "         [9, 4, 4, 6, 4]]]),\n",
       " 'x4': array([[[0, 1, 5, 9, 8],\n",
       "         [9, 4, 3, 0, 3],\n",
       "         [5, 0, 2, 3, 8],\n",
       "         [1, 3, 3, 3, 7]],\n",
       " \n",
       "        [[0, 1, 9, 9, 0],\n",
       "         [4, 7, 3, 2, 7],\n",
       "         [2, 0, 0, 4, 5],\n",
       "         [5, 6, 8, 4, 1]],\n",
       " \n",
       "        [[4, 9, 8, 1, 1],\n",
       "         [7, 9, 9, 3, 6],\n",
       "         [7, 2, 0, 3, 5],\n",
       "         [9, 4, 4, 6, 4]]]),\n",
       " 'x5': array([[[2, 1, 5, 9, 8],\n",
       "         [9, 4, 3, 0, 3],\n",
       "         [5, 0, 2, 3, 8],\n",
       "         [1, 3, 3, 3, 7]],\n",
       " \n",
       "        [[0, 1, 9, 9, 0],\n",
       "         [4, 7, 3, 2, 7],\n",
       "         [2, 0, 0, 4, 5],\n",
       "         [5, 6, 8, 4, 1]],\n",
       " \n",
       "        [[4, 9, 8, 1, 1],\n",
       "         [7, 9, 9, 3, 6],\n",
       "         [7, 2, 0, 3, 5],\n",
       "         [9, 4, 4, 6, 4]]])}"
      ]
     },
     "execution_count": 24,
     "metadata": {},
     "output_type": "execute_result"
    }
   ],
   "source": [
    "locals()"
   ]
  },
  {
   "cell_type": "code",
   "execution_count": null,
   "metadata": {
    "collapsed": true
   },
   "outputs": [],
   "source": []
  }
 ],
 "metadata": {
  "kernelspec": {
   "display_name": "Python 2",
   "language": "python",
   "name": "python2"
  },
  "language_info": {
   "codemirror_mode": {
    "name": "ipython",
    "version": 2
   },
   "file_extension": ".py",
   "mimetype": "text/x-python",
   "name": "python",
   "nbconvert_exporter": "python",
   "pygments_lexer": "ipython2",
   "version": "2.7.10"
  }
 },
 "nbformat": 4,
 "nbformat_minor": 2
}
