{
 "cells": [
  {
   "cell_type": "code",
   "execution_count": 82,
   "metadata": {},
   "outputs": [],
   "source": [
    "import numpy as np\n",
    "import pandas as pd\n",
    "import matplotlib.pyplot as plt\n",
    "import datetime as dt\n",
    "import string as str\n",
    "import seaborn as sns\n",
    "import os\n",
    "from sklearn.linear_model import LogisticRegression\n",
    "from sklearn import preprocessing\n",
    "from sklearn import metrics\n",
    "from sklearn.model_selection import train_test_split\n",
    "from sklearn.metrics import confusion_matrix\n",
    "from sklearn.metrics import roc_curve, auc\n",
    "from scipy import interp\n",
    "import statsmodels.api as sm"
   ]
  },
  {
   "cell_type": "code",
   "execution_count": 2,
   "metadata": {},
   "outputs": [
    {
     "name": "stderr",
     "output_type": "stream",
     "text": [
      "/Users/joehardy/Dev/ML/ML_env/lib/python3.6/site-packages/IPython/core/interactiveshell.py:2728: DtypeWarning: Columns (40,43) have mixed types. Specify dtype option on import or set low_memory=False.\n",
      "  interactivity=interactivity, compiler=compiler, result=result)\n"
     ]
    }
   ],
   "source": [
    "df = pd.read_csv('./data/social_leads_aug_sept_clean.csv')"
   ]
  },
  {
   "cell_type": "code",
   "execution_count": 3,
   "metadata": {},
   "outputs": [],
   "source": [
    "#Income\n",
    "#Is U.S. Veteran\n",
    "#Precise Age\n",
    "#audience\n",
    "#Landing URL\n",
    "#creative\n",
    "#Browser\n",
    "#Android / iOS"
   ]
  },
  {
   "cell_type": "code",
   "execution_count": 4,
   "metadata": {},
   "outputs": [],
   "source": [
    "def make_date_cols(df):\n",
    "    df['lead_creation_datetime'] = pd.to_datetime(pd.Series(df['Lead Creation Datetime']))\n",
    "    df['created_date'] = pd.to_datetime(pd.Series(df['Created Date']))\n",
    "  #  df['datetime_of_first_call'] = pd.to_datetime(pd.Series(df['DateTime Of First Call']))\n",
    "    df['converted_date'] = pd.to_datetime(pd.Series(df['Converted Date']))\n",
    "    return(df)"
   ]
  },
  {
   "cell_type": "code",
   "execution_count": 5,
   "metadata": {},
   "outputs": [],
   "source": [
    "df = make_date_cols(df)"
   ]
  },
  {
   "cell_type": "code",
   "execution_count": 6,
   "metadata": {},
   "outputs": [
    {
     "data": {
      "text/plain": [
       "Index(['Lead Creation Datetime', 'Created Date', 'Lead ID', 'First Name',\n",
       "       'Last Name', 'act', 'Customer browser language', 'Landing URL',\n",
       "       'Browser', 'Android / iOS', 'User Device', 'Usage',\n",
       "       'Controlling Channel', 'Marketing Partner', 'Marketing offer',\n",
       "       'Lead Status', 'Reason for closing of lead', 'Converted',\n",
       "       'Opportunity ID', 'Converted Date', 'Stage', 'Last quote',\n",
       "       'Reason for closed and lost', 'Searching for', 'Experience',\n",
       "       'Age of current hearing aid', 'Currently looking for hearing aids',\n",
       "       'Visited ENT or audiologist', 'Recent hearing test', 'Why not sooner?',\n",
       "       'COSI Basic Subtype 1', 'Discreet design', 'Tinnitus',\n",
       "       'Purchase timeframe', 'Professional status', 'Income',\n",
       "       'Income Reformatted', 'Willingness to invest', 'Is U.S. Veteran',\n",
       "       'Exposed to loud noises', 'Mobile', 'Phone', 'Email', 'Precise Age',\n",
       "       'Zip/Postal Code', 'Dynamic Marketing Comment', 'Video / Img',\n",
       "       'audience', 'creative', 'lead_creation_datetime', 'created_date',\n",
       "       'converted_date'],\n",
       "      dtype='object')"
      ]
     },
     "execution_count": 6,
     "metadata": {},
     "output_type": "execute_result"
    }
   ],
   "source": [
    "df.columns"
   ]
  },
  {
   "cell_type": "code",
   "execution_count": 7,
   "metadata": {},
   "outputs": [],
   "source": [
    "ct_conversions_income = pd.crosstab(index=df['Converted'], columns = [df['Income']])"
   ]
  },
  {
   "cell_type": "code",
   "execution_count": 8,
   "metadata": {},
   "outputs": [
    {
     "data": {
      "text/html": [
       "<div>\n",
       "<style scoped>\n",
       "    .dataframe tbody tr th:only-of-type {\n",
       "        vertical-align: middle;\n",
       "    }\n",
       "\n",
       "    .dataframe tbody tr th {\n",
       "        vertical-align: top;\n",
       "    }\n",
       "\n",
       "    .dataframe thead th {\n",
       "        text-align: right;\n",
       "    }\n",
       "</style>\n",
       "<table border=\"1\" class=\"dataframe\">\n",
       "  <thead>\n",
       "    <tr style=\"text-align: right;\">\n",
       "      <th>Income</th>\n",
       "      <th>$30,000 ? $49,999</th>\n",
       "      <th>$30,000-$49,999</th>\n",
       "      <th>$50,000 ? $69,999</th>\n",
       "      <th>$50,000 to $69,999</th>\n",
       "      <th>$50,000-$69,999</th>\n",
       "      <th>$70,000 ? $89,999</th>\n",
       "      <th>$70,000-$89,999</th>\n",
       "      <th>Under 39 years-old</th>\n",
       "      <th>Unsure</th>\n",
       "      <th>less than $30,000</th>\n",
       "      <th>more than $90,000</th>\n",
       "    </tr>\n",
       "    <tr>\n",
       "      <th>Converted</th>\n",
       "      <th></th>\n",
       "      <th></th>\n",
       "      <th></th>\n",
       "      <th></th>\n",
       "      <th></th>\n",
       "      <th></th>\n",
       "      <th></th>\n",
       "      <th></th>\n",
       "      <th></th>\n",
       "      <th></th>\n",
       "      <th></th>\n",
       "    </tr>\n",
       "  </thead>\n",
       "  <tbody>\n",
       "    <tr>\n",
       "      <th>0</th>\n",
       "      <td>1672</td>\n",
       "      <td>18</td>\n",
       "      <td>2570</td>\n",
       "      <td>10</td>\n",
       "      <td>6</td>\n",
       "      <td>3185</td>\n",
       "      <td>10</td>\n",
       "      <td>1</td>\n",
       "      <td>21</td>\n",
       "      <td>2692</td>\n",
       "      <td>5595</td>\n",
       "    </tr>\n",
       "    <tr>\n",
       "      <th>1</th>\n",
       "      <td>127</td>\n",
       "      <td>2</td>\n",
       "      <td>224</td>\n",
       "      <td>0</td>\n",
       "      <td>0</td>\n",
       "      <td>318</td>\n",
       "      <td>2</td>\n",
       "      <td>0</td>\n",
       "      <td>0</td>\n",
       "      <td>169</td>\n",
       "      <td>521</td>\n",
       "    </tr>\n",
       "  </tbody>\n",
       "</table>\n",
       "</div>"
      ],
      "text/plain": [
       "Income     $30,000 ? $49,999  $30,000-$49,999  $50,000 ? $69,999  \\\n",
       "Converted                                                          \n",
       "0                       1672               18               2570   \n",
       "1                        127                2                224   \n",
       "\n",
       "Income     $50,000 to $69,999  $50,000-$69,999  $70,000 ? $89,999  \\\n",
       "Converted                                                           \n",
       "0                          10                6               3185   \n",
       "1                           0                0                318   \n",
       "\n",
       "Income     $70,000-$89,999  Under 39 years-old  Unsure  less than $30,000  \\\n",
       "Converted                                                                   \n",
       "0                       10                   1      21               2692   \n",
       "1                        2                   0       0                169   \n",
       "\n",
       "Income     more than $90,000  \n",
       "Converted                     \n",
       "0                       5595  \n",
       "1                        521  "
      ]
     },
     "execution_count": 8,
     "metadata": {},
     "output_type": "execute_result"
    }
   ],
   "source": [
    "ct_conversions_income"
   ]
  },
  {
   "cell_type": "code",
   "execution_count": 9,
   "metadata": {},
   "outputs": [
    {
     "data": {
      "text/plain": [
       "Index(['$30,000 ? $49,999', '$30,000-$49,999', '$50,000 ? $69,999',\n",
       "       '$50,000 to $69,999', '$50,000-$69,999', '$70,000 ? $89,999',\n",
       "       '$70,000-$89,999', 'Under 39 years-old', 'Unsure', 'less than $30,000',\n",
       "       'more than $90,000'],\n",
       "      dtype='object', name='Income')"
      ]
     },
     "execution_count": 9,
     "metadata": {},
     "output_type": "execute_result"
    }
   ],
   "source": [
    "ct_conversions_income.columns"
   ]
  },
  {
   "cell_type": "code",
   "execution_count": 10,
   "metadata": {},
   "outputs": [],
   "source": [
    "#less than $30,000\t– Poor (0-639)\n",
    "#$30,000 – $49,999\t– Don't know\n",
    "#$50,000 – $69,999\t– Fair (640-679)\n",
    "#$70,000 – $89,999\t– Good (680-719)\n",
    "#more than $90,000\t– Excellent (720-850)"
   ]
  },
  {
   "cell_type": "code",
   "execution_count": 11,
   "metadata": {},
   "outputs": [],
   "source": [
    "ct_conversions_credit = ct_conversions_income['$30,000 ? $49,999'] +   ct_conversions_income['$30,000-$49,999']"
   ]
  },
  {
   "cell_type": "code",
   "execution_count": 12,
   "metadata": {},
   "outputs": [],
   "source": [
    "ct_conversions_income_rf = pd.crosstab(index=df['Converted'], columns = [df['Income Reformatted']])"
   ]
  },
  {
   "cell_type": "code",
   "execution_count": 13,
   "metadata": {},
   "outputs": [
    {
     "data": {
      "text/html": [
       "<div>\n",
       "<style scoped>\n",
       "    .dataframe tbody tr th:only-of-type {\n",
       "        vertical-align: middle;\n",
       "    }\n",
       "\n",
       "    .dataframe tbody tr th {\n",
       "        vertical-align: top;\n",
       "    }\n",
       "\n",
       "    .dataframe thead th {\n",
       "        text-align: right;\n",
       "    }\n",
       "</style>\n",
       "<table border=\"1\" class=\"dataframe\">\n",
       "  <thead>\n",
       "    <tr style=\"text-align: right;\">\n",
       "      <th>Income Reformatted</th>\n",
       "      <th>$30,000 - $49,999</th>\n",
       "      <th>$50,000 - $69,999</th>\n",
       "      <th>$70,000 - $89,999</th>\n",
       "      <th>&lt; $30k</th>\n",
       "      <th>&gt; $90k</th>\n",
       "      <th>Unsure</th>\n",
       "    </tr>\n",
       "    <tr>\n",
       "      <th>Converted</th>\n",
       "      <th></th>\n",
       "      <th></th>\n",
       "      <th></th>\n",
       "      <th></th>\n",
       "      <th></th>\n",
       "      <th></th>\n",
       "    </tr>\n",
       "  </thead>\n",
       "  <tbody>\n",
       "    <tr>\n",
       "      <th>0</th>\n",
       "      <td>1690</td>\n",
       "      <td>2586</td>\n",
       "      <td>3195</td>\n",
       "      <td>2692</td>\n",
       "      <td>5595</td>\n",
       "      <td>22</td>\n",
       "    </tr>\n",
       "    <tr>\n",
       "      <th>1</th>\n",
       "      <td>129</td>\n",
       "      <td>224</td>\n",
       "      <td>320</td>\n",
       "      <td>169</td>\n",
       "      <td>521</td>\n",
       "      <td>0</td>\n",
       "    </tr>\n",
       "  </tbody>\n",
       "</table>\n",
       "</div>"
      ],
      "text/plain": [
       "Income Reformatted  $30,000 - $49,999  $50,000 - $69,999  $70,000 - $89,999  \\\n",
       "Converted                                                                     \n",
       "0                                1690               2586               3195   \n",
       "1                                 129                224                320   \n",
       "\n",
       "Income Reformatted  < $30k  > $90k  Unsure  \n",
       "Converted                                   \n",
       "0                     2692    5595      22  \n",
       "1                      169     521       0  "
      ]
     },
     "execution_count": 13,
     "metadata": {},
     "output_type": "execute_result"
    }
   ],
   "source": [
    "ct_conversions_income_rf"
   ]
  },
  {
   "cell_type": "code",
   "execution_count": 14,
   "metadata": {},
   "outputs": [
    {
     "data": {
      "text/plain": [
       "Index(['$30,000 - $49,999', '$50,000 - $69,999', '$70,000 - $89,999', '< $30k',\n",
       "       '> $90k', 'Unsure'],\n",
       "      dtype='object', name='Income Reformatted')"
      ]
     },
     "execution_count": 14,
     "metadata": {},
     "output_type": "execute_result"
    }
   ],
   "source": [
    "ct_conversions_income_rf.columns"
   ]
  },
  {
   "cell_type": "code",
   "execution_count": 15,
   "metadata": {},
   "outputs": [],
   "source": [
    "cr2_income = ct_conversions_income_rf.iloc[1] / (ct_conversions_income_rf.iloc[0] + ct_conversions_income_rf.iloc[1])\n"
   ]
  },
  {
   "cell_type": "code",
   "execution_count": 16,
   "metadata": {},
   "outputs": [
    {
     "data": {
      "text/plain": [
       "Income Reformatted\n",
       "$30,000 - $49,999    0.070918\n",
       "$50,000 - $69,999    0.079715\n",
       "$70,000 - $89,999    0.091038\n",
       "< $30k               0.059070\n",
       "> $90k               0.085186\n",
       "Unsure               0.000000\n",
       "dtype: float64"
      ]
     },
     "execution_count": 16,
     "metadata": {},
     "output_type": "execute_result"
    }
   ],
   "source": [
    "cr2_income"
   ]
  },
  {
   "cell_type": "code",
   "execution_count": 17,
   "metadata": {},
   "outputs": [],
   "source": [
    "income_credit = {\"$30,000 - $49,999\": \"Don't know\",\n",
    "                 \"Unsure\": \"Don't know\",\n",
    "                 \"< $30k\" : \"Poor\",\n",
    "                 \"$50,000 - $69,999\": \"Fair\",\n",
    "                 \"$70,000 - $89,999\": \"Good\",\n",
    "                 \"> $90k\": \"Excellent\"}"
   ]
  },
  {
   "cell_type": "code",
   "execution_count": 18,
   "metadata": {},
   "outputs": [],
   "source": [
    "df['Credit score'] = df['Income Reformatted'].map(income_credit)"
   ]
  },
  {
   "cell_type": "code",
   "execution_count": 19,
   "metadata": {},
   "outputs": [],
   "source": [
    "# We might anticipate that not filling in the value for credit score\n",
    "# would be more similar to entering \"Don't know\" than anything else.\n",
    "# Last observation forward would also work, but might be difficult to implement in practice.\n",
    "# Could also use NaN as a category -- pd.get_dummies(s1, dummy_na=True)\n",
    "df['Credit score filled'] = df['Credit score'].fillna(\"Don't know\")"
   ]
  },
  {
   "cell_type": "code",
   "execution_count": 20,
   "metadata": {},
   "outputs": [],
   "source": [
    "ct_conversions_credit = pd.crosstab(index=df['Converted'], columns = [df['Credit score']])"
   ]
  },
  {
   "cell_type": "code",
   "execution_count": 21,
   "metadata": {},
   "outputs": [
    {
     "data": {
      "text/html": [
       "<div>\n",
       "<style scoped>\n",
       "    .dataframe tbody tr th:only-of-type {\n",
       "        vertical-align: middle;\n",
       "    }\n",
       "\n",
       "    .dataframe tbody tr th {\n",
       "        vertical-align: top;\n",
       "    }\n",
       "\n",
       "    .dataframe thead th {\n",
       "        text-align: right;\n",
       "    }\n",
       "</style>\n",
       "<table border=\"1\" class=\"dataframe\">\n",
       "  <thead>\n",
       "    <tr style=\"text-align: right;\">\n",
       "      <th>Credit score</th>\n",
       "      <th>Don't know</th>\n",
       "      <th>Excellent</th>\n",
       "      <th>Fair</th>\n",
       "      <th>Good</th>\n",
       "      <th>Poor</th>\n",
       "    </tr>\n",
       "    <tr>\n",
       "      <th>Converted</th>\n",
       "      <th></th>\n",
       "      <th></th>\n",
       "      <th></th>\n",
       "      <th></th>\n",
       "      <th></th>\n",
       "    </tr>\n",
       "  </thead>\n",
       "  <tbody>\n",
       "    <tr>\n",
       "      <th>0</th>\n",
       "      <td>1712</td>\n",
       "      <td>5595</td>\n",
       "      <td>2586</td>\n",
       "      <td>3195</td>\n",
       "      <td>2692</td>\n",
       "    </tr>\n",
       "    <tr>\n",
       "      <th>1</th>\n",
       "      <td>129</td>\n",
       "      <td>521</td>\n",
       "      <td>224</td>\n",
       "      <td>320</td>\n",
       "      <td>169</td>\n",
       "    </tr>\n",
       "  </tbody>\n",
       "</table>\n",
       "</div>"
      ],
      "text/plain": [
       "Credit score  Don't know  Excellent  Fair  Good  Poor\n",
       "Converted                                            \n",
       "0                   1712       5595  2586  3195  2692\n",
       "1                    129        521   224   320   169"
      ]
     },
     "execution_count": 21,
     "metadata": {},
     "output_type": "execute_result"
    }
   ],
   "source": [
    "ct_conversions_credit"
   ]
  },
  {
   "cell_type": "code",
   "execution_count": 22,
   "metadata": {},
   "outputs": [],
   "source": [
    "cr2_credit = ct_conversions_credit.iloc[1] / (ct_conversions_credit.iloc[0] +  ct_conversions_credit.iloc[1])"
   ]
  },
  {
   "cell_type": "code",
   "execution_count": 23,
   "metadata": {},
   "outputs": [
    {
     "data": {
      "text/plain": [
       "Credit score\n",
       "Don't know    0.070071\n",
       "Excellent     0.085186\n",
       "Fair          0.079715\n",
       "Good          0.091038\n",
       "Poor          0.059070\n",
       "dtype: float64"
      ]
     },
     "execution_count": 23,
     "metadata": {},
     "output_type": "execute_result"
    }
   ],
   "source": [
    "cr2_credit"
   ]
  },
  {
   "cell_type": "code",
   "execution_count": 24,
   "metadata": {},
   "outputs": [
    {
     "data": {
      "image/png": "[encoded data removed]",
      "text/plain": [
       "<Figure size 432x288 with 1 Axes>"
      ]
     },
     "metadata": {},
     "output_type": "display_data"
    }
   ],
   "source": [
    "f = plt.bar(x=cr2_credit.index, height=cr2_credit.values)"
   ]
  },
  {
   "cell_type": "code",
   "execution_count": 25,
   "metadata": {},
   "outputs": [],
   "source": [
    "cr2_credit_ri = cr2_credit.reindex(index = [\"Don't know\",'Poor','Fair','Good','Excellent'])"
   ]
  },
  {
   "cell_type": "code",
   "execution_count": 26,
   "metadata": {},
   "outputs": [
    {
     "data": {
      "text/plain": [
       "Text(0.5,0,'Credit score')"
      ]
     },
     "execution_count": 26,
     "metadata": {},
     "output_type": "execute_result"
    },
    {
     "data": {
      "image/png": "[encoded data removed]",
      "text/plain": [
       "<Figure size 432x288 with 1 Axes>"
      ]
     },
     "metadata": {},
     "output_type": "display_data"
    }
   ],
   "source": [
    "fig, ax = plt.subplots()\n",
    "b = plt.bar(x=cr2_credit_ri.index, height=cr2_credit_ri.values)\n",
    "ax.set_ylabel('CR2')\n",
    "ax.set_xlabel('Credit score')"
   ]
  },
  {
   "cell_type": "code",
   "execution_count": 27,
   "metadata": {},
   "outputs": [],
   "source": [
    "df['Numeric Age'] = pd.to_numeric(df['Precise Age'],errors='coerce')"
   ]
  },
  {
   "cell_type": "code",
   "execution_count": 28,
   "metadata": {},
   "outputs": [
    {
     "data": {
      "text/plain": [
       "67.12905295078143"
      ]
     },
     "execution_count": 28,
     "metadata": {},
     "output_type": "execute_result"
    }
   ],
   "source": [
    "df['Numeric Age'].mean()"
   ]
  },
  {
   "cell_type": "code",
   "execution_count": 29,
   "metadata": {},
   "outputs": [],
   "source": [
    "df['Numeric Age Filled'] = df['Numeric Age'].fillna(method='ffill')"
   ]
  },
  {
   "cell_type": "code",
   "execution_count": 30,
   "metadata": {},
   "outputs": [
    {
     "name": "stderr",
     "output_type": "stream",
     "text": [
      "/Users/joehardy/Dev/ML/ML_env/lib/python3.6/site-packages/matplotlib/axes/_axes.py:6462: UserWarning: The 'normed' kwarg is deprecated, and has been replaced by the 'density' kwarg.\n",
      "  warnings.warn(\"The 'normed' kwarg is deprecated, and has been \"\n"
     ]
    },
    {
     "data": {
      "text/plain": [
       "<matplotlib.axes._subplots.AxesSubplot at 0x1050f6828>"
      ]
     },
     "execution_count": 30,
     "metadata": {},
     "output_type": "execute_result"
    },
    {
     "data": {
      "image/png": "[encoded data removed]",
      "text/plain": [
       "<Figure size 432x288 with 1 Axes>"
      ]
     },
     "metadata": {},
     "output_type": "display_data"
    }
   ],
   "source": [
    "sns.distplot(df['Numeric Age Filled'])"
   ]
  },
  {
   "cell_type": "code",
   "execution_count": 31,
   "metadata": {},
   "outputs": [],
   "source": [
    "df_age = df[(df['Numeric Age'] > 18) & (df['Numeric Age'] < 95)]"
   ]
  },
  {
   "cell_type": "code",
   "execution_count": 32,
   "metadata": {},
   "outputs": [
    {
     "name": "stderr",
     "output_type": "stream",
     "text": [
      "/Users/joehardy/Dev/ML/ML_env/lib/python3.6/site-packages/matplotlib/axes/_axes.py:6462: UserWarning: The 'normed' kwarg is deprecated, and has been replaced by the 'density' kwarg.\n",
      "  warnings.warn(\"The 'normed' kwarg is deprecated, and has been \"\n"
     ]
    },
    {
     "data": {
      "text/plain": [
       "<matplotlib.axes._subplots.AxesSubplot at 0x102188198>"
      ]
     },
     "execution_count": 32,
     "metadata": {},
     "output_type": "execute_result"
    },
    {
     "data": {
      "image/png": "[encoded data removed]",
      "text/plain": [
       "<Figure size 432x288 with 1 Axes>"
      ]
     },
     "metadata": {},
     "output_type": "display_data"
    }
   ],
   "source": [
    "sns.distplot(df_age['Numeric Age'],bins = 76)"
   ]
  },
  {
   "cell_type": "code",
   "execution_count": 33,
   "metadata": {},
   "outputs": [
    {
     "data": {
      "text/html": [
       "<div>\n",
       "<style scoped>\n",
       "    .dataframe tbody tr th:only-of-type {\n",
       "        vertical-align: middle;\n",
       "    }\n",
       "\n",
       "    .dataframe tbody tr th {\n",
       "        vertical-align: top;\n",
       "    }\n",
       "\n",
       "    .dataframe thead th {\n",
       "        text-align: right;\n",
       "    }\n",
       "</style>\n",
       "<table border=\"1\" class=\"dataframe\">\n",
       "  <thead>\n",
       "    <tr style=\"text-align: right;\">\n",
       "      <th></th>\n",
       "      <th>Phone</th>\n",
       "      <th>Numeric Age</th>\n",
       "      <th>Numeric Age Filled</th>\n",
       "    </tr>\n",
       "    <tr>\n",
       "      <th>Converted</th>\n",
       "      <th></th>\n",
       "      <th></th>\n",
       "      <th></th>\n",
       "    </tr>\n",
       "  </thead>\n",
       "  <tbody>\n",
       "    <tr>\n",
       "      <th>0</th>\n",
       "      <td>1.629435e+10</td>\n",
       "      <td>67.309133</td>\n",
       "      <td>67.309133</td>\n",
       "    </tr>\n",
       "    <tr>\n",
       "      <th>1</th>\n",
       "      <td>1.629761e+10</td>\n",
       "      <td>65.336006</td>\n",
       "      <td>65.336006</td>\n",
       "    </tr>\n",
       "  </tbody>\n",
       "</table>\n",
       "</div>"
      ],
      "text/plain": [
       "                  Phone  Numeric Age  Numeric Age Filled\n",
       "Converted                                               \n",
       "0          1.629435e+10    67.309133           67.309133\n",
       "1          1.629761e+10    65.336006           65.336006"
      ]
     },
     "execution_count": 33,
     "metadata": {},
     "output_type": "execute_result"
    }
   ],
   "source": [
    "df_age.groupby('Converted').mean()"
   ]
  },
  {
   "cell_type": "code",
   "execution_count": 34,
   "metadata": {},
   "outputs": [
    {
     "name": "stderr",
     "output_type": "stream",
     "text": [
      "/Users/joehardy/Dev/ML/ML_env/lib/python3.6/site-packages/matplotlib/axes/_axes.py:6462: UserWarning: The 'normed' kwarg is deprecated, and has been replaced by the 'density' kwarg.\n",
      "  warnings.warn(\"The 'normed' kwarg is deprecated, and has been \"\n"
     ]
    },
    {
     "data": {
      "text/plain": [
       "<matplotlib.axes._subplots.AxesSubplot at 0x101439cf8>"
      ]
     },
     "execution_count": 34,
     "metadata": {},
     "output_type": "execute_result"
    },
    {
     "data": {
      "image/png": "[encoded data removed]",
      "text/plain": [
       "<Figure size 432x288 with 1 Axes>"
      ]
     },
     "metadata": {},
     "output_type": "display_data"
    }
   ],
   "source": [
    "sns.distplot(df_age[df_age['Converted']==0]['Numeric Age'],bins = 76)"
   ]
  },
  {
   "cell_type": "code",
   "execution_count": 35,
   "metadata": {},
   "outputs": [
    {
     "data": {
      "text/plain": [
       "<matplotlib.axes._subplots.AxesSubplot at 0x109d9af28>"
      ]
     },
     "execution_count": 35,
     "metadata": {},
     "output_type": "execute_result"
    },
    {
     "data": {
      "image/png": "[encoded data removed]",
      "text/plain": [
       "<Figure size 432x288 with 1 Axes>"
      ]
     },
     "metadata": {},
     "output_type": "display_data"
    }
   ],
   "source": [
    "sns.distplot(df_age[df_age['Converted']==0]['Numeric Age'],bins = 76,hist=False)\n",
    "sns.distplot(df_age[df_age['Converted']==1]['Numeric Age'],bins = 76,hist=False)"
   ]
  },
  {
   "cell_type": "code",
   "execution_count": 36,
   "metadata": {},
   "outputs": [],
   "source": [
    "df_credit_dummies = pd.get_dummies(df['Credit score filled'], prefix='credit_')"
   ]
  },
  {
   "cell_type": "code",
   "execution_count": 37,
   "metadata": {},
   "outputs": [],
   "source": [
    "converted = df[\"Converted\"]"
   ]
  },
  {
   "cell_type": "code",
   "execution_count": 38,
   "metadata": {},
   "outputs": [],
   "source": [
    "df = pd.concat([df,df_credit_dummies],axis=1)"
   ]
  },
  {
   "cell_type": "code",
   "execution_count": 39,
   "metadata": {},
   "outputs": [
    {
     "data": {
      "text/plain": [
       "Index(['Lead Creation Datetime', 'Created Date', 'Lead ID', 'First Name',\n",
       "       'Last Name', 'act', 'Customer browser language', 'Landing URL',\n",
       "       'Browser', 'Android / iOS', 'User Device', 'Usage',\n",
       "       'Controlling Channel', 'Marketing Partner', 'Marketing offer',\n",
       "       'Lead Status', 'Reason for closing of lead', 'Converted',\n",
       "       'Opportunity ID', 'Converted Date', 'Stage', 'Last quote',\n",
       "       'Reason for closed and lost', 'Searching for', 'Experience',\n",
       "       'Age of current hearing aid', 'Currently looking for hearing aids',\n",
       "       'Visited ENT or audiologist', 'Recent hearing test', 'Why not sooner?',\n",
       "       'COSI Basic Subtype 1', 'Discreet design', 'Tinnitus',\n",
       "       'Purchase timeframe', 'Professional status', 'Income',\n",
       "       'Income Reformatted', 'Willingness to invest', 'Is U.S. Veteran',\n",
       "       'Exposed to loud noises', 'Mobile', 'Phone', 'Email', 'Precise Age',\n",
       "       'Zip/Postal Code', 'Dynamic Marketing Comment', 'Video / Img',\n",
       "       'audience', 'creative', 'lead_creation_datetime', 'created_date',\n",
       "       'converted_date', 'Credit score', 'Credit score filled', 'Numeric Age',\n",
       "       'Numeric Age Filled', 'credit__Don't know', 'credit__Excellent',\n",
       "       'credit__Fair', 'credit__Good', 'credit__Poor'],\n",
       "      dtype='object')"
      ]
     },
     "execution_count": 39,
     "metadata": {},
     "output_type": "execute_result"
    }
   ],
   "source": [
    "df.columns"
   ]
  },
  {
   "cell_type": "code",
   "execution_count": 40,
   "metadata": {},
   "outputs": [],
   "source": [
    "#model_columns = [\"credit__Don't know\", 'credit__Poor', 'credit__Excellent',\n",
    "#                 'credit__Fair', 'credit__Good','Numeric Age Filled']\n",
    "model_columns = [\"credit__Don't know\", 'credit__Poor', 'credit__Excellent',\n",
    "                 'credit__Fair', 'credit__Good','Numeric Age Filled']"
   ]
  },
  {
   "cell_type": "code",
   "execution_count": 41,
   "metadata": {},
   "outputs": [],
   "source": [
    "df_model_data = df[model_columns]"
   ]
  },
  {
   "cell_type": "code",
   "execution_count": 42,
   "metadata": {},
   "outputs": [
    {
     "name": "stdout",
     "output_type": "stream",
     "text": [
      "Optimization terminated successfully.\n",
      "         Current function value: 0.274311\n",
      "         Iterations 7\n",
      "                          Results: Logit\n",
      "==================================================================\n",
      "Model:               Logit            Pseudo R-squared: 0.010     \n",
      "Dependent Variable:  Converted        AIC:              9575.5904 \n",
      "Date:                2018-10-14 20:28 BIC:              9622.1868 \n",
      "No. Observations:    17432            Log-Likelihood:   -4781.8   \n",
      "Df Model:            5                LL-Null:          -4828.8   \n",
      "Df Residuals:        17426            LLR p-value:      9.9310e-19\n",
      "Converged:           1.0000           Scale:            1.0000    \n",
      "No. Iterations:      7.0000                                       \n",
      "------------------------------------------------------------------\n",
      "                    Coef.  Std.Err.    z    P>|z|   [0.025  0.975]\n",
      "------------------------------------------------------------------\n",
      "credit__Don't know -1.1021   0.1993 -5.5291 0.0000 -1.4928 -0.7115\n",
      "credit__Poor       -1.3645   0.1880 -7.2570 0.0000 -1.7330 -0.9960\n",
      "credit__Excellent  -0.8215   0.1945 -4.2245 0.0000 -1.2026 -0.4403\n",
      "credit__Fair       -0.9871   0.1907 -5.1757 0.0000 -1.3609 -0.6133\n",
      "credit__Good       -0.7862   0.1934 -4.0646 0.0000 -1.1652 -0.4071\n",
      "Numeric Age Filled -0.0226   0.0028 -8.1148 0.0000 -0.0281 -0.0172\n",
      "==================================================================\n",
      "\n"
     ]
    }
   ],
   "source": [
    "logit_model=sm.Logit(converted,df_model_data)\n",
    "result=logit_model.fit()\n",
    "print(result.summary2())"
   ]
  },
  {
   "cell_type": "code",
   "execution_count": 43,
   "metadata": {},
   "outputs": [],
   "source": [
    "#['Is U.S. Veteran',\n",
    "#'Exposed to loud noises']"
   ]
  },
  {
   "cell_type": "code",
   "execution_count": 44,
   "metadata": {},
   "outputs": [
    {
     "data": {
      "text/plain": [
       "No        15309\n",
       "Yes        1933\n",
       "Unsure        2\n",
       "Name: Is U.S. Veteran, dtype: int64"
      ]
     },
     "execution_count": 44,
     "metadata": {},
     "output_type": "execute_result"
    }
   ],
   "source": [
    "df['Is U.S. Veteran'].value_counts()"
   ]
  },
  {
   "cell_type": "code",
   "execution_count": 45,
   "metadata": {},
   "outputs": [
    {
     "data": {
      "text/plain": [
       "17244"
      ]
     },
     "execution_count": 45,
     "metadata": {},
     "output_type": "execute_result"
    }
   ],
   "source": [
    "15309+1933+2"
   ]
  },
  {
   "cell_type": "code",
   "execution_count": 46,
   "metadata": {},
   "outputs": [],
   "source": [
    "vet_yes_no = {\"No\": 0,\n",
    "             \"Unsure\": 0,\n",
    "             \"Yes\": 1}"
   ]
  },
  {
   "cell_type": "code",
   "execution_count": 47,
   "metadata": {},
   "outputs": [],
   "source": [
    "df['Vet filled'] = df['Is U.S. Veteran'].map(vet_yes_no)"
   ]
  },
  {
   "cell_type": "code",
   "execution_count": 48,
   "metadata": {},
   "outputs": [],
   "source": [
    "df['Vet filled'] = df['Vet filled'].fillna(0)"
   ]
  },
  {
   "cell_type": "code",
   "execution_count": 49,
   "metadata": {},
   "outputs": [
    {
     "data": {
      "text/plain": [
       "0.0    15499\n",
       "1.0     1933\n",
       "Name: Vet filled, dtype: int64"
      ]
     },
     "execution_count": 49,
     "metadata": {},
     "output_type": "execute_result"
    }
   ],
   "source": [
    "df['Vet filled'].value_counts()"
   ]
  },
  {
   "cell_type": "code",
   "execution_count": 50,
   "metadata": {},
   "outputs": [
    {
     "data": {
      "text/plain": [
       "17432"
      ]
     },
     "execution_count": 50,
     "metadata": {},
     "output_type": "execute_result"
    }
   ],
   "source": [
    "15499 + 1933"
   ]
  },
  {
   "cell_type": "code",
   "execution_count": 51,
   "metadata": {},
   "outputs": [
    {
     "data": {
      "text/plain": [
       "(17432,)"
      ]
     },
     "execution_count": 51,
     "metadata": {},
     "output_type": "execute_result"
    }
   ],
   "source": [
    "df['Vet filled'].shape"
   ]
  },
  {
   "cell_type": "code",
   "execution_count": 52,
   "metadata": {},
   "outputs": [],
   "source": [
    "model_columns = [\"credit__Don't know\", 'credit__Poor', 'credit__Excellent',\n",
    "                 'credit__Fair', 'credit__Good','Numeric Age Filled',\n",
    "                 'Vet filled']\n",
    "df_model_data = df[model_columns]"
   ]
  },
  {
   "cell_type": "code",
   "execution_count": 53,
   "metadata": {},
   "outputs": [
    {
     "name": "stdout",
     "output_type": "stream",
     "text": [
      "Optimization terminated successfully.\n",
      "         Current function value: 0.269829\n",
      "         Iterations 8\n",
      "                          Results: Logit\n",
      "==================================================================\n",
      "Model:               Logit            Pseudo R-squared: 0.026     \n",
      "Dependent Variable:  Converted        AIC:              9421.3208 \n",
      "Date:                2018-10-14 20:28 BIC:              9475.6833 \n",
      "No. Observations:    17432            Log-Likelihood:   -4703.7   \n",
      "Df Model:            6                LL-Null:          -4828.8   \n",
      "Df Residuals:        17425            LLR p-value:      3.6815e-51\n",
      "Converged:           1.0000           Scale:            1.0000    \n",
      "No. Iterations:      8.0000                                       \n",
      "------------------------------------------------------------------\n",
      "                    Coef.  Std.Err.    z    P>|z|   [0.025  0.975]\n",
      "------------------------------------------------------------------\n",
      "credit__Don't know -1.1158   0.2025 -5.5101 0.0000 -1.5126 -0.7189\n",
      "credit__Poor       -1.3832   0.1905 -7.2592 0.0000 -1.7567 -1.0097\n",
      "credit__Excellent  -0.8193   0.1975 -4.1472 0.0000 -1.2065 -0.4321\n",
      "credit__Fair       -0.9833   0.1934 -5.0838 0.0000 -1.3624 -0.6042\n",
      "credit__Good       -0.7917   0.1964 -4.0320 0.0001 -1.1765 -0.4069\n",
      "Numeric Age Filled -0.0210   0.0028 -7.4218 0.0000 -0.0266 -0.0155\n",
      "Vet filled         -1.7116   0.1807 -9.4703 0.0000 -2.0658 -1.3574\n",
      "==================================================================\n",
      "\n"
     ]
    }
   ],
   "source": [
    "logit_model=sm.Logit(converted,df_model_data)\n",
    "result=logit_model.fit()\n",
    "print(result.summary2())"
   ]
  },
  {
   "cell_type": "code",
   "execution_count": 54,
   "metadata": {},
   "outputs": [],
   "source": [
    "#'Exposed to loud noises'"
   ]
  },
  {
   "cell_type": "code",
   "execution_count": 55,
   "metadata": {},
   "outputs": [],
   "source": [
    "ct_conversions_iOS = pd.crosstab(index=df['Converted'], columns = [df['Android / iOS']])"
   ]
  },
  {
   "cell_type": "code",
   "execution_count": 56,
   "metadata": {},
   "outputs": [
    {
     "data": {
      "text/html": [
       "<div>\n",
       "<style scoped>\n",
       "    .dataframe tbody tr th:only-of-type {\n",
       "        vertical-align: middle;\n",
       "    }\n",
       "\n",
       "    .dataframe tbody tr th {\n",
       "        vertical-align: top;\n",
       "    }\n",
       "\n",
       "    .dataframe thead th {\n",
       "        text-align: right;\n",
       "    }\n",
       "</style>\n",
       "<table border=\"1\" class=\"dataframe\">\n",
       "  <thead>\n",
       "    <tr style=\"text-align: right;\">\n",
       "      <th>Android / iOS</th>\n",
       "      <th>iOS</th>\n",
       "      <th>other</th>\n",
       "    </tr>\n",
       "    <tr>\n",
       "      <th>Converted</th>\n",
       "      <th></th>\n",
       "      <th></th>\n",
       "    </tr>\n",
       "  </thead>\n",
       "  <tbody>\n",
       "    <tr>\n",
       "      <th>0</th>\n",
       "      <td>8287</td>\n",
       "      <td>7763</td>\n",
       "    </tr>\n",
       "    <tr>\n",
       "      <th>1</th>\n",
       "      <td>748</td>\n",
       "      <td>634</td>\n",
       "    </tr>\n",
       "  </tbody>\n",
       "</table>\n",
       "</div>"
      ],
      "text/plain": [
       "Android / iOS   iOS  other\n",
       "Converted                 \n",
       "0              8287   7763\n",
       "1               748    634"
      ]
     },
     "execution_count": 56,
     "metadata": {},
     "output_type": "execute_result"
    }
   ],
   "source": [
    "ct_conversions_iOS"
   ]
  },
  {
   "cell_type": "code",
   "execution_count": 57,
   "metadata": {},
   "outputs": [],
   "source": [
    "cr2_iOS = ct_conversions_iOS.iloc[1] / (ct_conversions_iOS.iloc[0] + ct_conversions_iOS.iloc[1])"
   ]
  },
  {
   "cell_type": "code",
   "execution_count": 58,
   "metadata": {},
   "outputs": [
    {
     "data": {
      "text/plain": [
       "array([0.08278915, 0.07550316])"
      ]
     },
     "execution_count": 58,
     "metadata": {},
     "output_type": "execute_result"
    }
   ],
   "source": [
    "cr2_iOS.values"
   ]
  },
  {
   "cell_type": "code",
   "execution_count": 59,
   "metadata": {},
   "outputs": [
    {
     "data": {
      "image/png": "[encoded data removed]",
      "text/plain": [
       "<Figure size 432x288 with 1 Axes>"
      ]
     },
     "metadata": {},
     "output_type": "display_data"
    }
   ],
   "source": [
    "f = plt.bar(x=cr2_iOS.index, height=cr2_iOS.values)"
   ]
  },
  {
   "cell_type": "code",
   "execution_count": 60,
   "metadata": {},
   "outputs": [],
   "source": [
    "iOS_other = {\"iOS\": 1,\n",
    "             \"other\": 0}"
   ]
  },
  {
   "cell_type": "code",
   "execution_count": 61,
   "metadata": {},
   "outputs": [],
   "source": [
    "df['iOS'] = df['Android / iOS'].map(iOS_other)"
   ]
  },
  {
   "cell_type": "code",
   "execution_count": 62,
   "metadata": {},
   "outputs": [
    {
     "data": {
      "text/plain": [
       "1    9035\n",
       "0    8397\n",
       "Name: iOS, dtype: int64"
      ]
     },
     "execution_count": 62,
     "metadata": {},
     "output_type": "execute_result"
    }
   ],
   "source": [
    "df['iOS'].value_counts()"
   ]
  },
  {
   "cell_type": "code",
   "execution_count": 63,
   "metadata": {},
   "outputs": [],
   "source": [
    "model_columns = [\"credit__Don't know\", 'credit__Poor', 'credit__Excellent',\n",
    "                 'credit__Fair', 'credit__Good','Numeric Age Filled',\n",
    "                 'Vet filled', 'iOS']\n",
    "df_model_data = df[model_columns]"
   ]
  },
  {
   "cell_type": "code",
   "execution_count": 64,
   "metadata": {},
   "outputs": [
    {
     "name": "stdout",
     "output_type": "stream",
     "text": [
      "Optimization terminated successfully.\n",
      "         Current function value: 0.269809\n",
      "         Iterations 8\n",
      "                          Results: Logit\n",
      "==================================================================\n",
      "Model:               Logit            Pseudo R-squared: 0.026     \n",
      "Dependent Variable:  Converted        AIC:              9422.6251 \n",
      "Date:                2018-10-14 20:28 BIC:              9484.7536 \n",
      "No. Observations:    17432            Log-Likelihood:   -4703.3   \n",
      "Df Model:            7                LL-Null:          -4828.8   \n",
      "Df Residuals:        17424            LLR p-value:      1.7692e-50\n",
      "Converged:           1.0000           Scale:            1.0000    \n",
      "No. Iterations:      8.0000                                       \n",
      "------------------------------------------------------------------\n",
      "                    Coef.  Std.Err.    z    P>|z|   [0.025  0.975]\n",
      "------------------------------------------------------------------\n",
      "credit__Don't know -1.1341   0.2037 -5.5688 0.0000 -1.5332 -0.7349\n",
      "credit__Poor       -1.3998   0.1916 -7.3076 0.0000 -1.7753 -1.0244\n",
      "credit__Excellent  -0.8451   0.1999 -4.2272 0.0000 -1.2369 -0.4532\n",
      "credit__Fair       -1.0037   0.1949 -5.1494 0.0000 -1.3858 -0.6217\n",
      "credit__Good       -0.8159   0.1984 -4.1114 0.0000 -1.2048 -0.4270\n",
      "Numeric Age Filled -0.0211   0.0028 -7.4393 0.0000 -0.0266 -0.0155\n",
      "Vet filled         -1.7087   0.1808 -9.4527 0.0000 -2.0630 -1.3544\n",
      "iOS                 0.0477   0.0572  0.8337 0.4044 -0.0645  0.1599\n",
      "==================================================================\n",
      "\n"
     ]
    }
   ],
   "source": [
    "logit_model=sm.Logit(converted,df_model_data)\n",
    "result=logit_model.fit()\n",
    "print(result.summary2())"
   ]
  },
  {
   "cell_type": "code",
   "execution_count": 65,
   "metadata": {},
   "outputs": [],
   "source": [
    "exposed_yes_no = {\"No\": 0,\n",
    "                  \"Unsure\": 0,\n",
    "                  \"Yes\": 1}\n",
    "df['Exposed filled'] = df['Exposed to loud noises'].map(vet_yes_no)"
   ]
  },
  {
   "cell_type": "code",
   "execution_count": 66,
   "metadata": {},
   "outputs": [],
   "source": [
    "df['Exposed filled'] = df['Exposed filled'].fillna(0)"
   ]
  },
  {
   "cell_type": "code",
   "execution_count": 67,
   "metadata": {},
   "outputs": [],
   "source": [
    "model_columns = [\"credit__Don't know\", 'credit__Poor', 'credit__Excellent',\n",
    "                 'credit__Fair', 'credit__Good','Numeric Age Filled',\n",
    "                 'Exposed filled', 'iOS']\n",
    "df_model_data = df[model_columns]"
   ]
  },
  {
   "cell_type": "code",
   "execution_count": 68,
   "metadata": {},
   "outputs": [
    {
     "name": "stdout",
     "output_type": "stream",
     "text": [
      "Optimization terminated successfully.\n",
      "         Current function value: 0.267438\n",
      "         Iterations 11\n",
      "                          Results: Logit\n",
      "==================================================================\n",
      "Model:               Logit            Pseudo R-squared: 0.035     \n",
      "Dependent Variable:  Converted        AIC:              9339.9493 \n",
      "Date:                2018-10-14 20:28 BIC:              9402.0778 \n",
      "No. Observations:    17432            Log-Likelihood:   -4662.0   \n",
      "Df Model:            7                LL-Null:          -4828.8   \n",
      "Df Residuals:        17424            LLR p-value:      3.9998e-68\n",
      "Converged:           1.0000           Scale:            1.0000    \n",
      "No. Iterations:      11.0000                                      \n",
      "------------------------------------------------------------------\n",
      "                    Coef.  Std.Err.    z    P>|z|   [0.025  0.975]\n",
      "------------------------------------------------------------------\n",
      "credit__Don't know -1.1197   0.2023 -5.5361 0.0000 -1.5161 -0.7233\n",
      "credit__Poor       -1.3808   0.1904 -7.2534 0.0000 -1.7539 -1.0077\n",
      "credit__Excellent  -0.8196   0.1986 -4.1264 0.0000 -1.2089 -0.4303\n",
      "credit__Fair       -0.9757   0.1937 -5.0378 0.0000 -1.3553 -0.5961\n",
      "credit__Good       -0.7935   0.1971 -4.0256 0.0001 -1.1799 -0.4072\n",
      "Numeric Age Filled -0.0215   0.0028 -7.6304 0.0000 -0.0270 -0.0159\n",
      "Exposed filled     -4.2663   0.7082 -6.0242 0.0000 -5.6544 -2.8783\n",
      "iOS                 0.0441   0.0573  0.7700 0.4413 -0.0681  0.1563\n",
      "==================================================================\n",
      "\n"
     ]
    }
   ],
   "source": [
    "logit_model=sm.Logit(converted,df_model_data)\n",
    "result=logit_model.fit()\n",
    "print(result.summary2())"
   ]
  },
  {
   "cell_type": "code",
   "execution_count": 69,
   "metadata": {},
   "outputs": [],
   "source": [
    "ha_age = {\"0-2 years\": 'none',\n",
    "          \"2-4 years\": 'none',\n",
    "          \"4-5 years\": 'none',\n",
    "          \"More than 5 years\": 'none',\n",
    "          \"1 year\": \"1 year\",\n",
    "          \"2 years\": \"2 years\",\n",
    "          \"3 years\": \"3 years\",\n",
    "          \"4 years\": \"4 years\",\n",
    "          \"5 years\": \"5 years\"}\n",
    "df['HA age filled'] = df['Age of current hearing aid'].map(ha_age)"
   ]
  },
  {
   "cell_type": "code",
   "execution_count": 70,
   "metadata": {},
   "outputs": [],
   "source": [
    "ct_conversions_HA_age = pd.crosstab(index=df['Converted'], columns = [df['HA age filled']])\n",
    "cr2_HA_age = ct_conversions_HA_age.iloc[1] / (ct_conversions_HA_age.iloc[0] + ct_conversions_HA_age.iloc[1])"
   ]
  },
  {
   "cell_type": "code",
   "execution_count": 71,
   "metadata": {},
   "outputs": [
    {
     "data": {
      "text/plain": [
       "HA age filled\n",
       "1 year     0.020619\n",
       "2 years    0.037700\n",
       "3 years    0.065556\n",
       "4 years    0.057692\n",
       "5 years    0.063472\n",
       "none       0.899160\n",
       "dtype: float64"
      ]
     },
     "execution_count": 71,
     "metadata": {},
     "output_type": "execute_result"
    }
   ],
   "source": [
    "cr2_HA_age"
   ]
  },
  {
   "cell_type": "code",
   "execution_count": 72,
   "metadata": {},
   "outputs": [],
   "source": [
    "df['HA age filled'] = df['HA age filled'].fillna('No HA')"
   ]
  },
  {
   "cell_type": "code",
   "execution_count": 73,
   "metadata": {},
   "outputs": [],
   "source": [
    "df_HA_age_filled = pd.get_dummies(df['HA age filled'], prefix='HA_age')\n",
    "df = pd.concat([df,df_HA_age_filled],axis=1)"
   ]
  },
  {
   "cell_type": "code",
   "execution_count": 74,
   "metadata": {},
   "outputs": [
    {
     "data": {
      "text/plain": [
       "Index(['Lead Creation Datetime', 'Created Date', 'Lead ID', 'First Name',\n",
       "       'Last Name', 'act', 'Customer browser language', 'Landing URL',\n",
       "       'Browser', 'Android / iOS', 'User Device', 'Usage',\n",
       "       'Controlling Channel', 'Marketing Partner', 'Marketing offer',\n",
       "       'Lead Status', 'Reason for closing of lead', 'Converted',\n",
       "       'Opportunity ID', 'Converted Date', 'Stage', 'Last quote',\n",
       "       'Reason for closed and lost', 'Searching for', 'Experience',\n",
       "       'Age of current hearing aid', 'Currently looking for hearing aids',\n",
       "       'Visited ENT or audiologist', 'Recent hearing test', 'Why not sooner?',\n",
       "       'COSI Basic Subtype 1', 'Discreet design', 'Tinnitus',\n",
       "       'Purchase timeframe', 'Professional status', 'Income',\n",
       "       'Income Reformatted', 'Willingness to invest', 'Is U.S. Veteran',\n",
       "       'Exposed to loud noises', 'Mobile', 'Phone', 'Email', 'Precise Age',\n",
       "       'Zip/Postal Code', 'Dynamic Marketing Comment', 'Video / Img',\n",
       "       'audience', 'creative', 'lead_creation_datetime', 'created_date',\n",
       "       'converted_date', 'Credit score', 'Credit score filled', 'Numeric Age',\n",
       "       'Numeric Age Filled', 'credit__Don't know', 'credit__Excellent',\n",
       "       'credit__Fair', 'credit__Good', 'credit__Poor', 'Vet filled', 'iOS',\n",
       "       'Exposed filled', 'HA age filled', 'HA_age_1 year', 'HA_age_2 years',\n",
       "       'HA_age_3 years', 'HA_age_4 years', 'HA_age_5 years', 'HA_age_No HA',\n",
       "       'HA_age_none'],\n",
       "      dtype='object')"
      ]
     },
     "execution_count": 74,
     "metadata": {},
     "output_type": "execute_result"
    }
   ],
   "source": [
    "df.columns"
   ]
  },
  {
   "cell_type": "code",
   "execution_count": 75,
   "metadata": {},
   "outputs": [],
   "source": [
    "model_columns = [\"credit__Don't know\", 'credit__Poor', 'credit__Excellent',\n",
    "                 'credit__Fair', 'credit__Good','Numeric Age Filled',\n",
    "                 'Exposed filled', 'iOS', 'HA_age_1 year', 'HA_age_2 years',\n",
    "       'HA_age_3 years', 'HA_age_4 years', 'HA_age_5 years', 'HA_age_No HA']\n",
    "df_model_data = df[model_columns]"
   ]
  },
  {
   "cell_type": "code",
   "execution_count": 76,
   "metadata": {},
   "outputs": [
    {
     "data": {
      "text/html": [
       "<div>\n",
       "<style scoped>\n",
       "    .dataframe tbody tr th:only-of-type {\n",
       "        vertical-align: middle;\n",
       "    }\n",
       "\n",
       "    .dataframe tbody tr th {\n",
       "        vertical-align: top;\n",
       "    }\n",
       "\n",
       "    .dataframe thead th {\n",
       "        text-align: right;\n",
       "    }\n",
       "</style>\n",
       "<table border=\"1\" class=\"dataframe\">\n",
       "  <thead>\n",
       "    <tr style=\"text-align: right;\">\n",
       "      <th></th>\n",
       "      <th>credit__Don't know</th>\n",
       "      <th>credit__Poor</th>\n",
       "      <th>credit__Excellent</th>\n",
       "      <th>credit__Fair</th>\n",
       "      <th>credit__Good</th>\n",
       "      <th>Numeric Age Filled</th>\n",
       "      <th>Exposed filled</th>\n",
       "      <th>iOS</th>\n",
       "      <th>HA_age_1 year</th>\n",
       "      <th>HA_age_2 years</th>\n",
       "      <th>HA_age_3 years</th>\n",
       "      <th>HA_age_4 years</th>\n",
       "      <th>HA_age_5 years</th>\n",
       "      <th>HA_age_No HA</th>\n",
       "    </tr>\n",
       "  </thead>\n",
       "  <tbody>\n",
       "    <tr>\n",
       "      <th>0</th>\n",
       "      <td>0</td>\n",
       "      <td>0</td>\n",
       "      <td>1</td>\n",
       "      <td>0</td>\n",
       "      <td>0</td>\n",
       "      <td>54.0</td>\n",
       "      <td>0.0</td>\n",
       "      <td>1</td>\n",
       "      <td>0</td>\n",
       "      <td>0</td>\n",
       "      <td>1</td>\n",
       "      <td>0</td>\n",
       "      <td>0</td>\n",
       "      <td>0</td>\n",
       "    </tr>\n",
       "    <tr>\n",
       "      <th>1</th>\n",
       "      <td>0</td>\n",
       "      <td>0</td>\n",
       "      <td>0</td>\n",
       "      <td>0</td>\n",
       "      <td>1</td>\n",
       "      <td>51.0</td>\n",
       "      <td>0.0</td>\n",
       "      <td>0</td>\n",
       "      <td>0</td>\n",
       "      <td>0</td>\n",
       "      <td>0</td>\n",
       "      <td>0</td>\n",
       "      <td>1</td>\n",
       "      <td>0</td>\n",
       "    </tr>\n",
       "    <tr>\n",
       "      <th>2</th>\n",
       "      <td>0</td>\n",
       "      <td>1</td>\n",
       "      <td>0</td>\n",
       "      <td>0</td>\n",
       "      <td>0</td>\n",
       "      <td>48.0</td>\n",
       "      <td>0.0</td>\n",
       "      <td>1</td>\n",
       "      <td>0</td>\n",
       "      <td>0</td>\n",
       "      <td>0</td>\n",
       "      <td>0</td>\n",
       "      <td>1</td>\n",
       "      <td>0</td>\n",
       "    </tr>\n",
       "    <tr>\n",
       "      <th>3</th>\n",
       "      <td>0</td>\n",
       "      <td>1</td>\n",
       "      <td>0</td>\n",
       "      <td>0</td>\n",
       "      <td>0</td>\n",
       "      <td>58.0</td>\n",
       "      <td>0.0</td>\n",
       "      <td>0</td>\n",
       "      <td>0</td>\n",
       "      <td>0</td>\n",
       "      <td>0</td>\n",
       "      <td>0</td>\n",
       "      <td>0</td>\n",
       "      <td>1</td>\n",
       "    </tr>\n",
       "    <tr>\n",
       "      <th>4</th>\n",
       "      <td>0</td>\n",
       "      <td>0</td>\n",
       "      <td>1</td>\n",
       "      <td>0</td>\n",
       "      <td>0</td>\n",
       "      <td>68.0</td>\n",
       "      <td>0.0</td>\n",
       "      <td>0</td>\n",
       "      <td>0</td>\n",
       "      <td>0</td>\n",
       "      <td>0</td>\n",
       "      <td>0</td>\n",
       "      <td>0</td>\n",
       "      <td>1</td>\n",
       "    </tr>\n",
       "    <tr>\n",
       "      <th>5</th>\n",
       "      <td>0</td>\n",
       "      <td>0</td>\n",
       "      <td>0</td>\n",
       "      <td>0</td>\n",
       "      <td>1</td>\n",
       "      <td>51.0</td>\n",
       "      <td>1.0</td>\n",
       "      <td>0</td>\n",
       "      <td>0</td>\n",
       "      <td>0</td>\n",
       "      <td>0</td>\n",
       "      <td>0</td>\n",
       "      <td>0</td>\n",
       "      <td>1</td>\n",
       "    </tr>\n",
       "    <tr>\n",
       "      <th>6</th>\n",
       "      <td>0</td>\n",
       "      <td>0</td>\n",
       "      <td>1</td>\n",
       "      <td>0</td>\n",
       "      <td>0</td>\n",
       "      <td>50.0</td>\n",
       "      <td>0.0</td>\n",
       "      <td>1</td>\n",
       "      <td>0</td>\n",
       "      <td>0</td>\n",
       "      <td>0</td>\n",
       "      <td>0</td>\n",
       "      <td>0</td>\n",
       "      <td>1</td>\n",
       "    </tr>\n",
       "    <tr>\n",
       "      <th>7</th>\n",
       "      <td>0</td>\n",
       "      <td>0</td>\n",
       "      <td>0</td>\n",
       "      <td>0</td>\n",
       "      <td>1</td>\n",
       "      <td>39.0</td>\n",
       "      <td>0.0</td>\n",
       "      <td>0</td>\n",
       "      <td>0</td>\n",
       "      <td>0</td>\n",
       "      <td>0</td>\n",
       "      <td>0</td>\n",
       "      <td>0</td>\n",
       "      <td>1</td>\n",
       "    </tr>\n",
       "    <tr>\n",
       "      <th>8</th>\n",
       "      <td>0</td>\n",
       "      <td>0</td>\n",
       "      <td>1</td>\n",
       "      <td>0</td>\n",
       "      <td>0</td>\n",
       "      <td>67.0</td>\n",
       "      <td>0.0</td>\n",
       "      <td>1</td>\n",
       "      <td>0</td>\n",
       "      <td>0</td>\n",
       "      <td>0</td>\n",
       "      <td>0</td>\n",
       "      <td>0</td>\n",
       "      <td>1</td>\n",
       "    </tr>\n",
       "    <tr>\n",
       "      <th>9</th>\n",
       "      <td>0</td>\n",
       "      <td>0</td>\n",
       "      <td>0</td>\n",
       "      <td>1</td>\n",
       "      <td>0</td>\n",
       "      <td>64.0</td>\n",
       "      <td>1.0</td>\n",
       "      <td>1</td>\n",
       "      <td>0</td>\n",
       "      <td>1</td>\n",
       "      <td>0</td>\n",
       "      <td>0</td>\n",
       "      <td>0</td>\n",
       "      <td>0</td>\n",
       "    </tr>\n",
       "    <tr>\n",
       "      <th>10</th>\n",
       "      <td>0</td>\n",
       "      <td>0</td>\n",
       "      <td>0</td>\n",
       "      <td>0</td>\n",
       "      <td>1</td>\n",
       "      <td>64.0</td>\n",
       "      <td>0.0</td>\n",
       "      <td>1</td>\n",
       "      <td>0</td>\n",
       "      <td>0</td>\n",
       "      <td>0</td>\n",
       "      <td>0</td>\n",
       "      <td>1</td>\n",
       "      <td>0</td>\n",
       "    </tr>\n",
       "    <tr>\n",
       "      <th>11</th>\n",
       "      <td>0</td>\n",
       "      <td>0</td>\n",
       "      <td>0</td>\n",
       "      <td>1</td>\n",
       "      <td>0</td>\n",
       "      <td>64.0</td>\n",
       "      <td>0.0</td>\n",
       "      <td>1</td>\n",
       "      <td>0</td>\n",
       "      <td>0</td>\n",
       "      <td>1</td>\n",
       "      <td>0</td>\n",
       "      <td>0</td>\n",
       "      <td>0</td>\n",
       "    </tr>\n",
       "    <tr>\n",
       "      <th>12</th>\n",
       "      <td>0</td>\n",
       "      <td>1</td>\n",
       "      <td>0</td>\n",
       "      <td>0</td>\n",
       "      <td>0</td>\n",
       "      <td>57.0</td>\n",
       "      <td>0.0</td>\n",
       "      <td>0</td>\n",
       "      <td>0</td>\n",
       "      <td>0</td>\n",
       "      <td>0</td>\n",
       "      <td>0</td>\n",
       "      <td>0</td>\n",
       "      <td>1</td>\n",
       "    </tr>\n",
       "    <tr>\n",
       "      <th>13</th>\n",
       "      <td>0</td>\n",
       "      <td>0</td>\n",
       "      <td>0</td>\n",
       "      <td>0</td>\n",
       "      <td>1</td>\n",
       "      <td>56.0</td>\n",
       "      <td>0.0</td>\n",
       "      <td>0</td>\n",
       "      <td>0</td>\n",
       "      <td>0</td>\n",
       "      <td>0</td>\n",
       "      <td>0</td>\n",
       "      <td>0</td>\n",
       "      <td>1</td>\n",
       "    </tr>\n",
       "    <tr>\n",
       "      <th>14</th>\n",
       "      <td>0</td>\n",
       "      <td>0</td>\n",
       "      <td>1</td>\n",
       "      <td>0</td>\n",
       "      <td>0</td>\n",
       "      <td>78.0</td>\n",
       "      <td>0.0</td>\n",
       "      <td>0</td>\n",
       "      <td>0</td>\n",
       "      <td>0</td>\n",
       "      <td>0</td>\n",
       "      <td>0</td>\n",
       "      <td>0</td>\n",
       "      <td>1</td>\n",
       "    </tr>\n",
       "    <tr>\n",
       "      <th>15</th>\n",
       "      <td>0</td>\n",
       "      <td>0</td>\n",
       "      <td>1</td>\n",
       "      <td>0</td>\n",
       "      <td>0</td>\n",
       "      <td>90.0</td>\n",
       "      <td>1.0</td>\n",
       "      <td>0</td>\n",
       "      <td>1</td>\n",
       "      <td>0</td>\n",
       "      <td>0</td>\n",
       "      <td>0</td>\n",
       "      <td>0</td>\n",
       "      <td>0</td>\n",
       "    </tr>\n",
       "    <tr>\n",
       "      <th>16</th>\n",
       "      <td>0</td>\n",
       "      <td>1</td>\n",
       "      <td>0</td>\n",
       "      <td>0</td>\n",
       "      <td>0</td>\n",
       "      <td>65.0</td>\n",
       "      <td>0.0</td>\n",
       "      <td>1</td>\n",
       "      <td>0</td>\n",
       "      <td>0</td>\n",
       "      <td>0</td>\n",
       "      <td>0</td>\n",
       "      <td>1</td>\n",
       "      <td>0</td>\n",
       "    </tr>\n",
       "    <tr>\n",
       "      <th>17</th>\n",
       "      <td>0</td>\n",
       "      <td>0</td>\n",
       "      <td>0</td>\n",
       "      <td>1</td>\n",
       "      <td>0</td>\n",
       "      <td>57.0</td>\n",
       "      <td>0.0</td>\n",
       "      <td>0</td>\n",
       "      <td>0</td>\n",
       "      <td>0</td>\n",
       "      <td>1</td>\n",
       "      <td>0</td>\n",
       "      <td>0</td>\n",
       "      <td>0</td>\n",
       "    </tr>\n",
       "    <tr>\n",
       "      <th>18</th>\n",
       "      <td>1</td>\n",
       "      <td>0</td>\n",
       "      <td>0</td>\n",
       "      <td>0</td>\n",
       "      <td>0</td>\n",
       "      <td>57.0</td>\n",
       "      <td>0.0</td>\n",
       "      <td>1</td>\n",
       "      <td>0</td>\n",
       "      <td>0</td>\n",
       "      <td>1</td>\n",
       "      <td>0</td>\n",
       "      <td>0</td>\n",
       "      <td>0</td>\n",
       "    </tr>\n",
       "    <tr>\n",
       "      <th>19</th>\n",
       "      <td>0</td>\n",
       "      <td>0</td>\n",
       "      <td>0</td>\n",
       "      <td>1</td>\n",
       "      <td>0</td>\n",
       "      <td>74.0</td>\n",
       "      <td>0.0</td>\n",
       "      <td>0</td>\n",
       "      <td>0</td>\n",
       "      <td>1</td>\n",
       "      <td>0</td>\n",
       "      <td>0</td>\n",
       "      <td>0</td>\n",
       "      <td>0</td>\n",
       "    </tr>\n",
       "    <tr>\n",
       "      <th>20</th>\n",
       "      <td>0</td>\n",
       "      <td>0</td>\n",
       "      <td>1</td>\n",
       "      <td>0</td>\n",
       "      <td>0</td>\n",
       "      <td>81.0</td>\n",
       "      <td>0.0</td>\n",
       "      <td>1</td>\n",
       "      <td>0</td>\n",
       "      <td>0</td>\n",
       "      <td>0</td>\n",
       "      <td>0</td>\n",
       "      <td>0</td>\n",
       "      <td>1</td>\n",
       "    </tr>\n",
       "    <tr>\n",
       "      <th>21</th>\n",
       "      <td>1</td>\n",
       "      <td>0</td>\n",
       "      <td>0</td>\n",
       "      <td>0</td>\n",
       "      <td>0</td>\n",
       "      <td>50.0</td>\n",
       "      <td>0.0</td>\n",
       "      <td>0</td>\n",
       "      <td>0</td>\n",
       "      <td>0</td>\n",
       "      <td>0</td>\n",
       "      <td>0</td>\n",
       "      <td>0</td>\n",
       "      <td>1</td>\n",
       "    </tr>\n",
       "    <tr>\n",
       "      <th>22</th>\n",
       "      <td>0</td>\n",
       "      <td>0</td>\n",
       "      <td>1</td>\n",
       "      <td>0</td>\n",
       "      <td>0</td>\n",
       "      <td>65.0</td>\n",
       "      <td>0.0</td>\n",
       "      <td>0</td>\n",
       "      <td>1</td>\n",
       "      <td>0</td>\n",
       "      <td>0</td>\n",
       "      <td>0</td>\n",
       "      <td>0</td>\n",
       "      <td>0</td>\n",
       "    </tr>\n",
       "    <tr>\n",
       "      <th>23</th>\n",
       "      <td>0</td>\n",
       "      <td>0</td>\n",
       "      <td>1</td>\n",
       "      <td>0</td>\n",
       "      <td>0</td>\n",
       "      <td>66.0</td>\n",
       "      <td>0.0</td>\n",
       "      <td>0</td>\n",
       "      <td>0</td>\n",
       "      <td>0</td>\n",
       "      <td>0</td>\n",
       "      <td>0</td>\n",
       "      <td>0</td>\n",
       "      <td>1</td>\n",
       "    </tr>\n",
       "    <tr>\n",
       "      <th>24</th>\n",
       "      <td>0</td>\n",
       "      <td>0</td>\n",
       "      <td>1</td>\n",
       "      <td>0</td>\n",
       "      <td>0</td>\n",
       "      <td>60.0</td>\n",
       "      <td>0.0</td>\n",
       "      <td>0</td>\n",
       "      <td>0</td>\n",
       "      <td>0</td>\n",
       "      <td>0</td>\n",
       "      <td>0</td>\n",
       "      <td>0</td>\n",
       "      <td>1</td>\n",
       "    </tr>\n",
       "    <tr>\n",
       "      <th>25</th>\n",
       "      <td>0</td>\n",
       "      <td>0</td>\n",
       "      <td>0</td>\n",
       "      <td>0</td>\n",
       "      <td>1</td>\n",
       "      <td>75.0</td>\n",
       "      <td>1.0</td>\n",
       "      <td>0</td>\n",
       "      <td>0</td>\n",
       "      <td>0</td>\n",
       "      <td>0</td>\n",
       "      <td>0</td>\n",
       "      <td>0</td>\n",
       "      <td>1</td>\n",
       "    </tr>\n",
       "    <tr>\n",
       "      <th>26</th>\n",
       "      <td>0</td>\n",
       "      <td>0</td>\n",
       "      <td>0</td>\n",
       "      <td>1</td>\n",
       "      <td>0</td>\n",
       "      <td>53.0</td>\n",
       "      <td>0.0</td>\n",
       "      <td>0</td>\n",
       "      <td>0</td>\n",
       "      <td>0</td>\n",
       "      <td>0</td>\n",
       "      <td>0</td>\n",
       "      <td>0</td>\n",
       "      <td>1</td>\n",
       "    </tr>\n",
       "    <tr>\n",
       "      <th>27</th>\n",
       "      <td>0</td>\n",
       "      <td>0</td>\n",
       "      <td>1</td>\n",
       "      <td>0</td>\n",
       "      <td>0</td>\n",
       "      <td>68.0</td>\n",
       "      <td>0.0</td>\n",
       "      <td>0</td>\n",
       "      <td>0</td>\n",
       "      <td>1</td>\n",
       "      <td>0</td>\n",
       "      <td>0</td>\n",
       "      <td>0</td>\n",
       "      <td>0</td>\n",
       "    </tr>\n",
       "    <tr>\n",
       "      <th>28</th>\n",
       "      <td>0</td>\n",
       "      <td>0</td>\n",
       "      <td>0</td>\n",
       "      <td>0</td>\n",
       "      <td>1</td>\n",
       "      <td>69.0</td>\n",
       "      <td>1.0</td>\n",
       "      <td>0</td>\n",
       "      <td>0</td>\n",
       "      <td>0</td>\n",
       "      <td>0</td>\n",
       "      <td>0</td>\n",
       "      <td>0</td>\n",
       "      <td>1</td>\n",
       "    </tr>\n",
       "    <tr>\n",
       "      <th>29</th>\n",
       "      <td>0</td>\n",
       "      <td>0</td>\n",
       "      <td>0</td>\n",
       "      <td>0</td>\n",
       "      <td>1</td>\n",
       "      <td>69.0</td>\n",
       "      <td>0.0</td>\n",
       "      <td>1</td>\n",
       "      <td>0</td>\n",
       "      <td>1</td>\n",
       "      <td>0</td>\n",
       "      <td>0</td>\n",
       "      <td>0</td>\n",
       "      <td>0</td>\n",
       "    </tr>\n",
       "    <tr>\n",
       "      <th>...</th>\n",
       "      <td>...</td>\n",
       "      <td>...</td>\n",
       "      <td>...</td>\n",
       "      <td>...</td>\n",
       "      <td>...</td>\n",
       "      <td>...</td>\n",
       "      <td>...</td>\n",
       "      <td>...</td>\n",
       "      <td>...</td>\n",
       "      <td>...</td>\n",
       "      <td>...</td>\n",
       "      <td>...</td>\n",
       "      <td>...</td>\n",
       "      <td>...</td>\n",
       "    </tr>\n",
       "    <tr>\n",
       "      <th>17402</th>\n",
       "      <td>0</td>\n",
       "      <td>0</td>\n",
       "      <td>0</td>\n",
       "      <td>1</td>\n",
       "      <td>0</td>\n",
       "      <td>65.0</td>\n",
       "      <td>0.0</td>\n",
       "      <td>0</td>\n",
       "      <td>0</td>\n",
       "      <td>0</td>\n",
       "      <td>0</td>\n",
       "      <td>0</td>\n",
       "      <td>0</td>\n",
       "      <td>1</td>\n",
       "    </tr>\n",
       "    <tr>\n",
       "      <th>17403</th>\n",
       "      <td>0</td>\n",
       "      <td>0</td>\n",
       "      <td>1</td>\n",
       "      <td>0</td>\n",
       "      <td>0</td>\n",
       "      <td>76.0</td>\n",
       "      <td>0.0</td>\n",
       "      <td>1</td>\n",
       "      <td>1</td>\n",
       "      <td>0</td>\n",
       "      <td>0</td>\n",
       "      <td>0</td>\n",
       "      <td>0</td>\n",
       "      <td>0</td>\n",
       "    </tr>\n",
       "    <tr>\n",
       "      <th>17404</th>\n",
       "      <td>0</td>\n",
       "      <td>0</td>\n",
       "      <td>1</td>\n",
       "      <td>0</td>\n",
       "      <td>0</td>\n",
       "      <td>70.0</td>\n",
       "      <td>0.0</td>\n",
       "      <td>0</td>\n",
       "      <td>1</td>\n",
       "      <td>0</td>\n",
       "      <td>0</td>\n",
       "      <td>0</td>\n",
       "      <td>0</td>\n",
       "      <td>0</td>\n",
       "    </tr>\n",
       "    <tr>\n",
       "      <th>17405</th>\n",
       "      <td>0</td>\n",
       "      <td>0</td>\n",
       "      <td>0</td>\n",
       "      <td>1</td>\n",
       "      <td>0</td>\n",
       "      <td>60.0</td>\n",
       "      <td>0.0</td>\n",
       "      <td>0</td>\n",
       "      <td>0</td>\n",
       "      <td>0</td>\n",
       "      <td>0</td>\n",
       "      <td>0</td>\n",
       "      <td>0</td>\n",
       "      <td>1</td>\n",
       "    </tr>\n",
       "    <tr>\n",
       "      <th>17406</th>\n",
       "      <td>0</td>\n",
       "      <td>1</td>\n",
       "      <td>0</td>\n",
       "      <td>0</td>\n",
       "      <td>0</td>\n",
       "      <td>73.0</td>\n",
       "      <td>0.0</td>\n",
       "      <td>1</td>\n",
       "      <td>0</td>\n",
       "      <td>0</td>\n",
       "      <td>0</td>\n",
       "      <td>0</td>\n",
       "      <td>0</td>\n",
       "      <td>1</td>\n",
       "    </tr>\n",
       "    <tr>\n",
       "      <th>17407</th>\n",
       "      <td>1</td>\n",
       "      <td>0</td>\n",
       "      <td>0</td>\n",
       "      <td>0</td>\n",
       "      <td>0</td>\n",
       "      <td>92.0</td>\n",
       "      <td>0.0</td>\n",
       "      <td>1</td>\n",
       "      <td>0</td>\n",
       "      <td>0</td>\n",
       "      <td>0</td>\n",
       "      <td>0</td>\n",
       "      <td>0</td>\n",
       "      <td>1</td>\n",
       "    </tr>\n",
       "    <tr>\n",
       "      <th>17408</th>\n",
       "      <td>0</td>\n",
       "      <td>1</td>\n",
       "      <td>0</td>\n",
       "      <td>0</td>\n",
       "      <td>0</td>\n",
       "      <td>65.0</td>\n",
       "      <td>0.0</td>\n",
       "      <td>0</td>\n",
       "      <td>0</td>\n",
       "      <td>0</td>\n",
       "      <td>0</td>\n",
       "      <td>0</td>\n",
       "      <td>0</td>\n",
       "      <td>1</td>\n",
       "    </tr>\n",
       "    <tr>\n",
       "      <th>17409</th>\n",
       "      <td>1</td>\n",
       "      <td>0</td>\n",
       "      <td>0</td>\n",
       "      <td>0</td>\n",
       "      <td>0</td>\n",
       "      <td>66.0</td>\n",
       "      <td>0.0</td>\n",
       "      <td>0</td>\n",
       "      <td>0</td>\n",
       "      <td>0</td>\n",
       "      <td>0</td>\n",
       "      <td>0</td>\n",
       "      <td>0</td>\n",
       "      <td>1</td>\n",
       "    </tr>\n",
       "    <tr>\n",
       "      <th>17410</th>\n",
       "      <td>0</td>\n",
       "      <td>0</td>\n",
       "      <td>0</td>\n",
       "      <td>1</td>\n",
       "      <td>0</td>\n",
       "      <td>66.0</td>\n",
       "      <td>0.0</td>\n",
       "      <td>0</td>\n",
       "      <td>0</td>\n",
       "      <td>0</td>\n",
       "      <td>0</td>\n",
       "      <td>0</td>\n",
       "      <td>1</td>\n",
       "      <td>0</td>\n",
       "    </tr>\n",
       "    <tr>\n",
       "      <th>17411</th>\n",
       "      <td>0</td>\n",
       "      <td>0</td>\n",
       "      <td>1</td>\n",
       "      <td>0</td>\n",
       "      <td>0</td>\n",
       "      <td>72.0</td>\n",
       "      <td>0.0</td>\n",
       "      <td>1</td>\n",
       "      <td>0</td>\n",
       "      <td>0</td>\n",
       "      <td>0</td>\n",
       "      <td>0</td>\n",
       "      <td>0</td>\n",
       "      <td>1</td>\n",
       "    </tr>\n",
       "    <tr>\n",
       "      <th>17412</th>\n",
       "      <td>0</td>\n",
       "      <td>0</td>\n",
       "      <td>0</td>\n",
       "      <td>1</td>\n",
       "      <td>0</td>\n",
       "      <td>72.0</td>\n",
       "      <td>1.0</td>\n",
       "      <td>0</td>\n",
       "      <td>0</td>\n",
       "      <td>0</td>\n",
       "      <td>0</td>\n",
       "      <td>0</td>\n",
       "      <td>0</td>\n",
       "      <td>1</td>\n",
       "    </tr>\n",
       "    <tr>\n",
       "      <th>17413</th>\n",
       "      <td>0</td>\n",
       "      <td>0</td>\n",
       "      <td>1</td>\n",
       "      <td>0</td>\n",
       "      <td>0</td>\n",
       "      <td>63.0</td>\n",
       "      <td>0.0</td>\n",
       "      <td>0</td>\n",
       "      <td>0</td>\n",
       "      <td>0</td>\n",
       "      <td>0</td>\n",
       "      <td>0</td>\n",
       "      <td>0</td>\n",
       "      <td>1</td>\n",
       "    </tr>\n",
       "    <tr>\n",
       "      <th>17414</th>\n",
       "      <td>0</td>\n",
       "      <td>1</td>\n",
       "      <td>0</td>\n",
       "      <td>0</td>\n",
       "      <td>0</td>\n",
       "      <td>66.0</td>\n",
       "      <td>0.0</td>\n",
       "      <td>1</td>\n",
       "      <td>0</td>\n",
       "      <td>0</td>\n",
       "      <td>0</td>\n",
       "      <td>0</td>\n",
       "      <td>0</td>\n",
       "      <td>1</td>\n",
       "    </tr>\n",
       "    <tr>\n",
       "      <th>17415</th>\n",
       "      <td>0</td>\n",
       "      <td>0</td>\n",
       "      <td>0</td>\n",
       "      <td>0</td>\n",
       "      <td>1</td>\n",
       "      <td>66.0</td>\n",
       "      <td>0.0</td>\n",
       "      <td>1</td>\n",
       "      <td>0</td>\n",
       "      <td>0</td>\n",
       "      <td>0</td>\n",
       "      <td>0</td>\n",
       "      <td>0</td>\n",
       "      <td>1</td>\n",
       "    </tr>\n",
       "    <tr>\n",
       "      <th>17416</th>\n",
       "      <td>0</td>\n",
       "      <td>1</td>\n",
       "      <td>0</td>\n",
       "      <td>0</td>\n",
       "      <td>0</td>\n",
       "      <td>62.0</td>\n",
       "      <td>0.0</td>\n",
       "      <td>1</td>\n",
       "      <td>0</td>\n",
       "      <td>0</td>\n",
       "      <td>0</td>\n",
       "      <td>0</td>\n",
       "      <td>0</td>\n",
       "      <td>1</td>\n",
       "    </tr>\n",
       "    <tr>\n",
       "      <th>17417</th>\n",
       "      <td>1</td>\n",
       "      <td>0</td>\n",
       "      <td>0</td>\n",
       "      <td>0</td>\n",
       "      <td>0</td>\n",
       "      <td>64.0</td>\n",
       "      <td>0.0</td>\n",
       "      <td>1</td>\n",
       "      <td>0</td>\n",
       "      <td>0</td>\n",
       "      <td>0</td>\n",
       "      <td>0</td>\n",
       "      <td>1</td>\n",
       "      <td>0</td>\n",
       "    </tr>\n",
       "    <tr>\n",
       "      <th>17418</th>\n",
       "      <td>0</td>\n",
       "      <td>0</td>\n",
       "      <td>0</td>\n",
       "      <td>0</td>\n",
       "      <td>1</td>\n",
       "      <td>92.0</td>\n",
       "      <td>0.0</td>\n",
       "      <td>1</td>\n",
       "      <td>0</td>\n",
       "      <td>0</td>\n",
       "      <td>0</td>\n",
       "      <td>0</td>\n",
       "      <td>0</td>\n",
       "      <td>1</td>\n",
       "    </tr>\n",
       "    <tr>\n",
       "      <th>17419</th>\n",
       "      <td>0</td>\n",
       "      <td>0</td>\n",
       "      <td>1</td>\n",
       "      <td>0</td>\n",
       "      <td>0</td>\n",
       "      <td>72.0</td>\n",
       "      <td>0.0</td>\n",
       "      <td>0</td>\n",
       "      <td>0</td>\n",
       "      <td>0</td>\n",
       "      <td>0</td>\n",
       "      <td>0</td>\n",
       "      <td>1</td>\n",
       "      <td>0</td>\n",
       "    </tr>\n",
       "    <tr>\n",
       "      <th>17420</th>\n",
       "      <td>0</td>\n",
       "      <td>1</td>\n",
       "      <td>0</td>\n",
       "      <td>0</td>\n",
       "      <td>0</td>\n",
       "      <td>69.0</td>\n",
       "      <td>0.0</td>\n",
       "      <td>1</td>\n",
       "      <td>0</td>\n",
       "      <td>0</td>\n",
       "      <td>0</td>\n",
       "      <td>0</td>\n",
       "      <td>0</td>\n",
       "      <td>1</td>\n",
       "    </tr>\n",
       "    <tr>\n",
       "      <th>17421</th>\n",
       "      <td>0</td>\n",
       "      <td>0</td>\n",
       "      <td>1</td>\n",
       "      <td>0</td>\n",
       "      <td>0</td>\n",
       "      <td>69.0</td>\n",
       "      <td>0.0</td>\n",
       "      <td>0</td>\n",
       "      <td>0</td>\n",
       "      <td>0</td>\n",
       "      <td>0</td>\n",
       "      <td>0</td>\n",
       "      <td>0</td>\n",
       "      <td>1</td>\n",
       "    </tr>\n",
       "    <tr>\n",
       "      <th>17422</th>\n",
       "      <td>0</td>\n",
       "      <td>0</td>\n",
       "      <td>0</td>\n",
       "      <td>0</td>\n",
       "      <td>1</td>\n",
       "      <td>93.0</td>\n",
       "      <td>0.0</td>\n",
       "      <td>0</td>\n",
       "      <td>0</td>\n",
       "      <td>0</td>\n",
       "      <td>0</td>\n",
       "      <td>0</td>\n",
       "      <td>1</td>\n",
       "      <td>0</td>\n",
       "    </tr>\n",
       "    <tr>\n",
       "      <th>17423</th>\n",
       "      <td>1</td>\n",
       "      <td>0</td>\n",
       "      <td>0</td>\n",
       "      <td>0</td>\n",
       "      <td>0</td>\n",
       "      <td>70.0</td>\n",
       "      <td>0.0</td>\n",
       "      <td>1</td>\n",
       "      <td>0</td>\n",
       "      <td>0</td>\n",
       "      <td>0</td>\n",
       "      <td>0</td>\n",
       "      <td>0</td>\n",
       "      <td>1</td>\n",
       "    </tr>\n",
       "    <tr>\n",
       "      <th>17424</th>\n",
       "      <td>0</td>\n",
       "      <td>1</td>\n",
       "      <td>0</td>\n",
       "      <td>0</td>\n",
       "      <td>0</td>\n",
       "      <td>63.0</td>\n",
       "      <td>0.0</td>\n",
       "      <td>1</td>\n",
       "      <td>0</td>\n",
       "      <td>1</td>\n",
       "      <td>0</td>\n",
       "      <td>0</td>\n",
       "      <td>0</td>\n",
       "      <td>0</td>\n",
       "    </tr>\n",
       "    <tr>\n",
       "      <th>17425</th>\n",
       "      <td>0</td>\n",
       "      <td>0</td>\n",
       "      <td>0</td>\n",
       "      <td>1</td>\n",
       "      <td>0</td>\n",
       "      <td>79.0</td>\n",
       "      <td>0.0</td>\n",
       "      <td>1</td>\n",
       "      <td>0</td>\n",
       "      <td>0</td>\n",
       "      <td>0</td>\n",
       "      <td>0</td>\n",
       "      <td>0</td>\n",
       "      <td>1</td>\n",
       "    </tr>\n",
       "    <tr>\n",
       "      <th>17426</th>\n",
       "      <td>0</td>\n",
       "      <td>1</td>\n",
       "      <td>0</td>\n",
       "      <td>0</td>\n",
       "      <td>0</td>\n",
       "      <td>74.0</td>\n",
       "      <td>0.0</td>\n",
       "      <td>0</td>\n",
       "      <td>1</td>\n",
       "      <td>0</td>\n",
       "      <td>0</td>\n",
       "      <td>0</td>\n",
       "      <td>0</td>\n",
       "      <td>0</td>\n",
       "    </tr>\n",
       "    <tr>\n",
       "      <th>17427</th>\n",
       "      <td>0</td>\n",
       "      <td>0</td>\n",
       "      <td>1</td>\n",
       "      <td>0</td>\n",
       "      <td>0</td>\n",
       "      <td>66.0</td>\n",
       "      <td>0.0</td>\n",
       "      <td>1</td>\n",
       "      <td>0</td>\n",
       "      <td>0</td>\n",
       "      <td>0</td>\n",
       "      <td>0</td>\n",
       "      <td>0</td>\n",
       "      <td>1</td>\n",
       "    </tr>\n",
       "    <tr>\n",
       "      <th>17428</th>\n",
       "      <td>0</td>\n",
       "      <td>0</td>\n",
       "      <td>1</td>\n",
       "      <td>0</td>\n",
       "      <td>0</td>\n",
       "      <td>59.0</td>\n",
       "      <td>0.0</td>\n",
       "      <td>1</td>\n",
       "      <td>0</td>\n",
       "      <td>0</td>\n",
       "      <td>0</td>\n",
       "      <td>0</td>\n",
       "      <td>0</td>\n",
       "      <td>1</td>\n",
       "    </tr>\n",
       "    <tr>\n",
       "      <th>17429</th>\n",
       "      <td>0</td>\n",
       "      <td>0</td>\n",
       "      <td>0</td>\n",
       "      <td>0</td>\n",
       "      <td>1</td>\n",
       "      <td>58.0</td>\n",
       "      <td>0.0</td>\n",
       "      <td>0</td>\n",
       "      <td>0</td>\n",
       "      <td>0</td>\n",
       "      <td>0</td>\n",
       "      <td>0</td>\n",
       "      <td>0</td>\n",
       "      <td>1</td>\n",
       "    </tr>\n",
       "    <tr>\n",
       "      <th>17430</th>\n",
       "      <td>0</td>\n",
       "      <td>0</td>\n",
       "      <td>0</td>\n",
       "      <td>0</td>\n",
       "      <td>1</td>\n",
       "      <td>72.0</td>\n",
       "      <td>0.0</td>\n",
       "      <td>1</td>\n",
       "      <td>0</td>\n",
       "      <td>0</td>\n",
       "      <td>0</td>\n",
       "      <td>0</td>\n",
       "      <td>0</td>\n",
       "      <td>1</td>\n",
       "    </tr>\n",
       "    <tr>\n",
       "      <th>17431</th>\n",
       "      <td>0</td>\n",
       "      <td>0</td>\n",
       "      <td>0</td>\n",
       "      <td>1</td>\n",
       "      <td>0</td>\n",
       "      <td>59.0</td>\n",
       "      <td>0.0</td>\n",
       "      <td>0</td>\n",
       "      <td>0</td>\n",
       "      <td>0</td>\n",
       "      <td>0</td>\n",
       "      <td>0</td>\n",
       "      <td>0</td>\n",
       "      <td>1</td>\n",
       "    </tr>\n",
       "  </tbody>\n",
       "</table>\n",
       "<p>17432 rows × 14 columns</p>\n",
       "</div>"
      ],
      "text/plain": [
       "       credit__Don't know  credit__Poor  credit__Excellent  credit__Fair  \\\n",
       "0                       0             0                  1             0   \n",
       "1                       0             0                  0             0   \n",
       "2                       0             1                  0             0   \n",
       "3                       0             1                  0             0   \n",
       "4                       0             0                  1             0   \n",
       "5                       0             0                  0             0   \n",
       "6                       0             0                  1             0   \n",
       "7                       0             0                  0             0   \n",
       "8                       0             0                  1             0   \n",
       "9                       0             0                  0             1   \n",
       "10                      0             0                  0             0   \n",
       "11                      0             0                  0             1   \n",
       "12                      0             1                  0             0   \n",
       "13                      0             0                  0             0   \n",
       "14                      0             0                  1             0   \n",
       "15                      0             0                  1             0   \n",
       "16                      0             1                  0             0   \n",
       "17                      0             0                  0             1   \n",
       "18                      1             0                  0             0   \n",
       "19                      0             0                  0             1   \n",
       "20                      0             0                  1             0   \n",
       "21                      1             0                  0             0   \n",
       "22                      0             0                  1             0   \n",
       "23                      0             0                  1             0   \n",
       "24                      0             0                  1             0   \n",
       "25                      0             0                  0             0   \n",
       "26                      0             0                  0             1   \n",
       "27                      0             0                  1             0   \n",
       "28                      0             0                  0             0   \n",
       "29                      0             0                  0             0   \n",
       "...                   ...           ...                ...           ...   \n",
       "17402                   0             0                  0             1   \n",
       "17403                   0             0                  1             0   \n",
       "17404                   0             0                  1             0   \n",
       "17405                   0             0                  0             1   \n",
       "17406                   0             1                  0             0   \n",
       "17407                   1             0                  0             0   \n",
       "17408                   0             1                  0             0   \n",
       "17409                   1             0                  0             0   \n",
       "17410                   0             0                  0             1   \n",
       "17411                   0             0                  1             0   \n",
       "17412                   0             0                  0             1   \n",
       "17413                   0             0                  1             0   \n",
       "17414                   0             1                  0             0   \n",
       "17415                   0             0                  0             0   \n",
       "17416                   0             1                  0             0   \n",
       "17417                   1             0                  0             0   \n",
       "17418                   0             0                  0             0   \n",
       "17419                   0             0                  1             0   \n",
       "17420                   0             1                  0             0   \n",
       "17421                   0             0                  1             0   \n",
       "17422                   0             0                  0             0   \n",
       "17423                   1             0                  0             0   \n",
       "17424                   0             1                  0             0   \n",
       "17425                   0             0                  0             1   \n",
       "17426                   0             1                  0             0   \n",
       "17427                   0             0                  1             0   \n",
       "17428                   0             0                  1             0   \n",
       "17429                   0             0                  0             0   \n",
       "17430                   0             0                  0             0   \n",
       "17431                   0             0                  0             1   \n",
       "\n",
       "       credit__Good  Numeric Age Filled  Exposed filled  iOS  HA_age_1 year  \\\n",
       "0                 0                54.0             0.0    1              0   \n",
       "1                 1                51.0             0.0    0              0   \n",
       "2                 0                48.0             0.0    1              0   \n",
       "3                 0                58.0             0.0    0              0   \n",
       "4                 0                68.0             0.0    0              0   \n",
       "5                 1                51.0             1.0    0              0   \n",
       "6                 0                50.0             0.0    1              0   \n",
       "7                 1                39.0             0.0    0              0   \n",
       "8                 0                67.0             0.0    1              0   \n",
       "9                 0                64.0             1.0    1              0   \n",
       "10                1                64.0             0.0    1              0   \n",
       "11                0                64.0             0.0    1              0   \n",
       "12                0                57.0             0.0    0              0   \n",
       "13                1                56.0             0.0    0              0   \n",
       "14                0                78.0             0.0    0              0   \n",
       "15                0                90.0             1.0    0              1   \n",
       "16                0                65.0             0.0    1              0   \n",
       "17                0                57.0             0.0    0              0   \n",
       "18                0                57.0             0.0    1              0   \n",
       "19                0                74.0             0.0    0              0   \n",
       "20                0                81.0             0.0    1              0   \n",
       "21                0                50.0             0.0    0              0   \n",
       "22                0                65.0             0.0    0              1   \n",
       "23                0                66.0             0.0    0              0   \n",
       "24                0                60.0             0.0    0              0   \n",
       "25                1                75.0             1.0    0              0   \n",
       "26                0                53.0             0.0    0              0   \n",
       "27                0                68.0             0.0    0              0   \n",
       "28                1                69.0             1.0    0              0   \n",
       "29                1                69.0             0.0    1              0   \n",
       "...             ...                 ...             ...  ...            ...   \n",
       "17402             0                65.0             0.0    0              0   \n",
       "17403             0                76.0             0.0    1              1   \n",
       "17404             0                70.0             0.0    0              1   \n",
       "17405             0                60.0             0.0    0              0   \n",
       "17406             0                73.0             0.0    1              0   \n",
       "17407             0                92.0             0.0    1              0   \n",
       "17408             0                65.0             0.0    0              0   \n",
       "17409             0                66.0             0.0    0              0   \n",
       "17410             0                66.0             0.0    0              0   \n",
       "17411             0                72.0             0.0    1              0   \n",
       "17412             0                72.0             1.0    0              0   \n",
       "17413             0                63.0             0.0    0              0   \n",
       "17414             0                66.0             0.0    1              0   \n",
       "17415             1                66.0             0.0    1              0   \n",
       "17416             0                62.0             0.0    1              0   \n",
       "17417             0                64.0             0.0    1              0   \n",
       "17418             1                92.0             0.0    1              0   \n",
       "17419             0                72.0             0.0    0              0   \n",
       "17420             0                69.0             0.0    1              0   \n",
       "17421             0                69.0             0.0    0              0   \n",
       "17422             1                93.0             0.0    0              0   \n",
       "17423             0                70.0             0.0    1              0   \n",
       "17424             0                63.0             0.0    1              0   \n",
       "17425             0                79.0             0.0    1              0   \n",
       "17426             0                74.0             0.0    0              1   \n",
       "17427             0                66.0             0.0    1              0   \n",
       "17428             0                59.0             0.0    1              0   \n",
       "17429             1                58.0             0.0    0              0   \n",
       "17430             1                72.0             0.0    1              0   \n",
       "17431             0                59.0             0.0    0              0   \n",
       "\n",
       "       HA_age_2 years  HA_age_3 years  HA_age_4 years  HA_age_5 years  \\\n",
       "0                   0               1               0               0   \n",
       "1                   0               0               0               1   \n",
       "2                   0               0               0               1   \n",
       "3                   0               0               0               0   \n",
       "4                   0               0               0               0   \n",
       "5                   0               0               0               0   \n",
       "6                   0               0               0               0   \n",
       "7                   0               0               0               0   \n",
       "8                   0               0               0               0   \n",
       "9                   1               0               0               0   \n",
       "10                  0               0               0               1   \n",
       "11                  0               1               0               0   \n",
       "12                  0               0               0               0   \n",
       "13                  0               0               0               0   \n",
       "14                  0               0               0               0   \n",
       "15                  0               0               0               0   \n",
       "16                  0               0               0               1   \n",
       "17                  0               1               0               0   \n",
       "18                  0               1               0               0   \n",
       "19                  1               0               0               0   \n",
       "20                  0               0               0               0   \n",
       "21                  0               0               0               0   \n",
       "22                  0               0               0               0   \n",
       "23                  0               0               0               0   \n",
       "24                  0               0               0               0   \n",
       "25                  0               0               0               0   \n",
       "26                  0               0               0               0   \n",
       "27                  1               0               0               0   \n",
       "28                  0               0               0               0   \n",
       "29                  1               0               0               0   \n",
       "...               ...             ...             ...             ...   \n",
       "17402               0               0               0               0   \n",
       "17403               0               0               0               0   \n",
       "17404               0               0               0               0   \n",
       "17405               0               0               0               0   \n",
       "17406               0               0               0               0   \n",
       "17407               0               0               0               0   \n",
       "17408               0               0               0               0   \n",
       "17409               0               0               0               0   \n",
       "17410               0               0               0               1   \n",
       "17411               0               0               0               0   \n",
       "17412               0               0               0               0   \n",
       "17413               0               0               0               0   \n",
       "17414               0               0               0               0   \n",
       "17415               0               0               0               0   \n",
       "17416               0               0               0               0   \n",
       "17417               0               0               0               1   \n",
       "17418               0               0               0               0   \n",
       "17419               0               0               0               1   \n",
       "17420               0               0               0               0   \n",
       "17421               0               0               0               0   \n",
       "17422               0               0               0               1   \n",
       "17423               0               0               0               0   \n",
       "17424               1               0               0               0   \n",
       "17425               0               0               0               0   \n",
       "17426               0               0               0               0   \n",
       "17427               0               0               0               0   \n",
       "17428               0               0               0               0   \n",
       "17429               0               0               0               0   \n",
       "17430               0               0               0               0   \n",
       "17431               0               0               0               0   \n",
       "\n",
       "       HA_age_No HA  \n",
       "0                 0  \n",
       "1                 0  \n",
       "2                 0  \n",
       "3                 1  \n",
       "4                 1  \n",
       "5                 1  \n",
       "6                 1  \n",
       "7                 1  \n",
       "8                 1  \n",
       "9                 0  \n",
       "10                0  \n",
       "11                0  \n",
       "12                1  \n",
       "13                1  \n",
       "14                1  \n",
       "15                0  \n",
       "16                0  \n",
       "17                0  \n",
       "18                0  \n",
       "19                0  \n",
       "20                1  \n",
       "21                1  \n",
       "22                0  \n",
       "23                1  \n",
       "24                1  \n",
       "25                1  \n",
       "26                1  \n",
       "27                0  \n",
       "28                1  \n",
       "29                0  \n",
       "...             ...  \n",
       "17402             1  \n",
       "17403             0  \n",
       "17404             0  \n",
       "17405             1  \n",
       "17406             1  \n",
       "17407             1  \n",
       "17408             1  \n",
       "17409             1  \n",
       "17410             0  \n",
       "17411             1  \n",
       "17412             1  \n",
       "17413             1  \n",
       "17414             1  \n",
       "17415             1  \n",
       "17416             1  \n",
       "17417             0  \n",
       "17418             1  \n",
       "17419             0  \n",
       "17420             1  \n",
       "17421             1  \n",
       "17422             0  \n",
       "17423             1  \n",
       "17424             0  \n",
       "17425             1  \n",
       "17426             0  \n",
       "17427             1  \n",
       "17428             1  \n",
       "17429             1  \n",
       "17430             1  \n",
       "17431             1  \n",
       "\n",
       "[17432 rows x 14 columns]"
      ]
     },
     "execution_count": 76,
     "metadata": {},
     "output_type": "execute_result"
    }
   ],
   "source": [
    "df_model_data"
   ]
  },
  {
   "cell_type": "code",
   "execution_count": 77,
   "metadata": {},
   "outputs": [
    {
     "name": "stdout",
     "output_type": "stream",
     "text": [
      "Optimization terminated successfully.\n",
      "         Current function value: 0.252138\n",
      "         Iterations 11\n",
      "                          Results: Logit\n",
      "===================================================================\n",
      "Model:               Logit            Pseudo R-squared: 0.090      \n",
      "Dependent Variable:  Converted        AIC:              8818.5276  \n",
      "Date:                2018-10-14 20:28 BIC:              8927.2525  \n",
      "No. Observations:    17432            Log-Likelihood:   -4395.3    \n",
      "Df Model:            13               LL-Null:          -4828.8    \n",
      "Df Residuals:        17418            LLR p-value:      6.0308e-177\n",
      "Converged:           1.0000           Scale:            1.0000     \n",
      "No. Iterations:      11.0000                                       \n",
      "-------------------------------------------------------------------\n",
      "                    Coef.  Std.Err.    z     P>|z|   [0.025  0.975]\n",
      "-------------------------------------------------------------------\n",
      "credit__Don't know  3.6100   0.3837   9.4082 0.0000  2.8579  4.3620\n",
      "credit__Poor        3.3659   0.3780   8.9056 0.0000  2.6251  4.1067\n",
      "credit__Excellent   3.9307   0.3826  10.2726 0.0000  3.1808  4.6807\n",
      "credit__Fair        3.7711   0.3805   9.9101 0.0000  3.0253  4.5169\n",
      "credit__Good        3.9490   0.3819  10.3415 0.0000  3.2005  4.6974\n",
      "Numeric Age Filled -0.0227   0.0029  -7.7036 0.0000 -0.0284 -0.0169\n",
      "Exposed filled     -4.1984   0.7129  -5.8888 0.0000 -5.5957 -2.8011\n",
      "iOS                 0.0843   0.0594   1.4190 0.1559 -0.0321  0.2007\n",
      "HA_age_1 year      -6.0276   0.4036 -14.9340 0.0000 -6.8187 -5.2365\n",
      "HA_age_2 years     -5.3816   0.3535 -15.2223 0.0000 -6.0746 -4.6887\n",
      "HA_age_3 years     -4.8174   0.3423 -14.0740 0.0000 -5.4883 -4.1465\n",
      "HA_age_4 years     -4.9306   0.3554 -13.8743 0.0000 -5.6272 -4.2341\n",
      "HA_age_5 years     -4.8873   0.3308 -14.7747 0.0000 -5.5356 -4.2390\n",
      "HA_age_No HA       -4.6693   0.3162 -14.7659 0.0000 -5.2891 -4.0495\n",
      "===================================================================\n",
      "\n"
     ]
    }
   ],
   "source": [
    "logit_model=sm.Logit(converted,df_model_data)\n",
    "result=logit_model.fit()\n",
    "print(result.summary2())"
   ]
  },
  {
   "cell_type": "code",
   "execution_count": 78,
   "metadata": {},
   "outputs": [],
   "source": [
    "ct_conversions_HA_age = pd.crosstab(index=df['Converted'], columns = [df['HA age filled']])\n",
    "cr2_HA_age = ct_conversions_HA_age.iloc[1] / (ct_conversions_HA_age.iloc[0] + ct_conversions_HA_age.iloc[1])"
   ]
  },
  {
   "cell_type": "code",
   "execution_count": 79,
   "metadata": {},
   "outputs": [
    {
     "data": {
      "text/plain": [
       "HA age filled\n",
       "1 year     0.020619\n",
       "2 years    0.037700\n",
       "3 years    0.065556\n",
       "4 years    0.057692\n",
       "5 years    0.063472\n",
       "No HA      0.082893\n",
       "none       0.899160\n",
       "dtype: float64"
      ]
     },
     "execution_count": 79,
     "metadata": {},
     "output_type": "execute_result"
    }
   ],
   "source": [
    "cr2_HA_age"
   ]
  },
  {
   "cell_type": "code",
   "execution_count": 83,
   "metadata": {},
   "outputs": [
    {
     "data": {
      "text/plain": [
       "LogisticRegression(C=100.0, class_weight=None, dual=False, fit_intercept=True,\n",
       "          intercept_scaling=1, max_iter=100, multi_class='ovr', n_jobs=1,\n",
       "          penalty='l2', random_state=None, solver='liblinear', tol=0.0001,\n",
       "          verbose=0, warm_start=False)"
      ]
     },
     "execution_count": 83,
     "metadata": {},
     "output_type": "execute_result"
    }
   ],
   "source": [
    "X_train, X_test, y_train, y_test = train_test_split(df_model_data, converted, test_size=0.2, random_state=0)\n",
    "logreg = LogisticRegression(C=100.0, class_weight=None)\n",
    "logreg.fit(X_train, y_train)"
   ]
  },
  {
   "cell_type": "code",
   "execution_count": 84,
   "metadata": {},
   "outputs": [
    {
     "name": "stdout",
     "output_type": "stream",
     "text": [
      "Accuracy of logistic regression classifier on test set: 0.9315\n"
     ]
    }
   ],
   "source": [
    "y_pred = logreg.predict(X_test)\n",
    "print('Accuracy of logistic regression classifier on test set: {:.4f}'.format(logreg.score(X_test, y_test)))"
   ]
  },
  {
   "cell_type": "code",
   "execution_count": 85,
   "metadata": {},
   "outputs": [
    {
     "data": {
      "text/plain": [
       "0.07927948600275356"
      ]
     },
     "execution_count": 85,
     "metadata": {},
     "output_type": "execute_result"
    }
   ],
   "source": [
    "df['Converted'].mean()"
   ]
  },
  {
   "cell_type": "code",
   "execution_count": 86,
   "metadata": {},
   "outputs": [
    {
     "data": {
      "text/plain": [
       "0.006022368798394035"
      ]
     },
     "execution_count": 86,
     "metadata": {},
     "output_type": "execute_result"
    }
   ],
   "source": [
    "y_pred.mean()"
   ]
  },
  {
   "cell_type": "code",
   "execution_count": 87,
   "metadata": {},
   "outputs": [
    {
     "name": "stdout",
     "output_type": "stream",
     "text": [
      "Accuracy of logistic regression classifier on test set: 0.9248\n"
     ]
    }
   ],
   "source": [
    "y_pred_train = logreg.predict(X_train)\n",
    "print('Accuracy of logistic regression classifier on test set: {:.4f}'.format(logreg.score(X_train, y_train)))"
   ]
  },
  {
   "cell_type": "code",
   "execution_count": 88,
   "metadata": {},
   "outputs": [
    {
     "data": {
      "text/plain": [
       "0.0069558981713875945"
      ]
     },
     "execution_count": 88,
     "metadata": {},
     "output_type": "execute_result"
    }
   ],
   "source": [
    "y_pred_train.mean()"
   ]
  },
  {
   "cell_type": "code",
   "execution_count": 89,
   "metadata": {},
   "outputs": [
    {
     "data": {
      "text/plain": [
       "97"
      ]
     },
     "execution_count": 89,
     "metadata": {},
     "output_type": "execute_result"
    }
   ],
   "source": [
    "y_pred_train.sum()"
   ]
  },
  {
   "cell_type": "code",
   "execution_count": 90,
   "metadata": {},
   "outputs": [
    {
     "data": {
      "text/plain": [
       "1382"
      ]
     },
     "execution_count": 90,
     "metadata": {},
     "output_type": "execute_result"
    }
   ],
   "source": [
    "converted.sum()"
   ]
  },
  {
   "cell_type": "code",
   "execution_count": 91,
   "metadata": {},
   "outputs": [
    {
     "name": "stdout",
     "output_type": "stream",
     "text": [
      "<function confusion_matrix at 0x107fc1620>\n"
     ]
    }
   ],
   "source": [
    "conf_mat = confusion_matrix(y_test, y_pred)\n",
    "print(confusion_matrix)"
   ]
  },
  {
   "cell_type": "code",
   "execution_count": 92,
   "metadata": {},
   "outputs": [
    {
     "data": {
      "text/plain": [
       "Text(0,0.5,'Actual')"
      ]
     },
     "execution_count": 92,
     "metadata": {},
     "output_type": "execute_result"
    },
    {
     "data": {
      "image/png": "[encoded data removed]",
      "text/plain": [
       "<Figure size 360x360 with 1 Axes>"
      ]
     },
     "metadata": {},
     "output_type": "display_data"
    }
   ],
   "source": [
    "fig, ax = plt.subplots(figsize=(5, 5))\n",
    "ax.matshow(conf_mat, cmap=plt.cm.Blues, alpha=0.3)\n",
    "for i in range(conf_mat.shape[0]):\n",
    "    for j in range(conf_mat.shape[1]):\n",
    "        ax.text(x=j, y=i, s=conf_mat[i, j], va='center', ha='center')\n",
    "plt.xlabel('Prediction')\n",
    "plt.ylabel('Actual')"
   ]
  },
  {
   "cell_type": "code",
   "execution_count": 93,
   "metadata": {},
   "outputs": [
    {
     "data": {
      "text/plain": [
       "0.9047619047619048"
      ]
     },
     "execution_count": 93,
     "metadata": {},
     "output_type": "execute_result"
    }
   ],
   "source": [
    "metrics.precision_score(y_true=y_test, y_pred=y_pred)"
   ]
  },
  {
   "cell_type": "code",
   "execution_count": 94,
   "metadata": {},
   "outputs": [
    {
     "data": {
      "text/plain": [
       "0.07421875"
      ]
     },
     "execution_count": 94,
     "metadata": {},
     "output_type": "execute_result"
    }
   ],
   "source": [
    "metrics.recall_score(y_true=y_test, y_pred=y_pred)"
   ]
  },
  {
   "cell_type": "code",
   "execution_count": 95,
   "metadata": {},
   "outputs": [
    {
     "data": {
      "text/plain": [
       "0.1371841155234657"
      ]
     },
     "execution_count": 95,
     "metadata": {},
     "output_type": "execute_result"
    }
   ],
   "source": [
    "metrics.f1_score(y_true=y_test, y_pred=y_pred)"
   ]
  },
  {
   "cell_type": "code",
   "execution_count": 118,
   "metadata": {},
   "outputs": [
    {
     "data": {
      "text/plain": [
       "<Figure size 504x360 with 0 Axes>"
      ]
     },
     "metadata": {},
     "output_type": "display_data"
    }
   ],
   "source": [
    "# ROC Curve\n",
    "\n",
    "fig = plt.figure(figsize=(7, 5))\n",
    "\n",
    "mean_tpr = 0.0\n",
    "mean_fpr = np.linspace(0, 1, 100)\n",
    "all_tpr = []\n",
    "\n",
    "probas = logreg.predict_proba(X_test)\n",
    "\n",
    "fpr, tpr, thresholds = roc_curve(y_test,\n",
    "                                     probas[:, 1])"
   ]
  },
  {
   "cell_type": "code",
   "execution_count": 121,
   "metadata": {},
   "outputs": [
    {
     "data": {
      "image/png": "[encoded data removed]",
      "text/plain": [
       "<Figure size 432x288 with 1 Axes>"
      ]
     },
     "metadata": {},
     "output_type": "display_data"
    }
   ],
   "source": [
    "# ROC Curve\n",
    "\n",
    "\n",
    "mean_tpr += interp(mean_fpr, fpr, tpr)\n",
    "mean_tpr[0] = 0.0\n",
    "roc_auc = auc(fpr, tpr)\n",
    "plt.plot(fpr,\n",
    "             tpr,\n",
    "             label='ROC (area = %0.2f)' % roc_auc)\n",
    "\n",
    "plt.plot([0, 0, 1],\n",
    "         [0, 1, 1],\n",
    "         linestyle=':',\n",
    "         color='black',\n",
    "         label='perfect performance')\n",
    "\n",
    "\n",
    "plt.plot([0, 1],\n",
    "         [0, 1],\n",
    "         linestyle='--',\n",
    "         color=(0.6, 0.6, 0.6),\n",
    "         label='random guessing')\n",
    "\n",
    "plt.xlim([-0.05, 1.05])\n",
    "plt.ylim([-0.05, 1.05])\n",
    "plt.xlabel('false positive rate')\n",
    "plt.ylabel('true positive rate')\n",
    "plt.legend(loc=\"lower right\")\n",
    "\n",
    "plt.tight_layout()\n",
    "plt.savefig('data/06_10.png', dpi=300)\n",
    "plt.show()\n"
   ]
  },
  {
   "cell_type": "code",
   "execution_count": 113,
   "metadata": {},
   "outputs": [],
   "source": [
    "ROC_df = pd.DataFrame(probas)"
   ]
  },
  {
   "cell_type": "code",
   "execution_count": 114,
   "metadata": {},
   "outputs": [],
   "source": [
    "ROC_df.to_csv(\"./data/ROC_df.csv\")"
   ]
  },
  {
   "cell_type": "code",
   "execution_count": null,
   "metadata": {},
   "outputs": [],
   "source": []
  }
 ],
 "metadata": {
  "kernelspec": {
   "display_name": "Python 3",
   "language": "python",
   "name": "python3"
  },
  "language_info": {
   "codemirror_mode": {
    "name": "ipython",
    "version": 3
   },
   "file_extension": ".py",
   "mimetype": "text/x-python",
   "name": "python",
   "nbconvert_exporter": "python",
   "pygments_lexer": "ipython3",
   "version": "3.6.4"
  }
 },
 "nbformat": 4,
 "nbformat_minor": 2
}
