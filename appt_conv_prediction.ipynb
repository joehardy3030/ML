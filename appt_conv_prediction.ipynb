{
 "cells": [
  {
   "cell_type": "code",
   "execution_count": 1,
   "metadata": {},
   "outputs": [],
   "source": [
    "import numpy as np\n",
    "import pandas as pd\n",
    "import matplotlib.pyplot as plt\n",
    "import datetime as dt\n",
    "import string as str\n",
    "import seaborn as sns\n",
    "import os\n",
    "from sklearn.linear_model import LogisticRegression\n",
    "import statsmodels.api as sm"
   ]
  },
  {
   "cell_type": "code",
   "execution_count": 2,
   "metadata": {},
   "outputs": [
    {
     "name": "stderr",
     "output_type": "stream",
     "text": [
      "/Users/joehardy/Dev/ML/ML_env/lib/python3.6/site-packages/IPython/core/interactiveshell.py:2728: DtypeWarning: Columns (40,43) have mixed types. Specify dtype option on import or set low_memory=False.\n",
      "  interactivity=interactivity, compiler=compiler, result=result)\n"
     ]
    }
   ],
   "source": [
    "df = pd.read_csv('./data/social_leads_aug_sept_clean.csv')"
   ]
  },
  {
   "cell_type": "code",
   "execution_count": 3,
   "metadata": {},
   "outputs": [],
   "source": [
    "#Income\n",
    "#Is U.S. Veteran\n",
    "#Precise Age\n",
    "#audience\n",
    "#Landing URL\n",
    "#creative\n",
    "#Browser\n",
    "#Android / iOS"
   ]
  },
  {
   "cell_type": "code",
   "execution_count": 4,
   "metadata": {},
   "outputs": [],
   "source": [
    "def make_date_cols(df):\n",
    "    df['lead_creation_datetime'] = pd.to_datetime(pd.Series(df['Lead Creation Datetime']))\n",
    "    df['created_date'] = pd.to_datetime(pd.Series(df['Created Date']))\n",
    "  #  df['datetime_of_first_call'] = pd.to_datetime(pd.Series(df['DateTime Of First Call']))\n",
    "    df['converted_date'] = pd.to_datetime(pd.Series(df['Converted Date']))\n",
    "    return(df)"
   ]
  },
  {
   "cell_type": "code",
   "execution_count": 5,
   "metadata": {},
   "outputs": [],
   "source": [
    "df = make_date_cols(df)"
   ]
  },
  {
   "cell_type": "code",
   "execution_count": 6,
   "metadata": {},
   "outputs": [
    {
     "data": {
      "text/plain": [
       "Index(['Lead Creation Datetime', 'Created Date', 'Lead ID', 'First Name',\n",
       "       'Last Name', 'act', 'Customer browser language', 'Landing URL',\n",
       "       'Browser', 'Android / iOS', 'User Device', 'Usage',\n",
       "       'Controlling Channel', 'Marketing Partner', 'Marketing offer',\n",
       "       'Lead Status', 'Reason for closing of lead', 'Converted',\n",
       "       'Opportunity ID', 'Converted Date', 'Stage', 'Last quote',\n",
       "       'Reason for closed and lost', 'Searching for', 'Experience',\n",
       "       'Age of current hearing aid', 'Currently looking for hearing aids',\n",
       "       'Visited ENT or audiologist', 'Recent hearing test', 'Why not sooner?',\n",
       "       'COSI Basic Subtype 1', 'Discreet design', 'Tinnitus',\n",
       "       'Purchase timeframe', 'Professional status', 'Income',\n",
       "       'Income Reformatted', 'Willingness to invest', 'Is U.S. Veteran',\n",
       "       'Exposed to loud noises', 'Mobile', 'Phone', 'Email', 'Precise Age',\n",
       "       'Zip/Postal Code', 'Dynamic Marketing Comment', 'Video / Img',\n",
       "       'audience', 'creative', 'lead_creation_datetime', 'created_date',\n",
       "       'converted_date'],\n",
       "      dtype='object')"
      ]
     },
     "execution_count": 6,
     "metadata": {},
     "output_type": "execute_result"
    }
   ],
   "source": [
    "df.columns"
   ]
  },
  {
   "cell_type": "code",
   "execution_count": 7,
   "metadata": {},
   "outputs": [],
   "source": [
    "ct_conversions_income = pd.crosstab(index=df['Converted'], columns = [df['Income']])"
   ]
  },
  {
   "cell_type": "code",
   "execution_count": 8,
   "metadata": {},
   "outputs": [
    {
     "data": {
      "text/html": [
       "<div>\n",
       "<style scoped>\n",
       "    .dataframe tbody tr th:only-of-type {\n",
       "        vertical-align: middle;\n",
       "    }\n",
       "\n",
       "    .dataframe tbody tr th {\n",
       "        vertical-align: top;\n",
       "    }\n",
       "\n",
       "    .dataframe thead th {\n",
       "        text-align: right;\n",
       "    }\n",
       "</style>\n",
       "<table border=\"1\" class=\"dataframe\">\n",
       "  <thead>\n",
       "    <tr style=\"text-align: right;\">\n",
       "      <th>Income</th>\n",
       "      <th>$30,000 ? $49,999</th>\n",
       "      <th>$30,000-$49,999</th>\n",
       "      <th>$50,000 ? $69,999</th>\n",
       "      <th>$50,000 to $69,999</th>\n",
       "      <th>$50,000-$69,999</th>\n",
       "      <th>$70,000 ? $89,999</th>\n",
       "      <th>$70,000-$89,999</th>\n",
       "      <th>Under 39 years-old</th>\n",
       "      <th>Unsure</th>\n",
       "      <th>less than $30,000</th>\n",
       "      <th>more than $90,000</th>\n",
       "    </tr>\n",
       "    <tr>\n",
       "      <th>Converted</th>\n",
       "      <th></th>\n",
       "      <th></th>\n",
       "      <th></th>\n",
       "      <th></th>\n",
       "      <th></th>\n",
       "      <th></th>\n",
       "      <th></th>\n",
       "      <th></th>\n",
       "      <th></th>\n",
       "      <th></th>\n",
       "      <th></th>\n",
       "    </tr>\n",
       "  </thead>\n",
       "  <tbody>\n",
       "    <tr>\n",
       "      <th>0</th>\n",
       "      <td>1672</td>\n",
       "      <td>18</td>\n",
       "      <td>2570</td>\n",
       "      <td>10</td>\n",
       "      <td>6</td>\n",
       "      <td>3185</td>\n",
       "      <td>10</td>\n",
       "      <td>1</td>\n",
       "      <td>21</td>\n",
       "      <td>2692</td>\n",
       "      <td>5595</td>\n",
       "    </tr>\n",
       "    <tr>\n",
       "      <th>1</th>\n",
       "      <td>127</td>\n",
       "      <td>2</td>\n",
       "      <td>224</td>\n",
       "      <td>0</td>\n",
       "      <td>0</td>\n",
       "      <td>318</td>\n",
       "      <td>2</td>\n",
       "      <td>0</td>\n",
       "      <td>0</td>\n",
       "      <td>169</td>\n",
       "      <td>521</td>\n",
       "    </tr>\n",
       "  </tbody>\n",
       "</table>\n",
       "</div>"
      ],
      "text/plain": [
       "Income     $30,000 ? $49,999  $30,000-$49,999  $50,000 ? $69,999  \\\n",
       "Converted                                                          \n",
       "0                       1672               18               2570   \n",
       "1                        127                2                224   \n",
       "\n",
       "Income     $50,000 to $69,999  $50,000-$69,999  $70,000 ? $89,999  \\\n",
       "Converted                                                           \n",
       "0                          10                6               3185   \n",
       "1                           0                0                318   \n",
       "\n",
       "Income     $70,000-$89,999  Under 39 years-old  Unsure  less than $30,000  \\\n",
       "Converted                                                                   \n",
       "0                       10                   1      21               2692   \n",
       "1                        2                   0       0                169   \n",
       "\n",
       "Income     more than $90,000  \n",
       "Converted                     \n",
       "0                       5595  \n",
       "1                        521  "
      ]
     },
     "execution_count": 8,
     "metadata": {},
     "output_type": "execute_result"
    }
   ],
   "source": [
    "ct_conversions_income"
   ]
  },
  {
   "cell_type": "code",
   "execution_count": 9,
   "metadata": {},
   "outputs": [
    {
     "data": {
      "text/plain": [
       "Index(['$30,000 ? $49,999', '$30,000-$49,999', '$50,000 ? $69,999',\n",
       "       '$50,000 to $69,999', '$50,000-$69,999', '$70,000 ? $89,999',\n",
       "       '$70,000-$89,999', 'Under 39 years-old', 'Unsure', 'less than $30,000',\n",
       "       'more than $90,000'],\n",
       "      dtype='object', name='Income')"
      ]
     },
     "execution_count": 9,
     "metadata": {},
     "output_type": "execute_result"
    }
   ],
   "source": [
    "ct_conversions_income.columns"
   ]
  },
  {
   "cell_type": "code",
   "execution_count": 10,
   "metadata": {},
   "outputs": [],
   "source": [
    "#less than $30,000\t– Poor (0-639)\n",
    "#$30,000 – $49,999\t– Don't know\n",
    "#$50,000 – $69,999\t– Fair (640-679)\n",
    "#$70,000 – $89,999\t– Good (680-719)\n",
    "#more than $90,000\t– Excellent (720-850)"
   ]
  },
  {
   "cell_type": "code",
   "execution_count": 11,
   "metadata": {},
   "outputs": [],
   "source": [
    "ct_conversions_credit = ct_conversions_income['$30,000 ? $49,999'] +   ct_conversions_income['$30,000-$49,999']"
   ]
  },
  {
   "cell_type": "code",
   "execution_count": 12,
   "metadata": {},
   "outputs": [],
   "source": [
    "ct_conversions_income_rf = pd.crosstab(index=df['Converted'], columns = [df['Income Reformatted']])"
   ]
  },
  {
   "cell_type": "code",
   "execution_count": 13,
   "metadata": {},
   "outputs": [
    {
     "data": {
      "text/html": [
       "<div>\n",
       "<style scoped>\n",
       "    .dataframe tbody tr th:only-of-type {\n",
       "        vertical-align: middle;\n",
       "    }\n",
       "\n",
       "    .dataframe tbody tr th {\n",
       "        vertical-align: top;\n",
       "    }\n",
       "\n",
       "    .dataframe thead th {\n",
       "        text-align: right;\n",
       "    }\n",
       "</style>\n",
       "<table border=\"1\" class=\"dataframe\">\n",
       "  <thead>\n",
       "    <tr style=\"text-align: right;\">\n",
       "      <th>Income Reformatted</th>\n",
       "      <th>$30,000 - $49,999</th>\n",
       "      <th>$50,000 - $69,999</th>\n",
       "      <th>$70,000 - $89,999</th>\n",
       "      <th>&lt; $30k</th>\n",
       "      <th>&gt; $90k</th>\n",
       "      <th>Unsure</th>\n",
       "    </tr>\n",
       "    <tr>\n",
       "      <th>Converted</th>\n",
       "      <th></th>\n",
       "      <th></th>\n",
       "      <th></th>\n",
       "      <th></th>\n",
       "      <th></th>\n",
       "      <th></th>\n",
       "    </tr>\n",
       "  </thead>\n",
       "  <tbody>\n",
       "    <tr>\n",
       "      <th>0</th>\n",
       "      <td>1690</td>\n",
       "      <td>2586</td>\n",
       "      <td>3195</td>\n",
       "      <td>2692</td>\n",
       "      <td>5595</td>\n",
       "      <td>22</td>\n",
       "    </tr>\n",
       "    <tr>\n",
       "      <th>1</th>\n",
       "      <td>129</td>\n",
       "      <td>224</td>\n",
       "      <td>320</td>\n",
       "      <td>169</td>\n",
       "      <td>521</td>\n",
       "      <td>0</td>\n",
       "    </tr>\n",
       "  </tbody>\n",
       "</table>\n",
       "</div>"
      ],
      "text/plain": [
       "Income Reformatted  $30,000 - $49,999  $50,000 - $69,999  $70,000 - $89,999  \\\n",
       "Converted                                                                     \n",
       "0                                1690               2586               3195   \n",
       "1                                 129                224                320   \n",
       "\n",
       "Income Reformatted  < $30k  > $90k  Unsure  \n",
       "Converted                                   \n",
       "0                     2692    5595      22  \n",
       "1                      169     521       0  "
      ]
     },
     "execution_count": 13,
     "metadata": {},
     "output_type": "execute_result"
    }
   ],
   "source": [
    "ct_conversions_income_rf"
   ]
  },
  {
   "cell_type": "code",
   "execution_count": 14,
   "metadata": {},
   "outputs": [
    {
     "data": {
      "text/plain": [
       "Index(['$30,000 - $49,999', '$50,000 - $69,999', '$70,000 - $89,999', '< $30k',\n",
       "       '> $90k', 'Unsure'],\n",
       "      dtype='object', name='Income Reformatted')"
      ]
     },
     "execution_count": 14,
     "metadata": {},
     "output_type": "execute_result"
    }
   ],
   "source": [
    "ct_conversions_income_rf.columns"
   ]
  },
  {
   "cell_type": "code",
   "execution_count": 15,
   "metadata": {},
   "outputs": [],
   "source": [
    "cr2_income = ct_conversions_income_rf.iloc[1] / ct_conversions_income_rf.iloc[0]\n"
   ]
  },
  {
   "cell_type": "code",
   "execution_count": 16,
   "metadata": {},
   "outputs": [
    {
     "data": {
      "text/plain": [
       "Income Reformatted\n",
       "$30,000 - $49,999    0.076331\n",
       "$50,000 - $69,999    0.086620\n",
       "$70,000 - $89,999    0.100156\n",
       "< $30k               0.062779\n",
       "> $90k               0.093119\n",
       "Unsure               0.000000\n",
       "dtype: float64"
      ]
     },
     "execution_count": 16,
     "metadata": {},
     "output_type": "execute_result"
    }
   ],
   "source": [
    "cr2_income"
   ]
  },
  {
   "cell_type": "code",
   "execution_count": 17,
   "metadata": {},
   "outputs": [],
   "source": [
    "income_credit = {\"$30,000 - $49,999\": \"Don't know\",\n",
    "                 \"Unsure\": \"Don't know\",\n",
    "                 \"< $30k\" : \"Poor\",\n",
    "                 \"$50,000 - $69,999\": \"Fair\",\n",
    "                 \"$70,000 - $89,999\": \"Good\",\n",
    "                 \"> $90k\": \"Excellent\"}"
   ]
  },
  {
   "cell_type": "code",
   "execution_count": 18,
   "metadata": {},
   "outputs": [],
   "source": [
    "df['Credit score'] = df['Income Reformatted'].map(income_credit)"
   ]
  },
  {
   "cell_type": "code",
   "execution_count": 19,
   "metadata": {},
   "outputs": [],
   "source": [
    "# We might anticipate that not filling in the value for credit score\n",
    "# would be more similar to entering \"Don't know\" than anything else.\n",
    "# Last observation forward would also work, but might be difficult to implement in practice.\n",
    "# Could also use NaN as a category -- pd.get_dummies(s1, dummy_na=True)\n",
    "df['Credit score filled'] = df['Credit score'].fillna(\"Don't know\")"
   ]
  },
  {
   "cell_type": "code",
   "execution_count": 20,
   "metadata": {},
   "outputs": [],
   "source": [
    "ct_conversions_credit = pd.crosstab(index=df['Converted'], columns = [df['Credit score']])"
   ]
  },
  {
   "cell_type": "code",
   "execution_count": 21,
   "metadata": {},
   "outputs": [
    {
     "data": {
      "text/html": [
       "<div>\n",
       "<style scoped>\n",
       "    .dataframe tbody tr th:only-of-type {\n",
       "        vertical-align: middle;\n",
       "    }\n",
       "\n",
       "    .dataframe tbody tr th {\n",
       "        vertical-align: top;\n",
       "    }\n",
       "\n",
       "    .dataframe thead th {\n",
       "        text-align: right;\n",
       "    }\n",
       "</style>\n",
       "<table border=\"1\" class=\"dataframe\">\n",
       "  <thead>\n",
       "    <tr style=\"text-align: right;\">\n",
       "      <th>Credit score</th>\n",
       "      <th>Don't know</th>\n",
       "      <th>Excellent</th>\n",
       "      <th>Fair</th>\n",
       "      <th>Good</th>\n",
       "      <th>Poor</th>\n",
       "    </tr>\n",
       "    <tr>\n",
       "      <th>Converted</th>\n",
       "      <th></th>\n",
       "      <th></th>\n",
       "      <th></th>\n",
       "      <th></th>\n",
       "      <th></th>\n",
       "    </tr>\n",
       "  </thead>\n",
       "  <tbody>\n",
       "    <tr>\n",
       "      <th>0</th>\n",
       "      <td>1712</td>\n",
       "      <td>5595</td>\n",
       "      <td>2586</td>\n",
       "      <td>3195</td>\n",
       "      <td>2692</td>\n",
       "    </tr>\n",
       "    <tr>\n",
       "      <th>1</th>\n",
       "      <td>129</td>\n",
       "      <td>521</td>\n",
       "      <td>224</td>\n",
       "      <td>320</td>\n",
       "      <td>169</td>\n",
       "    </tr>\n",
       "  </tbody>\n",
       "</table>\n",
       "</div>"
      ],
      "text/plain": [
       "Credit score  Don't know  Excellent  Fair  Good  Poor\n",
       "Converted                                            \n",
       "0                   1712       5595  2586  3195  2692\n",
       "1                    129        521   224   320   169"
      ]
     },
     "execution_count": 21,
     "metadata": {},
     "output_type": "execute_result"
    }
   ],
   "source": [
    "ct_conversions_credit"
   ]
  },
  {
   "cell_type": "code",
   "execution_count": 22,
   "metadata": {},
   "outputs": [],
   "source": [
    "cr2_credit = ct_conversions_credit.iloc[1] / ct_conversions_credit.iloc[0]"
   ]
  },
  {
   "cell_type": "code",
   "execution_count": 23,
   "metadata": {},
   "outputs": [
    {
     "data": {
      "text/plain": [
       "Credit score\n",
       "Don't know    0.075350\n",
       "Excellent     0.093119\n",
       "Fair          0.086620\n",
       "Good          0.100156\n",
       "Poor          0.062779\n",
       "dtype: float64"
      ]
     },
     "execution_count": 23,
     "metadata": {},
     "output_type": "execute_result"
    }
   ],
   "source": [
    "cr2_credit"
   ]
  },
  {
   "cell_type": "code",
   "execution_count": 24,
   "metadata": {},
   "outputs": [
    {
     "data": {
      "image/png": "[encoded data removed]",
      "text/plain": [
       "<Figure size 432x288 with 1 Axes>"
      ]
     },
     "metadata": {},
     "output_type": "display_data"
    }
   ],
   "source": [
    "f = plt.bar(x=cr2_credit.index, height=cr2_credit.values)"
   ]
  },
  {
   "cell_type": "code",
   "execution_count": 25,
   "metadata": {},
   "outputs": [],
   "source": [
    "cr2_credit_ri = cr2_credit.reindex(index = [\"Don't know\",'Poor','Fair','Good','Excellent'])"
   ]
  },
  {
   "cell_type": "code",
   "execution_count": 26,
   "metadata": {},
   "outputs": [
    {
     "data": {
      "text/plain": [
       "Text(0.5,0,'Credit score')"
      ]
     },
     "execution_count": 26,
     "metadata": {},
     "output_type": "execute_result"
    },
    {
     "data": {
      "image/png": "[encoded data removed]",
      "text/plain": [
       "<Figure size 432x288 with 1 Axes>"
      ]
     },
     "metadata": {},
     "output_type": "display_data"
    }
   ],
   "source": [
    "fig, ax = plt.subplots()\n",
    "b = plt.bar(x=cr2_credit_ri.index, height=cr2_credit_ri.values)\n",
    "ax.set_ylabel('CR2')\n",
    "ax.set_xlabel('Credit score')"
   ]
  },
  {
   "cell_type": "code",
   "execution_count": 27,
   "metadata": {},
   "outputs": [],
   "source": [
    "df['Numeric Age'] = pd.to_numeric(df['Precise Age'],errors='coerce')"
   ]
  },
  {
   "cell_type": "code",
   "execution_count": 28,
   "metadata": {},
   "outputs": [
    {
     "data": {
      "text/plain": [
       "67.12905295078143"
      ]
     },
     "execution_count": 28,
     "metadata": {},
     "output_type": "execute_result"
    }
   ],
   "source": [
    "df['Numeric Age'].mean()"
   ]
  },
  {
   "cell_type": "code",
   "execution_count": 29,
   "metadata": {},
   "outputs": [],
   "source": [
    "df['Numeric Age Filled'] = df['Numeric Age'].fillna(method='ffill')"
   ]
  },
  {
   "cell_type": "code",
   "execution_count": 30,
   "metadata": {},
   "outputs": [
    {
     "name": "stderr",
     "output_type": "stream",
     "text": [
      "/Users/joehardy/Dev/ML/ML_env/lib/python3.6/site-packages/matplotlib/axes/_axes.py:6462: UserWarning: The 'normed' kwarg is deprecated, and has been replaced by the 'density' kwarg.\n",
      "  warnings.warn(\"The 'normed' kwarg is deprecated, and has been \"\n"
     ]
    },
    {
     "data": {
      "text/plain": [
       "<matplotlib.axes._subplots.AxesSubplot at 0x1111a1320>"
      ]
     },
     "execution_count": 30,
     "metadata": {},
     "output_type": "execute_result"
    },
    {
     "data": {
      "image/png": "[encoded data removed]",
      "text/plain": [
       "<Figure size 432x288 with 1 Axes>"
      ]
     },
     "metadata": {},
     "output_type": "display_data"
    }
   ],
   "source": [
    "sns.distplot(df['Numeric Age Filled'])"
   ]
  },
  {
   "cell_type": "code",
   "execution_count": 31,
   "metadata": {},
   "outputs": [],
   "source": [
    "df_age = df[(df['Numeric Age'] > 18) & (df['Numeric Age'] < 95)]"
   ]
  },
  {
   "cell_type": "code",
   "execution_count": 32,
   "metadata": {},
   "outputs": [
    {
     "name": "stderr",
     "output_type": "stream",
     "text": [
      "/Users/joehardy/Dev/ML/ML_env/lib/python3.6/site-packages/matplotlib/axes/_axes.py:6462: UserWarning: The 'normed' kwarg is deprecated, and has been replaced by the 'density' kwarg.\n",
      "  warnings.warn(\"The 'normed' kwarg is deprecated, and has been \"\n"
     ]
    },
    {
     "data": {
      "text/plain": [
       "<matplotlib.axes._subplots.AxesSubplot at 0x116310c88>"
      ]
     },
     "execution_count": 32,
     "metadata": {},
     "output_type": "execute_result"
    },
    {
     "data": {
      "image/png": "[encoded data removed]",
      "text/plain": [
       "<Figure size 432x288 with 1 Axes>"
      ]
     },
     "metadata": {},
     "output_type": "display_data"
    }
   ],
   "source": [
    "sns.distplot(df_age['Numeric Age'],bins = 76)"
   ]
  },
  {
   "cell_type": "code",
   "execution_count": 33,
   "metadata": {},
   "outputs": [
    {
     "data": {
      "text/html": [
       "<div>\n",
       "<style scoped>\n",
       "    .dataframe tbody tr th:only-of-type {\n",
       "        vertical-align: middle;\n",
       "    }\n",
       "\n",
       "    .dataframe tbody tr th {\n",
       "        vertical-align: top;\n",
       "    }\n",
       "\n",
       "    .dataframe thead th {\n",
       "        text-align: right;\n",
       "    }\n",
       "</style>\n",
       "<table border=\"1\" class=\"dataframe\">\n",
       "  <thead>\n",
       "    <tr style=\"text-align: right;\">\n",
       "      <th></th>\n",
       "      <th>Phone</th>\n",
       "      <th>Numeric Age</th>\n",
       "      <th>Numeric Age Filled</th>\n",
       "    </tr>\n",
       "    <tr>\n",
       "      <th>Converted</th>\n",
       "      <th></th>\n",
       "      <th></th>\n",
       "      <th></th>\n",
       "    </tr>\n",
       "  </thead>\n",
       "  <tbody>\n",
       "    <tr>\n",
       "      <th>0</th>\n",
       "      <td>1.629435e+10</td>\n",
       "      <td>67.309133</td>\n",
       "      <td>67.309133</td>\n",
       "    </tr>\n",
       "    <tr>\n",
       "      <th>1</th>\n",
       "      <td>1.629761e+10</td>\n",
       "      <td>65.336006</td>\n",
       "      <td>65.336006</td>\n",
       "    </tr>\n",
       "  </tbody>\n",
       "</table>\n",
       "</div>"
      ],
      "text/plain": [
       "                  Phone  Numeric Age  Numeric Age Filled\n",
       "Converted                                               \n",
       "0          1.629435e+10    67.309133           67.309133\n",
       "1          1.629761e+10    65.336006           65.336006"
      ]
     },
     "execution_count": 33,
     "metadata": {},
     "output_type": "execute_result"
    }
   ],
   "source": [
    "df_age.groupby('Converted').mean()"
   ]
  },
  {
   "cell_type": "code",
   "execution_count": 34,
   "metadata": {},
   "outputs": [
    {
     "name": "stderr",
     "output_type": "stream",
     "text": [
      "/Users/joehardy/Dev/ML/ML_env/lib/python3.6/site-packages/matplotlib/axes/_axes.py:6462: UserWarning: The 'normed' kwarg is deprecated, and has been replaced by the 'density' kwarg.\n",
      "  warnings.warn(\"The 'normed' kwarg is deprecated, and has been \"\n"
     ]
    },
    {
     "data": {
      "text/plain": [
       "<matplotlib.axes._subplots.AxesSubplot at 0x10de67be0>"
      ]
     },
     "execution_count": 34,
     "metadata": {},
     "output_type": "execute_result"
    },
    {
     "data": {
      "image/png": "[encoded data removed]",
      "text/plain": [
       "<Figure size 432x288 with 1 Axes>"
      ]
     },
     "metadata": {},
     "output_type": "display_data"
    }
   ],
   "source": [
    "sns.distplot(df_age[df_age['Converted']==0]['Numeric Age'],bins = 76)"
   ]
  },
  {
   "cell_type": "code",
   "execution_count": 35,
   "metadata": {},
   "outputs": [
    {
     "data": {
      "text/plain": [
       "<matplotlib.axes._subplots.AxesSubplot at 0x115efa710>"
      ]
     },
     "execution_count": 35,
     "metadata": {},
     "output_type": "execute_result"
    },
    {
     "data": {
      "image/png": "[encoded data removed]",
      "text/plain": [
       "<Figure size 432x288 with 1 Axes>"
      ]
     },
     "metadata": {},
     "output_type": "display_data"
    }
   ],
   "source": [
    "sns.distplot(df_age[df_age['Converted']==0]['Numeric Age'],bins = 76,hist=False)\n",
    "sns.distplot(df_age[df_age['Converted']==1]['Numeric Age'],bins = 76,hist=False)"
   ]
  },
  {
   "cell_type": "code",
   "execution_count": 36,
   "metadata": {},
   "outputs": [
    {
     "data": {
      "text/plain": [
       "0         Excellent\n",
       "1              Good\n",
       "2              Poor\n",
       "3              Poor\n",
       "4         Excellent\n",
       "5              Good\n",
       "6         Excellent\n",
       "7              Good\n",
       "8         Excellent\n",
       "9              Fair\n",
       "10             Good\n",
       "11             Fair\n",
       "12             Poor\n",
       "13             Good\n",
       "14        Excellent\n",
       "15        Excellent\n",
       "16             Poor\n",
       "17             Fair\n",
       "18       Don't know\n",
       "19             Fair\n",
       "20        Excellent\n",
       "21       Don't know\n",
       "22        Excellent\n",
       "23        Excellent\n",
       "24        Excellent\n",
       "25             Good\n",
       "26             Fair\n",
       "27        Excellent\n",
       "28             Good\n",
       "29             Good\n",
       "            ...    \n",
       "17402          Fair\n",
       "17403     Excellent\n",
       "17404     Excellent\n",
       "17405          Fair\n",
       "17406          Poor\n",
       "17407    Don't know\n",
       "17408          Poor\n",
       "17409    Don't know\n",
       "17410          Fair\n",
       "17411     Excellent\n",
       "17412          Fair\n",
       "17413     Excellent\n",
       "17414          Poor\n",
       "17415          Good\n",
       "17416          Poor\n",
       "17417    Don't know\n",
       "17418          Good\n",
       "17419     Excellent\n",
       "17420          Poor\n",
       "17421     Excellent\n",
       "17422          Good\n",
       "17423    Don't know\n",
       "17424          Poor\n",
       "17425          Fair\n",
       "17426          Poor\n",
       "17427     Excellent\n",
       "17428     Excellent\n",
       "17429          Good\n",
       "17430          Good\n",
       "17431          Fair\n",
       "Name: Credit score filled, Length: 17432, dtype: object"
      ]
     },
     "execution_count": 36,
     "metadata": {},
     "output_type": "execute_result"
    }
   ],
   "source": [
    "df['Numeric Age Filled'] \n",
    "df['Credit score filled']"
   ]
  },
  {
   "cell_type": "code",
   "execution_count": 37,
   "metadata": {},
   "outputs": [],
   "source": [
    "df_credit_dummies = pd.get_dummies(df['Credit score filled'], prefix='credit_')"
   ]
  },
  {
   "cell_type": "code",
   "execution_count": 38,
   "metadata": {},
   "outputs": [],
   "source": [
    "converted = df[\"Converted\"]"
   ]
  },
  {
   "cell_type": "code",
   "execution_count": 39,
   "metadata": {},
   "outputs": [],
   "source": [
    "df = pd.concat([df,df_credit_dummies],axis=1)"
   ]
  },
  {
   "cell_type": "code",
   "execution_count": 40,
   "metadata": {},
   "outputs": [
    {
     "data": {
      "text/plain": [
       "Index(['Lead Creation Datetime', 'Created Date', 'Lead ID', 'First Name',\n",
       "       'Last Name', 'act', 'Customer browser language', 'Landing URL',\n",
       "       'Browser', 'Android / iOS', 'User Device', 'Usage',\n",
       "       'Controlling Channel', 'Marketing Partner', 'Marketing offer',\n",
       "       'Lead Status', 'Reason for closing of lead', 'Converted',\n",
       "       'Opportunity ID', 'Converted Date', 'Stage', 'Last quote',\n",
       "       'Reason for closed and lost', 'Searching for', 'Experience',\n",
       "       'Age of current hearing aid', 'Currently looking for hearing aids',\n",
       "       'Visited ENT or audiologist', 'Recent hearing test', 'Why not sooner?',\n",
       "       'COSI Basic Subtype 1', 'Discreet design', 'Tinnitus',\n",
       "       'Purchase timeframe', 'Professional status', 'Income',\n",
       "       'Income Reformatted', 'Willingness to invest', 'Is U.S. Veteran',\n",
       "       'Exposed to loud noises', 'Mobile', 'Phone', 'Email', 'Precise Age',\n",
       "       'Zip/Postal Code', 'Dynamic Marketing Comment', 'Video / Img',\n",
       "       'audience', 'creative', 'lead_creation_datetime', 'created_date',\n",
       "       'converted_date', 'Credit score', 'Credit score filled', 'Numeric Age',\n",
       "       'Numeric Age Filled', 'credit__Don't know', 'credit__Excellent',\n",
       "       'credit__Fair', 'credit__Good', 'credit__Poor'],\n",
       "      dtype='object')"
      ]
     },
     "execution_count": 40,
     "metadata": {},
     "output_type": "execute_result"
    }
   ],
   "source": [
    "df.columns"
   ]
  },
  {
   "cell_type": "code",
   "execution_count": 41,
   "metadata": {},
   "outputs": [],
   "source": [
    "model_columns = [\"credit__Don't know\", 'credit__Poor', 'credit__Excellent',\n",
    "                 'credit__Fair', 'credit__Good','Numeric Age Filled']"
   ]
  },
  {
   "cell_type": "code",
   "execution_count": 42,
   "metadata": {},
   "outputs": [],
   "source": [
    "df_model_data = df[model_columns]"
   ]
  },
  {
   "cell_type": "code",
   "execution_count": null,
   "metadata": {},
   "outputs": [],
   "source": []
  },
  {
   "cell_type": "code",
   "execution_count": 43,
   "metadata": {},
   "outputs": [
    {
     "ename": "NameError",
     "evalue": "name 'y' is not defined",
     "output_type": "error",
     "traceback": [
      "\u001b[0;31m---------------------------------------------------------------------------\u001b[0m",
      "\u001b[0;31mNameError\u001b[0m                                 Traceback (most recent call last)",
      "\u001b[0;32m<ipython-input-43-43889a6c760d>\u001b[0m in \u001b[0;36m<module>\u001b[0;34m()\u001b[0m\n\u001b[0;32m----> 1\u001b[0;31m \u001b[0mlogit_model\u001b[0m\u001b[0;34m=\u001b[0m\u001b[0msm\u001b[0m\u001b[0;34m.\u001b[0m\u001b[0mLogit\u001b[0m\u001b[0;34m(\u001b[0m\u001b[0my\u001b[0m\u001b[0;34m,\u001b[0m\u001b[0mX\u001b[0m\u001b[0;34m)\u001b[0m\u001b[0;34m\u001b[0m\u001b[0m\n\u001b[0m\u001b[1;32m      2\u001b[0m \u001b[0mresult\u001b[0m\u001b[0;34m=\u001b[0m\u001b[0mlogit_model\u001b[0m\u001b[0;34m.\u001b[0m\u001b[0mfit\u001b[0m\u001b[0;34m(\u001b[0m\u001b[0;34m)\u001b[0m\u001b[0;34m\u001b[0m\u001b[0m\n\u001b[1;32m      3\u001b[0m \u001b[0mprint\u001b[0m\u001b[0;34m(\u001b[0m\u001b[0mresult\u001b[0m\u001b[0;34m.\u001b[0m\u001b[0msummary2\u001b[0m\u001b[0;34m(\u001b[0m\u001b[0;34m)\u001b[0m\u001b[0;34m)\u001b[0m\u001b[0;34m\u001b[0m\u001b[0m\n",
      "\u001b[0;31mNameError\u001b[0m: name 'y' is not defined"
     ]
    }
   ],
   "source": [
    "logit_model=sm.Logit(y,X)\n",
    "result=logit_model.fit()\n",
    "print(result.summary2())"
   ]
  }
 ],
 "metadata": {
  "kernelspec": {
   "display_name": "Python 3",
   "language": "python",
   "name": "python3"
  },
  "language_info": {
   "codemirror_mode": {
    "name": "ipython",
    "version": 3
   },
   "file_extension": ".py",
   "mimetype": "text/x-python",
   "name": "python",
   "nbconvert_exporter": "python",
   "pygments_lexer": "ipython3",
   "version": "3.6.4"
  }
 },
 "nbformat": 4,
 "nbformat_minor": 2
}
