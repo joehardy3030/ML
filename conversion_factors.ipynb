{
 "cells": [
  {
   "cell_type": "code",
   "execution_count": 55,
   "metadata": {},
   "outputs": [],
   "source": [
    "import numpy as np\n",
    "import pandas as pd\n",
    "import matplotlib.pyplot as plt\n",
    "import datetime as dt\n",
    "import string as str\n",
    "import seaborn as sns\n",
    "import os"
   ]
  },
  {
   "cell_type": "code",
   "execution_count": 80,
   "metadata": {},
   "outputs": [
    {
     "name": "stderr",
     "output_type": "stream",
     "text": [
      "/Users/joehardy/Dev/ML/ML_env/lib/python3.6/site-packages/IPython/core/interactiveshell.py:2728: DtypeWarning: Columns (3,4,37) have mixed types. Specify dtype option on import or set low_memory=False.\n",
      "  interactivity=interactivity, compiler=compiler, result=result)\n"
     ]
    }
   ],
   "source": [
    "df = pd.read_csv('./data/20180510_US_funnel_UTF.csv')"
   ]
  },
  {
   "cell_type": "code",
   "execution_count": 81,
   "metadata": {},
   "outputs": [],
   "source": [
    "def make_date_cols(df):\n",
    "    df['lead_creation_datetime'] = pd.to_datetime(pd.Series(df['Lead Creation Datetime']))\n",
    "    df['created_date'] = pd.to_datetime(pd.Series(df['Created Date']))\n",
    "    df['datetime_of_first_call'] = pd.to_datetime(pd.Series(df['DateTime Of First Call']))\n",
    "    df['converted_date'] = pd.to_datetime(pd.Series(df['Converted Date']))\n",
    "    return(df)"
   ]
  },
  {
   "cell_type": "code",
   "execution_count": 82,
   "metadata": {},
   "outputs": [],
   "source": [
    "df = make_date_cols(df)"
   ]
  },
  {
   "cell_type": "code",
   "execution_count": 83,
   "metadata": {},
   "outputs": [
    {
     "data": {
      "text/plain": [
       "Index(['Lead Creation Datetime', 'Created Date', 'Lead ID', 'Phone', 'Mobile',\n",
       "       'OM Test ID', 'Landing URL', 'act', 'Usage', 'Controlling Channel',\n",
       "       'Marketing offer', 'Lead Status', 'Reason for closing of lead',\n",
       "       'Converted', 'Opportunity ID', 'Converted Date', 'Stage', 'Last quote',\n",
       "       'Reason for closed and lost', 'Alternative phone', 'Searching for',\n",
       "       'Experience', 'Salutation', 'Age of current hearing aid',\n",
       "       'Currently looking for hearing aids', 'Visited ENT or audiologist',\n",
       "       'Recent hearing test', 'Why not sooner?', 'COSI Basic Subtype 1',\n",
       "       'Discreet design', 'Tinnitus', 'Purchase timeframe',\n",
       "       'Professional status', 'Income', 'Willingness to invest',\n",
       "       'Is U.S. Veteran', 'Exposed to loud noises', 'Precise Age',\n",
       "       'Zip/Postal Code', 'DateTime Of First Call', 'lead_creation_datetime',\n",
       "       'created_date', 'datetime_of_first_call', 'converted_date'],\n",
       "      dtype='object')"
      ]
     },
     "execution_count": 83,
     "metadata": {},
     "output_type": "execute_result"
    }
   ],
   "source": [
    "df.columns"
   ]
  },
  {
   "cell_type": "code",
   "execution_count": 84,
   "metadata": {},
   "outputs": [
    {
     "data": {
      "text/html": [
       "<div>\n",
       "<style scoped>\n",
       "    .dataframe tbody tr th:only-of-type {\n",
       "        vertical-align: middle;\n",
       "    }\n",
       "\n",
       "    .dataframe tbody tr th {\n",
       "        vertical-align: top;\n",
       "    }\n",
       "\n",
       "    .dataframe thead th {\n",
       "        text-align: right;\n",
       "    }\n",
       "</style>\n",
       "<table border=\"1\" class=\"dataframe\">\n",
       "  <thead>\n",
       "    <tr style=\"text-align: right;\">\n",
       "      <th></th>\n",
       "      <th>Lead Creation Datetime</th>\n",
       "      <th>Created Date</th>\n",
       "      <th>Lead ID</th>\n",
       "      <th>Phone</th>\n",
       "      <th>Mobile</th>\n",
       "      <th>OM Test ID</th>\n",
       "      <th>Landing URL</th>\n",
       "      <th>act</th>\n",
       "      <th>Usage</th>\n",
       "      <th>Controlling Channel</th>\n",
       "      <th>...</th>\n",
       "      <th>Willingness to invest</th>\n",
       "      <th>Is U.S. Veteran</th>\n",
       "      <th>Exposed to loud noises</th>\n",
       "      <th>Precise Age</th>\n",
       "      <th>Zip/Postal Code</th>\n",
       "      <th>DateTime Of First Call</th>\n",
       "      <th>lead_creation_datetime</th>\n",
       "      <th>created_date</th>\n",
       "      <th>datetime_of_first_call</th>\n",
       "      <th>converted_date</th>\n",
       "    </tr>\n",
       "  </thead>\n",
       "  <tbody>\n",
       "    <tr>\n",
       "      <th>0</th>\n",
       "      <td>3/10/18 0:04</td>\n",
       "      <td>3/10/18</td>\n",
       "      <td>00Q1o00000KCYxl</td>\n",
       "      <td>NaN</td>\n",
       "      <td>1.7129e+10</td>\n",
       "      <td>NaN</td>\n",
       "      <td>https://www.hear.com/hearing-aids/innovations-...</td>\n",
       "      <td>ACT0000001277ACT</td>\n",
       "      <td>google</td>\n",
       "      <td>SEO</td>\n",
       "      <td>...</td>\n",
       "      <td>NaN</td>\n",
       "      <td>No</td>\n",
       "      <td>NaN</td>\n",
       "      <td>62</td>\n",
       "      <td>57049</td>\n",
       "      <td>3/10/18 9:30</td>\n",
       "      <td>2018-03-10 00:04:00</td>\n",
       "      <td>2018-03-10</td>\n",
       "      <td>2018-03-10 09:30:00</td>\n",
       "      <td>NaT</td>\n",
       "    </tr>\n",
       "    <tr>\n",
       "      <th>1</th>\n",
       "      <td>3/10/18 0:23</td>\n",
       "      <td>3/10/18</td>\n",
       "      <td>00Q1o00000KCYyt</td>\n",
       "      <td>13013363968</td>\n",
       "      <td>NaN</td>\n",
       "      <td>13001</td>\n",
       "      <td>https://www.hearing-experts-at-hear.com/hearin...</td>\n",
       "      <td>ACT0000011563ACT</td>\n",
       "      <td>email_amx_product-invisible_sta_005_.</td>\n",
       "      <td>Email</td>\n",
       "      <td>...</td>\n",
       "      <td>No</td>\n",
       "      <td>No</td>\n",
       "      <td>NaN</td>\n",
       "      <td>84</td>\n",
       "      <td>20743</td>\n",
       "      <td>NaN</td>\n",
       "      <td>2018-03-10 00:23:00</td>\n",
       "      <td>2018-03-10</td>\n",
       "      <td>NaT</td>\n",
       "      <td>NaT</td>\n",
       "    </tr>\n",
       "    <tr>\n",
       "      <th>2</th>\n",
       "      <td>3/10/18 0:31</td>\n",
       "      <td>3/10/18</td>\n",
       "      <td>00Q1o00000KCYzc</td>\n",
       "      <td>NaN</td>\n",
       "      <td>1.60292e+10</td>\n",
       "      <td>3618</td>\n",
       "      <td>https://m.hear.com/product-primax/dyn/?act=act...</td>\n",
       "      <td>ACT0000007592ACT</td>\n",
       "      <td>display_powerinbox_product-primax_all_aqu_all</td>\n",
       "      <td>Display</td>\n",
       "      <td>...</td>\n",
       "      <td>Yes financing</td>\n",
       "      <td>No</td>\n",
       "      <td>NaN</td>\n",
       "      <td>74</td>\n",
       "      <td>85053</td>\n",
       "      <td>3/10/18 11:26</td>\n",
       "      <td>2018-03-10 00:31:00</td>\n",
       "      <td>2018-03-10</td>\n",
       "      <td>2018-03-10 11:26:00</td>\n",
       "      <td>NaT</td>\n",
       "    </tr>\n",
       "    <tr>\n",
       "      <th>3</th>\n",
       "      <td>3/10/18 0:35</td>\n",
       "      <td>3/10/18</td>\n",
       "      <td>00Q1o00000KCYzm</td>\n",
       "      <td>NaN</td>\n",
       "      <td>1.51721e+10</td>\n",
       "      <td>3618</td>\n",
       "      <td>https://m.hear.com/product-primax/dyn/?act=act...</td>\n",
       "      <td>ACT0000007592ACT</td>\n",
       "      <td>display_powerinbox_product-primax_all_aqu_all</td>\n",
       "      <td>Display</td>\n",
       "      <td>...</td>\n",
       "      <td>NaN</td>\n",
       "      <td>Yes</td>\n",
       "      <td>No</td>\n",
       "      <td>74</td>\n",
       "      <td>78418</td>\n",
       "      <td>3/10/18 9:30</td>\n",
       "      <td>2018-03-10 00:35:00</td>\n",
       "      <td>2018-03-10</td>\n",
       "      <td>2018-03-10 09:30:00</td>\n",
       "      <td>NaT</td>\n",
       "    </tr>\n",
       "    <tr>\n",
       "      <th>4</th>\n",
       "      <td>3/10/18 0:42</td>\n",
       "      <td>3/10/18</td>\n",
       "      <td>00Q1o00000KCZ06</td>\n",
       "      <td>15306383622</td>\n",
       "      <td>NaN</td>\n",
       "      <td>3100</td>\n",
       "      <td>https://m.hear.com/hearing-aids-consultation/r...</td>\n",
       "      <td>ACT0000010752ACT</td>\n",
       "      <td>email_intmail_generic_cpgn-plain-optimization-...</td>\n",
       "      <td>CRM</td>\n",
       "      <td>...</td>\n",
       "      <td>Yes</td>\n",
       "      <td>No</td>\n",
       "      <td>NaN</td>\n",
       "      <td>66</td>\n",
       "      <td>96094</td>\n",
       "      <td>3/10/18 11:23</td>\n",
       "      <td>2018-03-10 00:42:00</td>\n",
       "      <td>2018-03-10</td>\n",
       "      <td>2018-03-10 11:23:00</td>\n",
       "      <td>NaT</td>\n",
       "    </tr>\n",
       "    <tr>\n",
       "      <th>5</th>\n",
       "      <td>3/10/18 0:43</td>\n",
       "      <td>3/10/18</td>\n",
       "      <td>00Q1o00000KCZ0G</td>\n",
       "      <td>NaN</td>\n",
       "      <td>1.22942e+10</td>\n",
       "      <td>3618</td>\n",
       "      <td>https://m.hear.com/product-primax-david/dyn/or...</td>\n",
       "      <td>ACT0000011057ACT</td>\n",
       "      <td>social_facebook_product-primax-hassel_mob_nani...</td>\n",
       "      <td>Social</td>\n",
       "      <td>...</td>\n",
       "      <td>No</td>\n",
       "      <td>Yes</td>\n",
       "      <td>Yes</td>\n",
       "      <td>66</td>\n",
       "      <td>39819</td>\n",
       "      <td>NaN</td>\n",
       "      <td>2018-03-10 00:43:00</td>\n",
       "      <td>2018-03-10</td>\n",
       "      <td>NaT</td>\n",
       "      <td>NaT</td>\n",
       "    </tr>\n",
       "    <tr>\n",
       "      <th>6</th>\n",
       "      <td>3/10/18 0:51</td>\n",
       "      <td>3/10/18</td>\n",
       "      <td>00Q1o00000KCZ19</td>\n",
       "      <td>NaN</td>\n",
       "      <td>1.21476e+10</td>\n",
       "      <td>NaN</td>\n",
       "      <td>https://www.hear.com/</td>\n",
       "      <td>ACT0000001139ACT</td>\n",
       "      <td>hear.com US</td>\n",
       "      <td>Direct</td>\n",
       "      <td>...</td>\n",
       "      <td>No</td>\n",
       "      <td>No</td>\n",
       "      <td>NaN</td>\n",
       "      <td>64</td>\n",
       "      <td>75248</td>\n",
       "      <td>NaN</td>\n",
       "      <td>2018-03-10 00:51:00</td>\n",
       "      <td>2018-03-10</td>\n",
       "      <td>NaT</td>\n",
       "      <td>NaT</td>\n",
       "    </tr>\n",
       "    <tr>\n",
       "      <th>7</th>\n",
       "      <td>3/10/18 0:59</td>\n",
       "      <td>3/10/18</td>\n",
       "      <td>00Q1o00000KCZ1x</td>\n",
       "      <td>NaN</td>\n",
       "      <td>1.61964e+10</td>\n",
       "      <td>3618</td>\n",
       "      <td>https://m.hear.com/product-primax/dyn/?aud_c=t...</td>\n",
       "      <td>ACT0000008465ACT</td>\n",
       "      <td>display_criteo_product-primax_all_aqu_</td>\n",
       "      <td>Display</td>\n",
       "      <td>...</td>\n",
       "      <td>Yes financing</td>\n",
       "      <td>No</td>\n",
       "      <td>NaN</td>\n",
       "      <td>54</td>\n",
       "      <td>92301</td>\n",
       "      <td>NaN</td>\n",
       "      <td>2018-03-10 00:59:00</td>\n",
       "      <td>2018-03-10</td>\n",
       "      <td>NaT</td>\n",
       "      <td>NaT</td>\n",
       "    </tr>\n",
       "    <tr>\n",
       "      <th>8</th>\n",
       "      <td>3/10/18 1:01</td>\n",
       "      <td>3/10/18</td>\n",
       "      <td>00Q1o00000KCZ27</td>\n",
       "      <td>13347930971</td>\n",
       "      <td>NaN</td>\n",
       "      <td>3620</td>\n",
       "      <td>https://m.hear.com/product-primax/dyn/?aud_c=t...</td>\n",
       "      <td>ACT0000009805ACT</td>\n",
       "      <td>gdn_gdn_product-primax_all-gender_age-55+_audi...</td>\n",
       "      <td>GDN</td>\n",
       "      <td>...</td>\n",
       "      <td>No</td>\n",
       "      <td>No</td>\n",
       "      <td>NaN</td>\n",
       "      <td>73</td>\n",
       "      <td>36117</td>\n",
       "      <td>NaN</td>\n",
       "      <td>2018-03-10 01:01:00</td>\n",
       "      <td>2018-03-10</td>\n",
       "      <td>NaT</td>\n",
       "      <td>NaT</td>\n",
       "    </tr>\n",
       "    <tr>\n",
       "      <th>9</th>\n",
       "      <td>3/10/18 2:17</td>\n",
       "      <td>3/10/18</td>\n",
       "      <td>00Q1o00000KCZES</td>\n",
       "      <td>NaN</td>\n",
       "      <td>1.54181e+10</td>\n",
       "      <td>NaN</td>\n",
       "      <td>http://m.hear.com/product-primax/tb27xi/1/?act...</td>\n",
       "      <td>ACT0000008465ACT</td>\n",
       "      <td>display_criteo_product-primax_all_aqu_</td>\n",
       "      <td>Display</td>\n",
       "      <td>...</td>\n",
       "      <td>NaN</td>\n",
       "      <td>No</td>\n",
       "      <td>NaN</td>\n",
       "      <td>81</td>\n",
       "      <td>97824</td>\n",
       "      <td>3/10/18 11:23</td>\n",
       "      <td>2018-03-10 02:17:00</td>\n",
       "      <td>2018-03-10</td>\n",
       "      <td>2018-03-10 11:23:00</td>\n",
       "      <td>NaT</td>\n",
       "    </tr>\n",
       "  </tbody>\n",
       "</table>\n",
       "<p>10 rows × 44 columns</p>\n",
       "</div>"
      ],
      "text/plain": [
       "  Lead Creation Datetime Created Date          Lead ID        Phone  \\\n",
       "0           3/10/18 0:04      3/10/18  00Q1o00000KCYxl          NaN   \n",
       "1           3/10/18 0:23      3/10/18  00Q1o00000KCYyt  13013363968   \n",
       "2           3/10/18 0:31      3/10/18  00Q1o00000KCYzc          NaN   \n",
       "3           3/10/18 0:35      3/10/18  00Q1o00000KCYzm          NaN   \n",
       "4           3/10/18 0:42      3/10/18  00Q1o00000KCZ06  15306383622   \n",
       "5           3/10/18 0:43      3/10/18  00Q1o00000KCZ0G          NaN   \n",
       "6           3/10/18 0:51      3/10/18  00Q1o00000KCZ19          NaN   \n",
       "7           3/10/18 0:59      3/10/18  00Q1o00000KCZ1x          NaN   \n",
       "8           3/10/18 1:01      3/10/18  00Q1o00000KCZ27  13347930971   \n",
       "9           3/10/18 2:17      3/10/18  00Q1o00000KCZES          NaN   \n",
       "\n",
       "        Mobile OM Test ID                                        Landing URL  \\\n",
       "0   1.7129e+10        NaN  https://www.hear.com/hearing-aids/innovations-...   \n",
       "1          NaN      13001  https://www.hearing-experts-at-hear.com/hearin...   \n",
       "2  1.60292e+10       3618  https://m.hear.com/product-primax/dyn/?act=act...   \n",
       "3  1.51721e+10       3618  https://m.hear.com/product-primax/dyn/?act=act...   \n",
       "4          NaN       3100  https://m.hear.com/hearing-aids-consultation/r...   \n",
       "5  1.22942e+10       3618  https://m.hear.com/product-primax-david/dyn/or...   \n",
       "6  1.21476e+10        NaN                              https://www.hear.com/   \n",
       "7  1.61964e+10       3618  https://m.hear.com/product-primax/dyn/?aud_c=t...   \n",
       "8          NaN       3620  https://m.hear.com/product-primax/dyn/?aud_c=t...   \n",
       "9  1.54181e+10        NaN  http://m.hear.com/product-primax/tb27xi/1/?act...   \n",
       "\n",
       "                act                                              Usage  \\\n",
       "0  ACT0000001277ACT                                             google   \n",
       "1  ACT0000011563ACT              email_amx_product-invisible_sta_005_.   \n",
       "2  ACT0000007592ACT      display_powerinbox_product-primax_all_aqu_all   \n",
       "3  ACT0000007592ACT      display_powerinbox_product-primax_all_aqu_all   \n",
       "4  ACT0000010752ACT  email_intmail_generic_cpgn-plain-optimization-...   \n",
       "5  ACT0000011057ACT  social_facebook_product-primax-hassel_mob_nani...   \n",
       "6  ACT0000001139ACT                                        hear.com US   \n",
       "7  ACT0000008465ACT             display_criteo_product-primax_all_aqu_   \n",
       "8  ACT0000009805ACT  gdn_gdn_product-primax_all-gender_age-55+_audi...   \n",
       "9  ACT0000008465ACT             display_criteo_product-primax_all_aqu_   \n",
       "\n",
       "  Controlling Channel      ...       Willingness to invest Is U.S. Veteran  \\\n",
       "0                 SEO      ...                         NaN              No   \n",
       "1               Email      ...                          No              No   \n",
       "2             Display      ...               Yes financing              No   \n",
       "3             Display      ...                         NaN             Yes   \n",
       "4                 CRM      ...                         Yes              No   \n",
       "5              Social      ...                          No             Yes   \n",
       "6              Direct      ...                          No              No   \n",
       "7             Display      ...               Yes financing              No   \n",
       "8                 GDN      ...                          No              No   \n",
       "9             Display      ...                         NaN              No   \n",
       "\n",
       "  Exposed to loud noises  Precise Age Zip/Postal Code DateTime Of First Call  \\\n",
       "0                    NaN           62           57049           3/10/18 9:30   \n",
       "1                    NaN           84           20743                    NaN   \n",
       "2                    NaN           74           85053          3/10/18 11:26   \n",
       "3                     No           74           78418           3/10/18 9:30   \n",
       "4                    NaN           66           96094          3/10/18 11:23   \n",
       "5                    Yes           66           39819                    NaN   \n",
       "6                    NaN           64           75248                    NaN   \n",
       "7                    NaN           54           92301                    NaN   \n",
       "8                    NaN           73           36117                    NaN   \n",
       "9                    NaN           81           97824          3/10/18 11:23   \n",
       "\n",
       "  lead_creation_datetime created_date datetime_of_first_call converted_date  \n",
       "0    2018-03-10 00:04:00   2018-03-10    2018-03-10 09:30:00            NaT  \n",
       "1    2018-03-10 00:23:00   2018-03-10                    NaT            NaT  \n",
       "2    2018-03-10 00:31:00   2018-03-10    2018-03-10 11:26:00            NaT  \n",
       "3    2018-03-10 00:35:00   2018-03-10    2018-03-10 09:30:00            NaT  \n",
       "4    2018-03-10 00:42:00   2018-03-10    2018-03-10 11:23:00            NaT  \n",
       "5    2018-03-10 00:43:00   2018-03-10                    NaT            NaT  \n",
       "6    2018-03-10 00:51:00   2018-03-10                    NaT            NaT  \n",
       "7    2018-03-10 00:59:00   2018-03-10                    NaT            NaT  \n",
       "8    2018-03-10 01:01:00   2018-03-10                    NaT            NaT  \n",
       "9    2018-03-10 02:17:00   2018-03-10    2018-03-10 11:23:00            NaT  \n",
       "\n",
       "[10 rows x 44 columns]"
      ]
     },
     "execution_count": 84,
     "metadata": {},
     "output_type": "execute_result"
    }
   ],
   "source": [
    "df[:10]"
   ]
  },
  {
   "cell_type": "code",
   "execution_count": 85,
   "metadata": {},
   "outputs": [],
   "source": [
    "df['precise_age'] = pd.to_numeric(df['Precise Age'], errors='coerce')"
   ]
  },
  {
   "cell_type": "code",
   "execution_count": 86,
   "metadata": {},
   "outputs": [],
   "source": [
    "df_age = df[(df.precise_age > 18) & (df.precise_age < 95)]"
   ]
  },
  {
   "cell_type": "code",
   "execution_count": 87,
   "metadata": {},
   "outputs": [
    {
     "name": "stderr",
     "output_type": "stream",
     "text": [
      "/Users/joehardy/Dev/ML/ML_env/lib/python3.6/site-packages/matplotlib/axes/_axes.py:6462: UserWarning: The 'normed' kwarg is deprecated, and has been replaced by the 'density' kwarg.\n",
      "  warnings.warn(\"The 'normed' kwarg is deprecated, and has been \"\n"
     ]
    },
    {
     "data": {
      "text/plain": [
       "<matplotlib.axes._subplots.AxesSubplot at 0x1163be5c0>"
      ]
     },
     "execution_count": 87,
     "metadata": {},
     "output_type": "execute_result"
    },
    {
     "data": {
      "image/png": "[encoded data removed]",
      "text/plain": [
       "<Figure size 720x360 with 1 Axes>"
      ]
     },
     "metadata": {},
     "output_type": "display_data"
    }
   ],
   "source": [
    "f, ax = plt.subplots(figsize=(10, 5))\n",
    "sns.distplot(df_age.precise_age, bins = 76)"
   ]
  },
  {
   "cell_type": "code",
   "execution_count": 88,
   "metadata": {},
   "outputs": [
    {
     "data": {
      "text/plain": [
       "68.85666114649682"
      ]
     },
     "execution_count": 88,
     "metadata": {},
     "output_type": "execute_result"
    }
   ],
   "source": [
    "df_age.precise_age.mean()"
   ]
  },
  {
   "cell_type": "code",
   "execution_count": 89,
   "metadata": {},
   "outputs": [
    {
     "data": {
      "text/html": [
       "<div>\n",
       "<style scoped>\n",
       "    .dataframe tbody tr th:only-of-type {\n",
       "        vertical-align: middle;\n",
       "    }\n",
       "\n",
       "    .dataframe tbody tr th {\n",
       "        vertical-align: top;\n",
       "    }\n",
       "\n",
       "    .dataframe thead th {\n",
       "        text-align: right;\n",
       "    }\n",
       "</style>\n",
       "<table border=\"1\" class=\"dataframe\">\n",
       "  <thead>\n",
       "    <tr style=\"text-align: right;\">\n",
       "      <th></th>\n",
       "      <th>Converted</th>\n",
       "      <th>precise_age</th>\n",
       "    </tr>\n",
       "  </thead>\n",
       "  <tbody>\n",
       "    <tr>\n",
       "      <th>count</th>\n",
       "      <td>129892.000000</td>\n",
       "      <td>1.271120e+05</td>\n",
       "    </tr>\n",
       "    <tr>\n",
       "      <th>mean</th>\n",
       "      <td>0.070512</td>\n",
       "      <td>7.867078e+42</td>\n",
       "    </tr>\n",
       "    <tr>\n",
       "      <th>std</th>\n",
       "      <td>0.256010</td>\n",
       "      <td>2.804831e+45</td>\n",
       "    </tr>\n",
       "    <tr>\n",
       "      <th>min</th>\n",
       "      <td>0.000000</td>\n",
       "      <td>-9.000000e+01</td>\n",
       "    </tr>\n",
       "    <tr>\n",
       "      <th>25%</th>\n",
       "      <td>0.000000</td>\n",
       "      <td>6.200000e+01</td>\n",
       "    </tr>\n",
       "    <tr>\n",
       "      <th>50%</th>\n",
       "      <td>0.000000</td>\n",
       "      <td>7.000000e+01</td>\n",
       "    </tr>\n",
       "    <tr>\n",
       "      <th>75%</th>\n",
       "      <td>0.000000</td>\n",
       "      <td>7.700000e+01</td>\n",
       "    </tr>\n",
       "    <tr>\n",
       "      <th>max</th>\n",
       "      <td>1.000000</td>\n",
       "      <td>1.000000e+48</td>\n",
       "    </tr>\n",
       "  </tbody>\n",
       "</table>\n",
       "</div>"
      ],
      "text/plain": [
       "           Converted   precise_age\n",
       "count  129892.000000  1.271120e+05\n",
       "mean        0.070512  7.867078e+42\n",
       "std         0.256010  2.804831e+45\n",
       "min         0.000000 -9.000000e+01\n",
       "25%         0.000000  6.200000e+01\n",
       "50%         0.000000  7.000000e+01\n",
       "75%         0.000000  7.700000e+01\n",
       "max         1.000000  1.000000e+48"
      ]
     },
     "execution_count": 89,
     "metadata": {},
     "output_type": "execute_result"
    }
   ],
   "source": [
    "df.describe()"
   ]
  },
  {
   "cell_type": "code",
   "execution_count": 75,
   "metadata": {},
   "outputs": [
    {
     "data": {
      "text/plain": [
       "count    39501.000000\n",
       "mean         0.068479\n",
       "std          0.252570\n",
       "min          0.000000\n",
       "25%          0.000000\n",
       "50%          0.000000\n",
       "75%          0.000000\n",
       "max          1.000000\n",
       "Name: Converted, dtype: float64"
      ]
     },
     "execution_count": 75,
     "metadata": {},
     "output_type": "execute_result"
    }
   ],
   "source": [
    "df.Converted.describe()"
   ]
  },
  {
   "cell_type": "code",
   "execution_count": 91,
   "metadata": {},
   "outputs": [
    {
     "data": {
      "text/plain": [
       "count               106493\n",
       "unique                  24\n",
       "top       Low quality lead\n",
       "freq                 44234\n",
       "Name: Reason for closing of lead, dtype: object"
      ]
     },
     "execution_count": 91,
     "metadata": {},
     "output_type": "execute_result"
    }
   ],
   "source": [
    "df['Reason for closing of lead'].describe()"
   ]
  },
  {
   "cell_type": "code",
   "execution_count": 93,
   "metadata": {},
   "outputs": [
    {
     "data": {
      "text/plain": [
       "array(['Several times not reached', 'Low quality lead',\n",
       "       'No clear buying interest yet', 'No time for fitting process', nan,\n",
       "       'Not able / willing to afford devices', 'Wrong / No phone number',\n",
       "       'Unintended registration', 'Customer at competitor',\n",
       "       'Recently bought hearing aids', 'No telephone conversation',\n",
       "       'Customer at partner', 'Distance to partner', 'Duplicate',\n",
       "       'Not convinced by concept', 'Foreign country',\n",
       "       'Customer does not want to share credit card information',\n",
       "       'Competition offers better price', 'Duplicate: Opportunity',\n",
       "       'Duplicate: Lead',\n",
       "       'Prejudices against hearing aids (performance, size, image)',\n",
       "       'Benefit not supported',\n",
       "       'Communication issues (foreign language, hearing loss)',\n",
       "       'Unsupported product/service (e.g. implant, home service)',\n",
       "       'Customer passed away'], dtype=object)"
      ]
     },
     "execution_count": 93,
     "metadata": {},
     "output_type": "execute_result"
    }
   ],
   "source": [
    "df['Reason for closing of lead'].unique()"
   ]
  },
  {
   "cell_type": "code",
   "execution_count": 95,
   "metadata": {},
   "outputs": [
    {
     "data": {
      "text/plain": [
       "array(['Closed (triggered)', 'Closed (automatically)', 'Closed',\n",
       "       'Qualified', 'Call back scheduled',\n",
       "       'Follow-up to complete customer consultation', 'Open',\n",
       "       'Not reached', 'Consultation'], dtype=object)"
      ]
     },
     "execution_count": 95,
     "metadata": {},
     "output_type": "execute_result"
    }
   ],
   "source": [
    "df['Lead Status'].unique()"
   ]
  },
  {
   "cell_type": "code",
   "execution_count": 97,
   "metadata": {},
   "outputs": [
    {
     "data": {
      "text/plain": [
       "1     Low quality lead\n",
       "5     Low quality lead\n",
       "6     Low quality lead\n",
       "7     Low quality lead\n",
       "8     Low quality lead\n",
       "11    Low quality lead\n",
       "14    Low quality lead\n",
       "20    Low quality lead\n",
       "23    Low quality lead\n",
       "24    Low quality lead\n",
       "Name: Reason for closing of lead, dtype: object"
      ]
     },
     "execution_count": 97,
     "metadata": {},
     "output_type": "execute_result"
    }
   ],
   "source": [
    "df[df['Lead Status']=='Closed (automatically)'][:10]['Reason for closing of lead']"
   ]
  },
  {
   "cell_type": "code",
   "execution_count": null,
   "metadata": {},
   "outputs": [],
   "source": []
  }
 ],
 "metadata": {
  "kernelspec": {
   "display_name": "Python 3",
   "language": "python",
   "name": "python3"
  },
  "language_info": {
   "codemirror_mode": {
    "name": "ipython",
    "version": 3
   },
   "file_extension": ".py",
   "mimetype": "text/x-python",
   "name": "python",
   "nbconvert_exporter": "python",
   "pygments_lexer": "ipython3",
   "version": "3.6.4"
  }
 },
 "nbformat": 4,
 "nbformat_minor": 2
}
